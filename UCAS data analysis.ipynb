{
 "cells": [
  {
   "cell_type": "markdown",
   "id": "0c859ced",
   "metadata": {},
   "source": [
    "# UCAS data analysis"
   ]
  },
  {
   "cell_type": "markdown",
   "id": "c20c2086",
   "metadata": {},
   "source": [
    "---"
   ]
  },
  {
   "cell_type": "markdown",
   "id": "23223292",
   "metadata": {
    "ExecuteTime": {
     "end_time": "2022-04-15T12:37:43.710463Z",
     "start_time": "2022-04-15T12:37:43.703074Z"
    }
   },
   "source": [
    "## Context"
   ]
  },
  {
   "cell_type": "markdown",
   "id": "e47bbcb5",
   "metadata": {},
   "source": [
    "[Map POLAR4](https://tableau.hefce.ac.uk/t/Public/views/InteractivemapMarch2021/POLAR4)\n",
    "\n",
    "[Map Index of Multiple\n",
    "Deprivation 2019](https://assets.publishing.service.gov.uk/government/uploads/system/uploads/attachment_data/file/833959/IoD2019_Infographic.pdf)\n",
    "\n",
    "Information about POLAR4\n",
    "\n",
    "<details>\n",
    "    \n",
    "- Sources: \n",
    "    - https://www.officeforstudents.org.uk/data-and-analysis/young-participation-by-area/about-polar-and-adult-he/\n",
    "    - https://www.officeforstudents.org.uk/media/cd78246d-0072-4e2f-a25a-42ba54deea11/polar-and-tundra-faqs-september2020.pdf\n",
    "    \n",
    "- The young participation rate is calculated by dividing the number of young people from each area who enter higher education aged 18 or 19 by the young population of that area. POLAR4 was calculated using data on students who begun their studies between 2009-10 and 2013-14. The areas are then ranked by participation rate and split into five quintiles, each of which represents about a fifth of the young population. POLAR4 does not limit the student population by school type and does not track individual students. \n",
    "    \n",
    "- Area-based measures can be used:\n",
    "    - to compare areas across the UK\n",
    "    - to identify areas with the lowest young participation in higher education\n",
    "    - to evaluate whether gaps in participation have changed year on year\n",
    "    - to compare relative levels of participation in higher education across the UK\n",
    "    - as part of an assessment of the background of an individual. When making background assessments these measures should never be used alone and only with other information.\n",
    "    \n",
    "- [...] most people are more likely to enter higher education when they are young. The biggest single year of age in higher education are those who enter aged 18, and more than half of undergraduate entrants and over two-thirds of full-time undergraduate entrants are under 21. [...] Mature participation is important, but needs a different approach, considering the proportion of the population that already have a higher education qualification.\n",
    "\n",
    "- The original research for POLAR showed that, in many parts of the UK, low participation areas were also the areas with the highest measures of socio-economic disadvantage, but this was not the only factor in determining participation in higher education. Other factors that influence the level of young participation in an area include:\n",
    "    - the ethnicity profile of the area\n",
    "    - the adult education level amongst the population\n",
    "    - the relative school outcomes of the area\n",
    "    - the availability of local, accessible higher education places\n",
    "    - the availability of alternative post-school pathways.\n",
    "    \n",
    "- London is the region of the UK with the highest number of small areas that are simultaneously classified as deprived using the Index of Multiple Deprivation (IMD), and [not classified as low participation](https://www.ucas.com/file/65656/download?token=VgsvkzN7) using POLAR4 or TUNDRA.\n",
    "\n",
    "- [...] area-based measures are not a measure of socio-economic disadvantage, of either the individual or of areas.\n",
    "\n",
    "- For an area based measure such as POLAR, this may mean that participation rates for state school may be masked by higher participation rates of independent schools in the area. For outreach and access and participation programmes, this masking may mean that certain areas could be excluded from potential funding and opportunities. TUNDRA’s purpose is to reveal such areas.\n",
    "    \n",
    "</details>"
   ]
  },
  {
   "cell_type": "markdown",
   "id": "add47801",
   "metadata": {},
   "source": [
    "Observations:\n",
    "- Apart from London, areas with least participation (POLAR4 and TUNDRA) are correlated with most deprived areas (IMD) \n",
    "- Reference points: universities that appear close (±5) to UoB on [at least 2 rankings](https://en.wikipedia.org/wiki/Rankings_of_universities_in_the_United_Kingdom) (the ones marked with \\* are within ±3 places):\n",
    "    - University of Manchester *\n",
    "    - University of Sheffield *\n",
    "    - University of East Anglia *\n",
    "    - Queen's University Belfast\n",
    "    - University of Exeter\n",
    "    - University of Nottingham \n",
    "    - Heriot-Watt University\n",
    "- Models: universities that are 5-10 places higher on at least 2 rankings: \n",
    "    - King's College London\n",
    "    - University of York"
   ]
  },
  {
   "cell_type": "markdown",
   "id": "efe30e4e",
   "metadata": {},
   "source": [
    "Information on UoB's WP efforts:\n",
    "- some criticism of UoB for slashing budgets on WP efforts in recent years: https://nitter.pussthecat.org/PrecariousBrum/status/1268135554815844353"
   ]
  },
  {
   "cell_type": "markdown",
   "id": "c46454dc",
   "metadata": {},
   "source": [
    "---"
   ]
  },
  {
   "cell_type": "markdown",
   "id": "24724dea",
   "metadata": {},
   "source": [
    "## Exploratory"
   ]
  },
  {
   "cell_type": "code",
   "execution_count": 743,
   "id": "7d5519d8",
   "metadata": {
    "ExecuteTime": {
     "end_time": "2022-04-20T13:33:02.911536Z",
     "start_time": "2022-04-20T13:33:02.907078Z"
    }
   },
   "outputs": [],
   "source": [
    "import pandas as pd\n",
    "from pandas_profiling import ProfileReport\n",
    "import seaborn\n",
    "sns.set_theme()\n",
    "import altair as alt"
   ]
  },
  {
   "cell_type": "code",
   "execution_count": 725,
   "id": "b2230fa5",
   "metadata": {
    "ExecuteTime": {
     "end_time": "2022-04-20T13:32:21.845701Z",
     "start_time": "2022-04-20T13:32:21.841011Z"
    }
   },
   "outputs": [],
   "source": [
    "%matplotlib inline"
   ]
  },
  {
   "cell_type": "code",
   "execution_count": 726,
   "id": "9da4ad01",
   "metadata": {
    "ExecuteTime": {
     "end_time": "2022-04-20T13:32:22.512588Z",
     "start_time": "2022-04-20T13:32:22.212753Z"
    }
   },
   "outputs": [],
   "source": [
    "data = pd.read_csv('./UCAS_data_file.csv')"
   ]
  },
  {
   "cell_type": "code",
   "execution_count": 727,
   "id": "cc2b1909",
   "metadata": {
    "ExecuteTime": {
     "end_time": "2022-04-20T13:32:23.101677Z",
     "start_time": "2022-04-20T13:32:22.801449Z"
    },
    "scrolled": false
   },
   "outputs": [
    {
     "name": "stdout",
     "output_type": "stream",
     "text": [
      "<class 'pandas.core.frame.DataFrame'>\n",
      "RangeIndex: 386856 entries, 0 to 386855\n",
      "Data columns (total 7 columns):\n",
      " #   Column              Non-Null Count   Dtype  \n",
      "---  ------              --------------   -----  \n",
      " 0   inst_all            386856 non-null  object \n",
      " 1   INSTITUTION_CODE    386856 non-null  object \n",
      " 2   Cycle               386856 non-null  int64  \n",
      " 3   statistic           386856 non-null  object \n",
      " 4   equality_dimension  386856 non-null  object \n",
      " 5   agegroup            386856 non-null  object \n",
      " 6   value               379723 non-null  float64\n",
      "dtypes: float64(1), int64(1), object(5)\n",
      "memory usage: 20.7+ MB\n"
     ]
    }
   ],
   "source": [
    "data.info()"
   ]
  },
  {
   "cell_type": "code",
   "execution_count": 728,
   "id": "b2c579e4",
   "metadata": {
    "ExecuteTime": {
     "end_time": "2022-04-20T13:32:23.399933Z",
     "start_time": "2022-04-20T13:32:23.396475Z"
    }
   },
   "outputs": [],
   "source": [
    "# profile = ProfileReport(data, title=\"Pandas Profiling Report\")\n",
    "# profile"
   ]
  },
  {
   "cell_type": "markdown",
   "id": "b617eb0f",
   "metadata": {},
   "source": [
    "The profile generated by `pandas-profiling` tells us the following:\n",
    "\n",
    "- `inst_all` and `INSTITUTION_CODE` have a high cardinality: 132 distinct values \n",
    "- `Cycle` is a time period (year)\n",
    "- high correlation between `statistic` and `agegroup`\n",
    "- `value` has 7133 (1.8%) missing values \n",
    "- `value` has 4606 (1.2%) zeros "
   ]
  },
  {
   "cell_type": "markdown",
   "id": "99db5fea",
   "metadata": {},
   "source": [
    "---"
   ]
  },
  {
   "cell_type": "markdown",
   "id": "d8ee82f6",
   "metadata": {},
   "source": [
    "## Data cleaning"
   ]
  },
  {
   "cell_type": "markdown",
   "id": "6b31f419",
   "metadata": {},
   "source": [
    "Let's have a closer look at the columns we're working with."
   ]
  },
  {
   "cell_type": "code",
   "execution_count": 729,
   "id": "66057a89",
   "metadata": {
    "ExecuteTime": {
     "end_time": "2022-04-20T13:32:25.968716Z",
     "start_time": "2022-04-20T13:32:25.874525Z"
    }
   },
   "outputs": [
    {
     "name": "stdout",
     "output_type": "stream",
     "text": [
      "Unique values for Cycle:\n",
      "\t[2010 2011 2012 2013 2014 2015 2016 2017 2018 2019 2020 2021]\n",
      "\n",
      "Unique values for statistic:\n",
      "\t['June deadline applicants' 'Placed June deadline applicants'\n",
      " 'All placed applicants' 'June deadline applicants per 10,000 population'\n",
      " 'Placed June deadline applicants per 10,000 population'\n",
      " 'All placed applicants per 10,000 population'\n",
      " 'June deadline applications' 'Offers' 'Offer rate' 'Average offer rate'\n",
      " 'Percentage point difference between offer rate and average offer rate'\n",
      " 'Contribution of group to the average offer rate']\n",
      "\n",
      "Unique values for equality_dimension:\n",
      "\t['Total' 'White ethnic group' 'Black ethnic group' 'Asian ethnic group'\n",
      " 'Mixed ethnic group' 'Other ethnic group' 'POLAR4 Q1' 'POLAR4 Q2'\n",
      " 'POLAR4 Q3' 'POLAR4 Q4' 'POLAR4 Q5' 'SIMD 2016 Q1' 'SIMD 2016 Q2'\n",
      " 'SIMD 2016 Q3' 'SIMD 2016 Q4' 'SIMD 2016 Q5' 'Men' 'Women']\n",
      "\n",
      "Unique values for agegroup:\n",
      "\t['18 year olds' 'All ages']\n",
      "\n"
     ]
    }
   ],
   "source": [
    "for i in data.columns[2:-1]:\n",
    "    print(\n",
    "        f'Unique values for {i}:\\n'\n",
    "        f'\\t{data[i].unique()}\\n'\n",
    "    )"
   ]
  },
  {
   "cell_type": "markdown",
   "id": "faeeac2c",
   "metadata": {},
   "source": [
    "### `inst_all` and `INSTITUTION_CODE`"
   ]
  },
  {
   "cell_type": "markdown",
   "id": "3fa9b0d7",
   "metadata": {
    "ExecuteTime": {
     "end_time": "2022-04-15T09:27:50.150592Z",
     "start_time": "2022-04-15T09:27:50.146109Z"
    }
   },
   "source": [
    "We know that `inst_all` might be codified by `INSTITUTION_CODE`: after checking that, we drop `INSTITUTION_CODE`. "
   ]
  },
  {
   "cell_type": "code",
   "execution_count": 730,
   "id": "acca37f4",
   "metadata": {
    "ExecuteTime": {
     "end_time": "2022-04-20T13:32:27.639568Z",
     "start_time": "2022-04-20T13:32:27.621003Z"
    }
   },
   "outputs": [
    {
     "data": {
      "text/html": [
       "<div>\n",
       "<style scoped>\n",
       "    .dataframe tbody tr th:only-of-type {\n",
       "        vertical-align: middle;\n",
       "    }\n",
       "\n",
       "    .dataframe tbody tr th {\n",
       "        vertical-align: top;\n",
       "    }\n",
       "\n",
       "    .dataframe thead th {\n",
       "        text-align: right;\n",
       "    }\n",
       "</style>\n",
       "<table border=\"1\" class=\"dataframe\">\n",
       "  <thead>\n",
       "    <tr style=\"text-align: right;\">\n",
       "      <th></th>\n",
       "      <th>inst_all</th>\n",
       "      <th>INSTITUTION_CODE</th>\n",
       "    </tr>\n",
       "  </thead>\n",
       "  <tbody>\n",
       "    <tr>\n",
       "      <th>0</th>\n",
       "      <td>A20 University of Aberdeen</td>\n",
       "      <td>A20</td>\n",
       "    </tr>\n",
       "    <tr>\n",
       "      <th>1</th>\n",
       "      <td>A20 University of Aberdeen</td>\n",
       "      <td>A20</td>\n",
       "    </tr>\n",
       "    <tr>\n",
       "      <th>2</th>\n",
       "      <td>A20 University of Aberdeen</td>\n",
       "      <td>A20</td>\n",
       "    </tr>\n",
       "    <tr>\n",
       "      <th>3</th>\n",
       "      <td>A20 University of Aberdeen</td>\n",
       "      <td>A20</td>\n",
       "    </tr>\n",
       "    <tr>\n",
       "      <th>4</th>\n",
       "      <td>A20 University of Aberdeen</td>\n",
       "      <td>A20</td>\n",
       "    </tr>\n",
       "    <tr>\n",
       "      <th>...</th>\n",
       "      <td>...</td>\n",
       "      <td>...</td>\n",
       "    </tr>\n",
       "    <tr>\n",
       "      <th>386851</th>\n",
       "      <td>Y75 York St John University</td>\n",
       "      <td>Y75</td>\n",
       "    </tr>\n",
       "    <tr>\n",
       "      <th>386852</th>\n",
       "      <td>Y75 York St John University</td>\n",
       "      <td>Y75</td>\n",
       "    </tr>\n",
       "    <tr>\n",
       "      <th>386853</th>\n",
       "      <td>Y75 York St John University</td>\n",
       "      <td>Y75</td>\n",
       "    </tr>\n",
       "    <tr>\n",
       "      <th>386854</th>\n",
       "      <td>Y75 York St John University</td>\n",
       "      <td>Y75</td>\n",
       "    </tr>\n",
       "    <tr>\n",
       "      <th>386855</th>\n",
       "      <td>Y75 York St John University</td>\n",
       "      <td>Y75</td>\n",
       "    </tr>\n",
       "  </tbody>\n",
       "</table>\n",
       "<p>386856 rows × 2 columns</p>\n",
       "</div>"
      ],
      "text/plain": [
       "                           inst_all INSTITUTION_CODE\n",
       "0        A20 University of Aberdeen              A20\n",
       "1        A20 University of Aberdeen              A20\n",
       "2        A20 University of Aberdeen              A20\n",
       "3        A20 University of Aberdeen              A20\n",
       "4        A20 University of Aberdeen              A20\n",
       "...                             ...              ...\n",
       "386851  Y75 York St John University              Y75\n",
       "386852  Y75 York St John University              Y75\n",
       "386853  Y75 York St John University              Y75\n",
       "386854  Y75 York St John University              Y75\n",
       "386855  Y75 York St John University              Y75\n",
       "\n",
       "[386856 rows x 2 columns]"
      ]
     },
     "execution_count": 730,
     "metadata": {},
     "output_type": "execute_result"
    }
   ],
   "source": [
    "data[['inst_all', 'INSTITUTION_CODE']]"
   ]
  },
  {
   "cell_type": "code",
   "execution_count": 731,
   "id": "64869a8e",
   "metadata": {
    "ExecuteTime": {
     "end_time": "2022-04-20T13:32:28.863785Z",
     "start_time": "2022-04-20T13:32:28.698773Z"
    }
   },
   "outputs": [
    {
     "data": {
      "text/plain": [
       "True"
      ]
     },
     "execution_count": 731,
     "metadata": {},
     "output_type": "execute_result"
    }
   ],
   "source": [
    "all(data['inst_all'].apply(lambda x: x[:3]) == data['INSTITUTION_CODE'])"
   ]
  },
  {
   "cell_type": "code",
   "execution_count": 732,
   "id": "ddc110ed",
   "metadata": {
    "ExecuteTime": {
     "end_time": "2022-04-20T13:32:29.271074Z",
     "start_time": "2022-04-20T13:32:29.251678Z"
    }
   },
   "outputs": [],
   "source": [
    "data = data.drop(columns='INSTITUTION_CODE')"
   ]
  },
  {
   "cell_type": "markdown",
   "id": "0b9ccdc6",
   "metadata": {},
   "source": [
    "---"
   ]
  },
  {
   "cell_type": "markdown",
   "id": "203acff3",
   "metadata": {},
   "source": [
    "### `value`"
   ]
  },
  {
   "cell_type": "markdown",
   "id": "55064fa6",
   "metadata": {},
   "source": [
    "#### Negative values"
   ]
  },
  {
   "cell_type": "markdown",
   "id": "c6d35e77",
   "metadata": {},
   "source": [
    "Let's look at `value`. "
   ]
  },
  {
   "cell_type": "code",
   "execution_count": 733,
   "id": "17600718",
   "metadata": {
    "ExecuteTime": {
     "end_time": "2022-04-20T13:32:30.741367Z",
     "start_time": "2022-04-20T13:32:30.710551Z"
    }
   },
   "outputs": [
    {
     "data": {
      "text/plain": [
       "count    379723.000000\n",
       "mean       1311.430507\n",
       "std        3253.198768\n",
       "min         -22.700000\n",
       "25%           0.902000\n",
       "50%         110.800000\n",
       "75%        1030.000000\n",
       "max       56355.000000\n",
       "Name: value, dtype: float64"
      ]
     },
     "execution_count": 733,
     "metadata": {},
     "output_type": "execute_result"
    }
   ],
   "source": [
    "data['value'].describe()"
   ]
  },
  {
   "cell_type": "markdown",
   "id": "5fa9a4fb",
   "metadata": {},
   "source": [
    "We can see that the minimum is negative, which means that there are some negative values in this column. It looks like an input error (we're counting people after all), let's check. "
   ]
  },
  {
   "cell_type": "code",
   "execution_count": 734,
   "id": "cf77362b",
   "metadata": {
    "ExecuteTime": {
     "end_time": "2022-04-20T13:32:31.407177Z",
     "start_time": "2022-04-20T13:32:31.397142Z"
    }
   },
   "outputs": [
    {
     "data": {
      "text/plain": [
       "array(['Percentage point difference between offer rate and average offer rate'],\n",
       "      dtype=object)"
      ]
     },
     "execution_count": 734,
     "metadata": {},
     "output_type": "execute_result"
    }
   ],
   "source": [
    "data.loc[data['value'] < 0]['statistic'].unique()"
   ]
  },
  {
   "cell_type": "markdown",
   "id": "b63eff23",
   "metadata": {},
   "source": [
    "The only negative values refer to a negative percentage point difference between offer rate and average offer rate: this is not an error. "
   ]
  },
  {
   "cell_type": "markdown",
   "id": "a77a9336",
   "metadata": {},
   "source": [
    "---"
   ]
  },
  {
   "cell_type": "markdown",
   "id": "b1a57b12",
   "metadata": {},
   "source": [
    "#### Null values"
   ]
  },
  {
   "cell_type": "markdown",
   "id": "f9905699",
   "metadata": {},
   "source": [
    "We know that there's a small amount of null values: it's probable that most of these values aren't missing but simply null (no applicants of `Asian ethnic group` in a given year, for example), but we want to check whether missing values are limited to a single university or specific columns. "
   ]
  },
  {
   "cell_type": "code",
   "execution_count": 735,
   "id": "6fe7e199",
   "metadata": {
    "ExecuteTime": {
     "end_time": "2022-04-20T13:32:33.677701Z",
     "start_time": "2022-04-20T13:32:33.664517Z"
    }
   },
   "outputs": [
    {
     "name": "stdout",
     "output_type": "stream",
     "text": [
      "Unique values for inst_all:\n",
      "\t['A20 University of Aberdeen' 'A30 Abertay University'\n",
      " 'A40 Aberystwyth University' 'A60 Anglia Ruskin University'\n",
      " 'A66 Arts University Bournemouth' 'A80 Aston University Birmingham'\n",
      " 'B06 Bangor University' 'B16 University of Bath'\n",
      " 'B20 Bath Spa University' 'B22 University of Bedfordshire'\n",
      " 'B25 Birmingham City University' 'B35 University College Birmingham'\n",
      " 'B38 Bishop Grosseteste University' 'B44 University of Bolton'\n",
      " 'B50 Bournemouth University' 'B56 University of Bradford'\n",
      " 'B72 University of Brighton' 'B78 University of Bristol'\n",
      " 'B80 Bristol University of the West of England'\n",
      " 'B84 Brunel University London' 'B94 Buckinghamshire New University'\n",
      " 'C05 University of Cambridge' 'C10 Canterbury Christ Church University'\n",
      " 'C15 Cardiff University' 'C20 Cardiff Metropolitan University'\n",
      " 'C30 University of Central Lancashire' 'C55 University of Chester'\n",
      " 'C58 University of Chichester' 'C60 City University of London'\n",
      " 'C85 Coventry University' 'C93 University for the Creative Arts'\n",
      " 'C99 University of Cumbria' 'D26 De Montfort University'\n",
      " 'D39 University of Derby' 'D65 University of Dundee'\n",
      " 'D86 Durham University' 'E14 University of East Anglia UEA'\n",
      " 'E28 University of East London' 'E42 Edge Hill University'\n",
      " 'E56 The University of Edinburgh' 'E59 Edinburgh Napier University'\n",
      " 'E70 University of Essex' 'E84 University of Exeter'\n",
      " 'F33 Falmouth University' 'G28 University of Glasgow'\n",
      " 'G42 Glasgow Caledonian University' 'G50 University of Gloucestershire'\n",
      " 'G53 Glyndwr University Wrexham' 'G56 Goldsmiths University of London'\n",
      " 'G70 University of Greenwich' 'H12 Harper Adams University'\n",
      " 'H24 Heriot-Watt University' 'H36 University of Hertfordshire'\n",
      " 'H49 University of the Highlands and Islands (UHI)'\n",
      " 'H60 University of Huddersfield' 'H72 University of Hull'\n",
      " 'K12 Keele University' 'K24 University of Kent'\n",
      " 'K60 Kings College London University of London' 'K84 Kingston University'\n",
      " 'L14 Lancaster University' 'L23 University of Leeds'\n",
      " 'L24 Leeds Trinity University' 'L27 Leeds Beckett University'\n",
      " 'L28 Leeds Arts University' 'L34 University of Leicester'\n",
      " 'L39 University of Lincoln' 'L41 University of Liverpool'\n",
      " 'L46 Liverpool Hope University' 'L51 Liverpool John Moores University'\n",
      " 'L68 London Metropolitan University'\n",
      " 'L72 London School of Economics and Political Sci (UOL)'\n",
      " 'L75 London South Bank University' 'L79 Loughborough University'\n",
      " 'M20 University of Manchester' 'M40 Manchester Metropolitan University'\n",
      " 'M80 Middlesex University' 'N21 Newcastle University'\n",
      " 'N36 Newman University Birmingham' 'N38 University of Northampton'\n",
      " 'N39 Norwich University of the Arts'\n",
      " 'N77 Northumbria University Newcastle' 'N84 University of Nottingham'\n",
      " 'N91 Nottingham Trent University' 'O33 University of Oxford'\n",
      " 'O66 Oxford Brookes University' 'P60 University of Plymouth'\n",
      " 'P63 Plymouth Marjon University' 'P65 Plymouth College of Art'\n",
      " 'P80 University of Portsmouth' 'Q25 Queen Margaret University Edinburgh'\n",
      " 'Q50 Queen Mary University of London' 'Q75 Queens University Belfast'\n",
      " 'R06 Ravensbourne University London' 'R12 University of Reading'\n",
      " 'R36 Robert Gordon University' 'R48 University of Roehampton'\n",
      " 'R72 Royal Holloway University of London' 'S03 University of Salford'\n",
      " 'S09 SOAS University of London' 'S18 University of Sheffield'\n",
      " 'S21 Sheffield Hallam University' 'S27 University of Southampton'\n",
      " 'S30 Solent University (Southampton)' 'S36 University of St Andrews'\n",
      " 'S64 St Marys University Twickenham' 'S72 Staffordshire University'\n",
      " 'S75 University of Stirling' 'S78 University of Strathclyde'\n",
      " 'S82 University of Suffolk' 'S84 University of Sunderland'\n",
      " 'S85 University of Surrey' 'S90 University of Sussex'\n",
      " 'S93 Swansea University' 'T20 Teesside University Middlesbrough'\n",
      " 'T80 University of Wales Trinity Saint David' 'U20 Ulster University'\n",
      " 'U40 University of the West of Scotland'\n",
      " 'U65 University of the Arts London' 'U80 UCL (University College London)'\n",
      " 'W01 University of South Wales' 'W05 University of West London'\n",
      " 'W20 University of Warwick' 'W50 University of Westminster London'\n",
      " 'W75 University of Wolverhampton' 'W76 University of Winchester'\n",
      " 'W80 University of Worcester' 'Y50 University of York'\n",
      " 'Y75 York St John University']\n",
      "\n",
      "Unique values for Cycle:\n",
      "\t[2011 2013 2010 2014 2015 2018 2019 2012 2016 2017 2020 2021]\n",
      "\n",
      "Unique values for statistic:\n",
      "\t['Placed June deadline applicants' 'All placed applicants'\n",
      " 'Placed June deadline applicants per 10,000 population'\n",
      " 'All placed applicants per 10,000 population'\n",
      " 'Percentage point difference between offer rate and average offer rate'\n",
      " 'June deadline applicants'\n",
      " 'June deadline applicants per 10,000 population'\n",
      " 'June deadline applications' 'Offers' 'Offer rate']\n",
      "\n",
      "Unique values for equality_dimension:\n",
      "\t['Other ethnic group' 'Black ethnic group' 'Mixed ethnic group'\n",
      " 'POLAR4 Q2' 'Women' 'POLAR4 Q3' 'SIMD 2016 Q5' 'White ethnic group'\n",
      " 'POLAR4 Q4' 'POLAR4 Q1' 'POLAR4 Q5' 'Men' 'Total' 'Asian ethnic group'\n",
      " 'SIMD 2016 Q3' 'SIMD 2016 Q2' 'SIMD 2016 Q4']\n",
      "\n",
      "Unique values for agegroup:\n",
      "\t['18 year olds' 'All ages']\n",
      "\n"
     ]
    }
   ],
   "source": [
    "data_null = data.loc[data[\"value\"] == 0]\n",
    "\n",
    "for i in data_null.columns[:-1]:\n",
    "    print(\n",
    "        f'Unique values for {i}:\\n'\n",
    "        f'\\t{data_null[i].unique()}\\n'\n",
    "    )"
   ]
  },
  {
   "cell_type": "markdown",
   "id": "1ba29b1e",
   "metadata": {},
   "source": [
    "Doesn't seem like the problem is with a single university. "
   ]
  },
  {
   "cell_type": "markdown",
   "id": "0e67d822",
   "metadata": {},
   "source": [
    "Let's check whether any university has all null values:"
   ]
  },
  {
   "cell_type": "code",
   "execution_count": 736,
   "id": "faa592f1",
   "metadata": {
    "ExecuteTime": {
     "end_time": "2022-04-20T13:32:35.060620Z",
     "start_time": "2022-04-20T13:32:34.779926Z"
    }
   },
   "outputs": [
    {
     "data": {
      "text/html": [
       "<div>\n",
       "<style scoped>\n",
       "    .dataframe tbody tr th:only-of-type {\n",
       "        vertical-align: middle;\n",
       "    }\n",
       "\n",
       "    .dataframe tbody tr th {\n",
       "        vertical-align: top;\n",
       "    }\n",
       "\n",
       "    .dataframe thead th {\n",
       "        text-align: right;\n",
       "    }\n",
       "</style>\n",
       "<table border=\"1\" class=\"dataframe\">\n",
       "  <thead>\n",
       "    <tr style=\"text-align: right;\">\n",
       "      <th></th>\n",
       "      <th>inst_all</th>\n",
       "      <th>value</th>\n",
       "    </tr>\n",
       "  </thead>\n",
       "  <tbody>\n",
       "    <tr>\n",
       "      <th>0</th>\n",
       "      <td>P65 Plymouth College of Art</td>\n",
       "      <td>1410</td>\n",
       "    </tr>\n",
       "    <tr>\n",
       "      <th>1</th>\n",
       "      <td>B38 Bishop Grosseteste University</td>\n",
       "      <td>2080</td>\n",
       "    </tr>\n",
       "    <tr>\n",
       "      <th>2</th>\n",
       "      <td>G53 Glyndwr University Wrexham</td>\n",
       "      <td>2350</td>\n",
       "    </tr>\n",
       "    <tr>\n",
       "      <th>3</th>\n",
       "      <td>H12 Harper Adams University</td>\n",
       "      <td>3070</td>\n",
       "    </tr>\n",
       "    <tr>\n",
       "      <th>4</th>\n",
       "      <td>N39 Norwich University of the Arts</td>\n",
       "      <td>3160</td>\n",
       "    </tr>\n",
       "    <tr>\n",
       "      <th>...</th>\n",
       "      <td>...</td>\n",
       "      <td>...</td>\n",
       "    </tr>\n",
       "    <tr>\n",
       "      <th>127</th>\n",
       "      <td>N84 University of Nottingham</td>\n",
       "      <td>46325</td>\n",
       "    </tr>\n",
       "    <tr>\n",
       "      <th>128</th>\n",
       "      <td>S21 Sheffield Hallam University</td>\n",
       "      <td>47990</td>\n",
       "    </tr>\n",
       "    <tr>\n",
       "      <th>129</th>\n",
       "      <td>L23 University of Leeds</td>\n",
       "      <td>50155</td>\n",
       "    </tr>\n",
       "    <tr>\n",
       "      <th>130</th>\n",
       "      <td>M40 Manchester Metropolitan University</td>\n",
       "      <td>54965</td>\n",
       "    </tr>\n",
       "    <tr>\n",
       "      <th>131</th>\n",
       "      <td>M20 University of Manchester</td>\n",
       "      <td>56355</td>\n",
       "    </tr>\n",
       "  </tbody>\n",
       "</table>\n",
       "<p>132 rows × 2 columns</p>\n",
       "</div>"
      ],
      "text/plain": [
       "                                   inst_all  value\n",
       "0               P65 Plymouth College of Art   1410\n",
       "1         B38 Bishop Grosseteste University   2080\n",
       "2            G53 Glyndwr University Wrexham   2350\n",
       "3               H12 Harper Adams University   3070\n",
       "4        N39 Norwich University of the Arts   3160\n",
       "..                                      ...    ...\n",
       "127            N84 University of Nottingham  46325\n",
       "128         S21 Sheffield Hallam University  47990\n",
       "129                 L23 University of Leeds  50155\n",
       "130  M40 Manchester Metropolitan University  54965\n",
       "131            M20 University of Manchester  56355\n",
       "\n",
       "[132 rows x 2 columns]"
      ]
     },
     "execution_count": 736,
     "metadata": {},
     "output_type": "execute_result"
    }
   ],
   "source": [
    "data.groupby('inst_all').max()['value'].apply(int).sort_values().reset_index()"
   ]
  },
  {
   "cell_type": "code",
   "execution_count": 737,
   "id": "0baa1e6a",
   "metadata": {
    "ExecuteTime": {
     "end_time": "2022-04-20T13:32:36.105091Z",
     "start_time": "2022-04-20T13:32:35.406515Z"
    }
   },
   "outputs": [
    {
     "data": {
      "text/html": [
       "<div>\n",
       "<style scoped>\n",
       "    .dataframe tbody tr th:only-of-type {\n",
       "        vertical-align: middle;\n",
       "    }\n",
       "\n",
       "    .dataframe tbody tr th {\n",
       "        vertical-align: top;\n",
       "    }\n",
       "\n",
       "    .dataframe thead th {\n",
       "        text-align: right;\n",
       "    }\n",
       "</style>\n",
       "<table border=\"1\" class=\"dataframe\">\n",
       "  <thead>\n",
       "    <tr style=\"text-align: right;\">\n",
       "      <th></th>\n",
       "      <th>inst_all</th>\n",
       "      <th>Cycle</th>\n",
       "      <th>value</th>\n",
       "    </tr>\n",
       "  </thead>\n",
       "  <tbody>\n",
       "    <tr>\n",
       "      <th>4</th>\n",
       "      <td>A66 Arts University Bournemouth</td>\n",
       "      <td>2010</td>\n",
       "      <td>0.0</td>\n",
       "    </tr>\n",
       "    <tr>\n",
       "      <th>123</th>\n",
       "      <td>W01 University of South Wales</td>\n",
       "      <td>2010</td>\n",
       "      <td>0.0</td>\n",
       "    </tr>\n",
       "    <tr>\n",
       "      <th>255</th>\n",
       "      <td>W01 University of South Wales</td>\n",
       "      <td>2011</td>\n",
       "      <td>0.0</td>\n",
       "    </tr>\n",
       "    <tr>\n",
       "      <th>387</th>\n",
       "      <td>W01 University of South Wales</td>\n",
       "      <td>2012</td>\n",
       "      <td>0.0</td>\n",
       "    </tr>\n",
       "    <tr>\n",
       "      <th>519</th>\n",
       "      <td>W01 University of South Wales</td>\n",
       "      <td>2013</td>\n",
       "      <td>0.0</td>\n",
       "    </tr>\n",
       "    <tr>\n",
       "      <th>124</th>\n",
       "      <td>W05 University of West London</td>\n",
       "      <td>2010</td>\n",
       "      <td>0.0</td>\n",
       "    </tr>\n",
       "    <tr>\n",
       "      <th>256</th>\n",
       "      <td>W05 University of West London</td>\n",
       "      <td>2011</td>\n",
       "      <td>0.0</td>\n",
       "    </tr>\n",
       "  </tbody>\n",
       "</table>\n",
       "</div>"
      ],
      "text/plain": [
       "                            inst_all  Cycle  value\n",
       "4    A66 Arts University Bournemouth   2010    0.0\n",
       "123    W01 University of South Wales   2010    0.0\n",
       "255    W01 University of South Wales   2011    0.0\n",
       "387    W01 University of South Wales   2012    0.0\n",
       "519    W01 University of South Wales   2013    0.0\n",
       "124    W05 University of West London   2010    0.0\n",
       "256    W05 University of West London   2011    0.0"
      ]
     },
     "execution_count": 737,
     "metadata": {},
     "output_type": "execute_result"
    }
   ],
   "source": [
    "data.groupby(['Cycle', 'inst_all']).max()\\\n",
    ".reset_index().reindex(columns=['inst_all', 'Cycle', 'value'])\\\n",
    ".sort_values(['value', 'inst_all', 'Cycle'])\\\n",
    ".loc[lambda x: x['value'] == 0]"
   ]
  },
  {
   "cell_type": "markdown",
   "id": "22e26e45",
   "metadata": {},
   "source": [
    "We can see that A66, W01, and W05 seemingly are missing some values for the first few years of the dataset: we could drop only the missing years, but, given that these 3 universities represent a very small part of the data, we can afford to drop them entirely without it affecting our analysis. "
   ]
  },
  {
   "cell_type": "code",
   "execution_count": 738,
   "id": "c1adb4ee",
   "metadata": {
    "ExecuteTime": {
     "end_time": "2022-04-20T13:32:37.537168Z",
     "start_time": "2022-04-20T13:32:37.138161Z"
    }
   },
   "outputs": [],
   "source": [
    "data = data.loc[\n",
    "    ~data['inst_all'].str.startswith('A66')\n",
    "    & ~data['inst_all'].str.startswith('W01')\n",
    "    & ~data['inst_all'].str.startswith('W05')\n",
    "]"
   ]
  },
  {
   "cell_type": "markdown",
   "id": "7391e0a6",
   "metadata": {},
   "source": [
    "---"
   ]
  },
  {
   "cell_type": "markdown",
   "id": "f2b1a589",
   "metadata": {},
   "source": [
    "#### Missing values"
   ]
  },
  {
   "cell_type": "markdown",
   "id": "69c88b30",
   "metadata": {},
   "source": [
    "We also know that there are some missing values. "
   ]
  },
  {
   "cell_type": "code",
   "execution_count": 739,
   "id": "2179274b",
   "metadata": {
    "ExecuteTime": {
     "end_time": "2022-04-20T13:32:39.620647Z",
     "start_time": "2022-04-20T13:32:39.607764Z"
    }
   },
   "outputs": [
    {
     "name": "stdout",
     "output_type": "stream",
     "text": [
      "Unique values for inst_all:\n",
      "\t['A20 University of Aberdeen' 'A30 Abertay University'\n",
      " 'A40 Aberystwyth University' 'A60 Anglia Ruskin University'\n",
      " 'A80 Aston University Birmingham' 'B06 Bangor University'\n",
      " 'B16 University of Bath' 'B20 Bath Spa University'\n",
      " 'B22 University of Bedfordshire' 'B25 Birmingham City University'\n",
      " 'B32 University of Birmingham' 'B35 University College Birmingham'\n",
      " 'B38 Bishop Grosseteste University' 'B44 University of Bolton'\n",
      " 'B50 Bournemouth University' 'B56 University of Bradford'\n",
      " 'B72 University of Brighton' 'B78 University of Bristol'\n",
      " 'B80 Bristol University of the West of England'\n",
      " 'B84 Brunel University London' 'B94 Buckinghamshire New University'\n",
      " 'C05 University of Cambridge' 'C10 Canterbury Christ Church University'\n",
      " 'C15 Cardiff University' 'C20 Cardiff Metropolitan University'\n",
      " 'C30 University of Central Lancashire' 'C55 University of Chester'\n",
      " 'C58 University of Chichester' 'C60 City University of London'\n",
      " 'C85 Coventry University' 'C93 University for the Creative Arts'\n",
      " 'C99 University of Cumbria' 'D26 De Montfort University'\n",
      " 'D39 University of Derby' 'D65 University of Dundee'\n",
      " 'D86 Durham University' 'E14 University of East Anglia UEA'\n",
      " 'E28 University of East London' 'E42 Edge Hill University'\n",
      " 'E56 The University of Edinburgh' 'E59 Edinburgh Napier University'\n",
      " 'E70 University of Essex' 'E84 University of Exeter'\n",
      " 'F33 Falmouth University' 'G28 University of Glasgow'\n",
      " 'G42 Glasgow Caledonian University' 'G50 University of Gloucestershire'\n",
      " 'G53 Glyndwr University Wrexham' 'G56 Goldsmiths University of London'\n",
      " 'G70 University of Greenwich' 'H12 Harper Adams University'\n",
      " 'H24 Heriot-Watt University' 'H36 University of Hertfordshire'\n",
      " 'H49 University of the Highlands and Islands (UHI)'\n",
      " 'H60 University of Huddersfield' 'H72 University of Hull'\n",
      " 'I50 Imperial College London' 'K12 Keele University'\n",
      " 'K24 University of Kent' 'K60 Kings College London University of London'\n",
      " 'K84 Kingston University' 'L14 Lancaster University'\n",
      " 'L23 University of Leeds' 'L24 Leeds Trinity University'\n",
      " 'L27 Leeds Beckett University' 'L28 Leeds Arts University'\n",
      " 'L34 University of Leicester' 'L39 University of Lincoln'\n",
      " 'L41 University of Liverpool' 'L46 Liverpool Hope University'\n",
      " 'L51 Liverpool John Moores University'\n",
      " 'L68 London Metropolitan University'\n",
      " 'L72 London School of Economics and Political Sci (UOL)'\n",
      " 'L75 London South Bank University' 'L79 Loughborough University'\n",
      " 'M20 University of Manchester' 'M40 Manchester Metropolitan University'\n",
      " 'M80 Middlesex University' 'N21 Newcastle University'\n",
      " 'N36 Newman University Birmingham' 'N38 University of Northampton'\n",
      " 'N39 Norwich University of the Arts'\n",
      " 'N77 Northumbria University Newcastle' 'N84 University of Nottingham'\n",
      " 'N91 Nottingham Trent University' 'O33 University of Oxford'\n",
      " 'O66 Oxford Brookes University' 'P60 University of Plymouth'\n",
      " 'P63 Plymouth Marjon University' 'P65 Plymouth College of Art'\n",
      " 'P80 University of Portsmouth' 'Q25 Queen Margaret University Edinburgh'\n",
      " 'Q50 Queen Mary University of London' 'Q75 Queens University Belfast'\n",
      " 'R06 Ravensbourne University London' 'R12 University of Reading'\n",
      " 'R36 Robert Gordon University' 'R48 University of Roehampton'\n",
      " 'R72 Royal Holloway University of London' 'S03 University of Salford'\n",
      " 'S09 SOAS University of London' 'S18 University of Sheffield'\n",
      " 'S21 Sheffield Hallam University' 'S27 University of Southampton'\n",
      " 'S30 Solent University (Southampton)' 'S36 University of St Andrews'\n",
      " 'S49 St Georges University of London'\n",
      " 'S64 St Marys University Twickenham' 'S72 Staffordshire University'\n",
      " 'S75 University of Stirling' 'S78 University of Strathclyde'\n",
      " 'S82 University of Suffolk' 'S84 University of Sunderland'\n",
      " 'S85 University of Surrey' 'S90 University of Sussex'\n",
      " 'S93 Swansea University' 'T20 Teesside University Middlesbrough'\n",
      " 'T80 University of Wales Trinity Saint David' 'U20 Ulster University'\n",
      " 'U40 University of the West of Scotland'\n",
      " 'U65 University of the Arts London' 'U80 UCL (University College London)'\n",
      " 'W20 University of Warwick' 'W50 University of Westminster London'\n",
      " 'W75 University of Wolverhampton' 'W76 University of Winchester'\n",
      " 'W80 University of Worcester' 'Y50 University of York'\n",
      " 'Y75 York St John University']\n",
      "\n",
      "Unique values for Cycle:\n",
      "\t[2010 2011 2012 2013 2014 2015 2016 2017 2018 2019 2020 2021]\n",
      "\n",
      "Unique values for statistic:\n",
      "\t['Average offer rate'\n",
      " 'Percentage point difference between offer rate and average offer rate'\n",
      " 'Contribution of group to the average offer rate' 'Offer rate']\n",
      "\n",
      "Unique values for equality_dimension:\n",
      "\t['Total' 'Other ethnic group' 'Black ethnic group' 'Asian ethnic group'\n",
      " 'Mixed ethnic group' 'POLAR4 Q1' 'SIMD 2016 Q1' 'POLAR4 Q2'\n",
      " 'SIMD 2016 Q2' 'SIMD 2016 Q5' 'POLAR4 Q5']\n",
      "\n",
      "Unique values for agegroup:\n",
      "\t['18 year olds' 'All ages']\n",
      "\n"
     ]
    }
   ],
   "source": [
    "data_na = data.loc[data['value'].isna()]\n",
    "\n",
    "for i in data_na.columns[:-1]:\n",
    "    print(\n",
    "        f'Unique values for {i}:\\n'\n",
    "        f'\\t{data_na[i].unique()}\\n'\n",
    "    )"
   ]
  },
  {
   "cell_type": "markdown",
   "id": "d831fd44",
   "metadata": {},
   "source": [
    "The missing values can be found in all universities, but are limited to the `statistic` values `Average offer rate`, `Percentage point difference between offer rate and average offer rate`, `Contribution of group to the average offer rate`, and `Offer rate`. "
   ]
  },
  {
   "cell_type": "markdown",
   "id": "43b4f956",
   "metadata": {},
   "source": [
    "In theory, these missing values can be determined from the data. For example, after reading the UCAS dataset guidelines and playing with the values, we determine the following:\n",
    "\n",
    "- $\\text{Offer rate} = \\frac{\\text{Offers}}{\\text{June deadline applicants}}$\n",
    "\n",
    "- $\\text{Percentage point difference between offer rate and average offer rate} = \\text{(Offer rate - Average offer rate)} * 100$"
   ]
  },
  {
   "cell_type": "markdown",
   "id": "32f56c55",
   "metadata": {},
   "source": [
    "However, we'll leave the missing values for now, as we're unlikely to be looking into them in our analysis. "
   ]
  },
  {
   "cell_type": "markdown",
   "id": "ed50a237",
   "metadata": {},
   "source": [
    "---"
   ]
  },
  {
   "cell_type": "markdown",
   "id": "3bdce478",
   "metadata": {},
   "source": [
    "### `agegroup`"
   ]
  },
  {
   "cell_type": "markdown",
   "id": "7854509b",
   "metadata": {
    "ExecuteTime": {
     "end_time": "2022-04-17T08:54:08.522943Z",
     "start_time": "2022-04-17T08:54:08.515829Z"
    }
   },
   "source": [
    "Let's check whether we can afford looking at 18 year olds only. \n",
    "\n",
    "If `18 years old` represents the majority of values, we can drop the `All ages` rows. "
   ]
  },
  {
   "cell_type": "code",
   "execution_count": 740,
   "id": "1ea74718",
   "metadata": {
    "ExecuteTime": {
     "end_time": "2022-04-20T13:32:43.732347Z",
     "start_time": "2022-04-20T13:32:43.364851Z"
    },
    "scrolled": false
   },
   "outputs": [
    {
     "data": {
      "text/html": [
       "<div>\n",
       "<style scoped>\n",
       "    .dataframe tbody tr th:only-of-type {\n",
       "        vertical-align: middle;\n",
       "    }\n",
       "\n",
       "    .dataframe tbody tr th {\n",
       "        vertical-align: top;\n",
       "    }\n",
       "\n",
       "    .dataframe thead th {\n",
       "        text-align: right;\n",
       "    }\n",
       "</style>\n",
       "<table border=\"1\" class=\"dataframe\">\n",
       "  <thead>\n",
       "    <tr style=\"text-align: right;\">\n",
       "      <th></th>\n",
       "      <th>inst_all</th>\n",
       "      <th>Cycle</th>\n",
       "      <th>statistic</th>\n",
       "      <th>value_18yo</th>\n",
       "      <th>value_all</th>\n",
       "      <th>18yo_proportion</th>\n",
       "    </tr>\n",
       "  </thead>\n",
       "  <tbody>\n",
       "    <tr>\n",
       "      <th>513</th>\n",
       "      <td>B22 University of Bedfordshire</td>\n",
       "      <td>2019</td>\n",
       "      <td>All placed applicants</td>\n",
       "      <td>470.0</td>\n",
       "      <td>4685.0</td>\n",
       "      <td>0.100320</td>\n",
       "    </tr>\n",
       "    <tr>\n",
       "      <th>2853</th>\n",
       "      <td>G53 Glyndwr University Wrexham</td>\n",
       "      <td>2019</td>\n",
       "      <td>All placed applicants</td>\n",
       "      <td>90.0</td>\n",
       "      <td>800.0</td>\n",
       "      <td>0.112500</td>\n",
       "    </tr>\n",
       "    <tr>\n",
       "      <th>2852</th>\n",
       "      <td>G53 Glyndwr University Wrexham</td>\n",
       "      <td>2018</td>\n",
       "      <td>All placed applicants</td>\n",
       "      <td>90.0</td>\n",
       "      <td>785.0</td>\n",
       "      <td>0.114650</td>\n",
       "    </tr>\n",
       "    <tr>\n",
       "      <th>1234</th>\n",
       "      <td>B94 Buckinghamshire New University</td>\n",
       "      <td>2020</td>\n",
       "      <td>All placed applicants</td>\n",
       "      <td>340.0</td>\n",
       "      <td>2960.0</td>\n",
       "      <td>0.114865</td>\n",
       "    </tr>\n",
       "    <tr>\n",
       "      <th>6694</th>\n",
       "      <td>S82 University of Suffolk</td>\n",
       "      <td>2020</td>\n",
       "      <td>All placed applicants</td>\n",
       "      <td>345.0</td>\n",
       "      <td>2965.0</td>\n",
       "      <td>0.116358</td>\n",
       "    </tr>\n",
       "    <tr>\n",
       "      <th>...</th>\n",
       "      <td>...</td>\n",
       "      <td>...</td>\n",
       "      <td>...</td>\n",
       "      <td>...</td>\n",
       "      <td>...</td>\n",
       "      <td>...</td>\n",
       "    </tr>\n",
       "    <tr>\n",
       "      <th>7378</th>\n",
       "      <td>W20 University of Warwick</td>\n",
       "      <td>2020</td>\n",
       "      <td>Offers</td>\n",
       "      <td>15240.0</td>\n",
       "      <td>17350.0</td>\n",
       "      <td>0.878386</td>\n",
       "    </tr>\n",
       "    <tr>\n",
       "      <th>3394</th>\n",
       "      <td>I50 Imperial College London</td>\n",
       "      <td>2020</td>\n",
       "      <td>All placed applicants</td>\n",
       "      <td>1465.0</td>\n",
       "      <td>1660.0</td>\n",
       "      <td>0.882530</td>\n",
       "    </tr>\n",
       "    <tr>\n",
       "      <th>3417</th>\n",
       "      <td>I50 Imperial College London</td>\n",
       "      <td>2019</td>\n",
       "      <td>Offers</td>\n",
       "      <td>3455.0</td>\n",
       "      <td>3910.0</td>\n",
       "      <td>0.883632</td>\n",
       "    </tr>\n",
       "    <tr>\n",
       "      <th>3418</th>\n",
       "      <td>I50 Imperial College London</td>\n",
       "      <td>2020</td>\n",
       "      <td>Offers</td>\n",
       "      <td>3700.0</td>\n",
       "      <td>4180.0</td>\n",
       "      <td>0.885167</td>\n",
       "    </tr>\n",
       "    <tr>\n",
       "      <th>419</th>\n",
       "      <td>B16 University of Bath</td>\n",
       "      <td>2021</td>\n",
       "      <td>Offers</td>\n",
       "      <td>12585.0</td>\n",
       "      <td>14165.0</td>\n",
       "      <td>0.888457</td>\n",
       "    </tr>\n",
       "  </tbody>\n",
       "</table>\n",
       "<p>7740 rows × 6 columns</p>\n",
       "</div>"
      ],
      "text/plain": [
       "                                inst_all  Cycle              statistic  \\\n",
       "513       B22 University of Bedfordshire   2019  All placed applicants   \n",
       "2853      G53 Glyndwr University Wrexham   2019  All placed applicants   \n",
       "2852      G53 Glyndwr University Wrexham   2018  All placed applicants   \n",
       "1234  B94 Buckinghamshire New University   2020  All placed applicants   \n",
       "6694           S82 University of Suffolk   2020  All placed applicants   \n",
       "...                                  ...    ...                    ...   \n",
       "7378           W20 University of Warwick   2020                 Offers   \n",
       "3394         I50 Imperial College London   2020  All placed applicants   \n",
       "3417         I50 Imperial College London   2019                 Offers   \n",
       "3418         I50 Imperial College London   2020                 Offers   \n",
       "419               B16 University of Bath   2021                 Offers   \n",
       "\n",
       "      value_18yo  value_all  18yo_proportion  \n",
       "513        470.0     4685.0         0.100320  \n",
       "2853        90.0      800.0         0.112500  \n",
       "2852        90.0      785.0         0.114650  \n",
       "1234       340.0     2960.0         0.114865  \n",
       "6694       345.0     2965.0         0.116358  \n",
       "...          ...        ...              ...  \n",
       "7378     15240.0    17350.0         0.878386  \n",
       "3394      1465.0     1660.0         0.882530  \n",
       "3417      3455.0     3910.0         0.883632  \n",
       "3418      3700.0     4180.0         0.885167  \n",
       "419      12585.0    14165.0         0.888457  \n",
       "\n",
       "[7740 rows x 6 columns]"
      ]
     },
     "execution_count": 740,
     "metadata": {},
     "output_type": "execute_result"
    }
   ],
   "source": [
    "# create dataframe that contains totals for each statistic\n",
    "# and only the absolute values (we drop rates, percentages, etc.)\n",
    "agegroup_data = data.loc[\n",
    "    (data['equality_dimension'] == 'Total')\n",
    "    & (~data['statistic'].str.contains('|'.join(['per 10', 'rate', 'percent'])))\n",
    "].drop(\n",
    "    columns='equality_dimension'\n",
    ")\n",
    "\n",
    "# create separate dataframes for `18 years old` and `All ages`\n",
    "agegroup_18_data = agegroup_data.loc[agegroup_data['agegroup'] == '18 year olds'].drop(columns='agegroup')\n",
    "agegroup_all_data = agegroup_data.loc[agegroup_data['agegroup'] != '18 year olds'].drop(columns='agegroup')\n",
    "\n",
    "# merge the above dataframes (left join on non-value columns)\n",
    "agegroups_data = pd.merge(\n",
    "    agegroup_18_data,\n",
    "    agegroup_all_data,\n",
    "    how='right',\n",
    "    left_on=['inst_all', 'Cycle', 'statistic'],\n",
    "    right_on=['inst_all', 'Cycle', 'statistic'],\n",
    "    suffixes=('_18yo', '_all')\n",
    ")\n",
    "\n",
    "# create column with ratio of `18 years old` compared to `All ages`\n",
    "agegroups_data['18yo_proportion'] = agegroups_data['value_18yo'] / agegroups_data['value_all']\n",
    "\n",
    "agegroups_data.sort_values('18yo_proportion')"
   ]
  },
  {
   "cell_type": "code",
   "execution_count": 744,
   "id": "e6695a7a",
   "metadata": {
    "ExecuteTime": {
     "end_time": "2022-04-20T13:33:09.676720Z",
     "start_time": "2022-04-20T13:33:09.360424Z"
    }
   },
   "outputs": [
    {
     "data": {
      "text/plain": [
       "<AxesSubplot:xlabel='18yo_proportion', ylabel='Percent'>"
      ]
     },
     "execution_count": 744,
     "metadata": {},
     "output_type": "execute_result"
    },
    {
     "data": {
      "image/png": "[encoded data removed]",
      "text/plain": [
       "<Figure size 432x288 with 1 Axes>"
      ]
     },
     "metadata": {},
     "output_type": "display_data"
    }
   ],
   "source": [
    "# histogram of proportion of 18yo for `statistic` measures\n",
    "sns.histplot(data=agegroups_data.dropna()['18yo_proportion'], stat='percent')"
   ]
  },
  {
   "cell_type": "markdown",
   "id": "07290bdc",
   "metadata": {},
   "source": [
    "It seems that, for most `statistic` measures, `18 years old` represents 40-70% of `All ages`. \n",
    "\n",
    "We'll lose a large amount of information by only looking at 18yo applicants. However, the data task specifically requires to advise UoB on the effects of WP policies on the participation of Year 13 students, which are largely 18yo. Moreover, [OfS states](https://www.officeforstudents.org.uk/media/cd78246d-0072-4e2f-a25a-42ba54deea11/polar-and-tundra-faqs-september2020.pdf) that \"The biggest single year of age in higher education are those who enter aged 18 [...] Mature participation is important, but needs a different approach, considering the proportion of the population that already have a higher education qualification.\"\n",
    "\n",
    "Consequently, we drop `All ages` and only focus on `18 year olds`. "
   ]
  },
  {
   "cell_type": "code",
   "execution_count": 745,
   "id": "95477a37",
   "metadata": {
    "ExecuteTime": {
     "end_time": "2022-04-20T13:33:11.196094Z",
     "start_time": "2022-04-20T13:33:11.143390Z"
    }
   },
   "outputs": [],
   "source": [
    "data = data.loc[data['agegroup'] != 'All ages'].reset_index(drop=True)"
   ]
  },
  {
   "cell_type": "markdown",
   "id": "6c58ec97",
   "metadata": {},
   "source": [
    "---"
   ]
  },
  {
   "cell_type": "markdown",
   "id": "442fe587",
   "metadata": {},
   "source": [
    "### `equality_dimension`"
   ]
  },
  {
   "cell_type": "markdown",
   "id": "a9c4b99c",
   "metadata": {},
   "source": [
    "Let's have a closer look at the `equality_dimension` column. "
   ]
  },
  {
   "cell_type": "code",
   "execution_count": 746,
   "id": "16a7f2a4",
   "metadata": {
    "ExecuteTime": {
     "end_time": "2022-04-20T13:33:14.012983Z",
     "start_time": "2022-04-20T13:33:13.970840Z"
    }
   },
   "outputs": [
    {
     "name": "stdout",
     "output_type": "stream",
     "text": [
      "ethnicity_cols:\n",
      "\t['White ethnic group', 'Black ethnic group', 'Asian ethnic group', 'Mixed ethnic group', 'Other ethnic group']\n",
      "\n",
      "gender_cols:\n",
      "\t['Men', 'Women']\n",
      "\n",
      "polar_cols:\n",
      "\t['POLAR4 Q1', 'POLAR4 Q2', 'POLAR4 Q3', 'POLAR4 Q4', 'POLAR4 Q5']\n",
      "\n",
      "\n"
     ]
    }
   ],
   "source": [
    "# abs_rows = [row for row in data['equality_dimension'].unique() if all(match not in row for match in ['per 10', 'rate', 'percent'])]\n",
    "\n",
    "ethnicity_cols = [col for col in data['equality_dimension'].unique() if 'ethnic' in col]\n",
    "gender_cols = [col for col in data['equality_dimension'].unique() if 'en' in col]\n",
    "polar_cols = [col for col in data['equality_dimension'].unique() if 'POLAR' in col]\n",
    "\n",
    "print(\n",
    "    f'ethnicity_cols:\\n\\t{ethnicity_cols}\\n\\n'\n",
    "    f'gender_cols:\\n\\t{gender_cols}\\n\\n'\n",
    "    f'polar_cols:\\n\\t{polar_cols}\\n\\n'\n",
    ")"
   ]
  },
  {
   "cell_type": "markdown",
   "id": "c271d9e1",
   "metadata": {},
   "source": [
    "The `equality_dimension` column splits the students along various axes, namely POLAR4, ethnicity, and sex. \n",
    "\n",
    "The data task specifically requires to look at Widening Participation efforts with respect to POLAR4 and IMD criteria. Consequently, we will drop the information relating to ethnicity and sex. "
   ]
  },
  {
   "cell_type": "code",
   "execution_count": 747,
   "id": "9430b86c",
   "metadata": {
    "ExecuteTime": {
     "end_time": "2022-04-20T13:33:15.342114Z",
     "start_time": "2022-04-20T13:33:15.322292Z"
    }
   },
   "outputs": [],
   "source": [
    "data = data.loc[data['equality_dimension'].isin(polar_cols)]"
   ]
  },
  {
   "cell_type": "markdown",
   "id": "a5b70e10",
   "metadata": {},
   "source": [
    "### `statistic`"
   ]
  },
  {
   "cell_type": "code",
   "execution_count": 748,
   "id": "79124321",
   "metadata": {
    "ExecuteTime": {
     "end_time": "2022-04-20T13:33:15.959335Z",
     "start_time": "2022-04-20T13:33:15.943179Z"
    }
   },
   "outputs": [
    {
     "data": {
      "text/plain": [
       "array(['June deadline applicants', 'Placed June deadline applicants',\n",
       "       'All placed applicants',\n",
       "       'June deadline applicants per 10,000 population',\n",
       "       'Placed June deadline applicants per 10,000 population',\n",
       "       'All placed applicants per 10,000 population',\n",
       "       'June deadline applications', 'Offers', 'Offer rate',\n",
       "       'Average offer rate',\n",
       "       'Percentage point difference between offer rate and average offer rate',\n",
       "       'Contribution of group to the average offer rate'], dtype=object)"
      ]
     },
     "execution_count": 748,
     "metadata": {},
     "output_type": "execute_result"
    }
   ],
   "source": [
    "data['statistic'].unique()"
   ]
  },
  {
   "cell_type": "markdown",
   "id": "d5fe7c3b",
   "metadata": {
    "ExecuteTime": {
     "end_time": "2022-04-20T12:58:11.827912Z",
     "start_time": "2022-04-20T12:58:11.822251Z"
    }
   },
   "source": [
    "We won't touch the `statistic` column for now, but wait until we know what we want to be looking at."
   ]
  },
  {
   "cell_type": "code",
   "execution_count": 755,
   "id": "52218d8f",
   "metadata": {
    "ExecuteTime": {
     "end_time": "2022-04-20T13:33:32.664199Z",
     "start_time": "2022-04-20T13:33:32.634106Z"
    }
   },
   "outputs": [],
   "source": [
    "data.to_csv('./data_clean.csv')"
   ]
  },
  {
   "cell_type": "markdown",
   "id": "c404b557",
   "metadata": {},
   "source": [
    "## Data analysis"
   ]
  },
  {
   "cell_type": "markdown",
   "id": "02edef8e",
   "metadata": {},
   "source": [
    "### UoB"
   ]
  },
  {
   "cell_type": "markdown",
   "id": "fd387f6d",
   "metadata": {},
   "source": [
    "We are working with `University of Birmingham`. "
   ]
  },
  {
   "cell_type": "code",
   "execution_count": 749,
   "id": "a4bac0d8",
   "metadata": {
    "ExecuteTime": {
     "end_time": "2022-04-20T13:33:18.105723Z",
     "start_time": "2022-04-20T13:33:18.010454Z"
    }
   },
   "outputs": [
    {
     "data": {
      "text/plain": [
       "array(['B32 University of Birmingham'], dtype=object)"
      ]
     },
     "execution_count": 749,
     "metadata": {},
     "output_type": "execute_result"
    }
   ],
   "source": [
    "# unique values in `inst_all` that contain 'University of Birmingham'\n",
    "data[data['inst_all'].str.contains('University of Birmingham', case=False)]['inst_all'].unique()"
   ]
  },
  {
   "cell_type": "markdown",
   "id": "bbcfbd9c",
   "metadata": {
    "ExecuteTime": {
     "end_time": "2022-04-17T10:31:04.135370Z",
     "start_time": "2022-04-17T10:31:04.132738Z"
    }
   },
   "source": [
    "### Reference points and model universities"
   ]
  },
  {
   "cell_type": "markdown",
   "id": "5e8a3d46",
   "metadata": {},
   "source": [
    "We identified several universities that are similar enough to University of Birmingham to serve as reference points. \n",
    "\n",
    "Our methodology for achieving this was quite crude: we identified universities that appeared close to University of Birmingham in the [3 main rankings of UK universities for 2022](https://en.wikipedia.org/wiki/Rankings_of_universities_in_the_United_Kingdom). This is not perfect, as, for example, UoB has dropped many places in 2022 on [at least one of the rankings](https://www.thecompleteuniversityguide.co.uk/universities/university-of-birmingham#subSec_leaguetableperformance) and one of our model universities is in London, which is a [major outlier in the UK in terms of POLAR4 quintiles](https://www.ucas.com/file/65656/download?token=VgsvkzN7). However, [cross-checking with other sources](https://www.universityrankings.ch/compare?id[]=5256&id[]=5288&id[]=5267&id[]=5321&id[]=5300&global=all) does not uncover any major issues with our picks: we will consider this sufficient for the current exploratory analysis, given the time constraints. "
   ]
  },
  {
   "cell_type": "markdown",
   "id": "33a45584",
   "metadata": {},
   "source": [
    "Our reference points are universities that appear close (±3) to UoB on [at least 2 out of 3 rankings](https://en.wikipedia.org/wiki/Rankings_of_universities_in_the_United_Kingdom):\n",
    "- University of Manchester\n",
    "- University of Sheffield\n",
    "- University of East Anglia"
   ]
  },
  {
   "cell_type": "code",
   "execution_count": 750,
   "id": "61842881",
   "metadata": {
    "ExecuteTime": {
     "end_time": "2022-04-20T13:33:20.058502Z",
     "start_time": "2022-04-20T13:33:19.978416Z"
    }
   },
   "outputs": [
    {
     "data": {
      "text/plain": [
       "array(['E14 University of East Anglia UEA',\n",
       "       'M20 University of Manchester', 'S18 University of Sheffield'],\n",
       "      dtype=object)"
      ]
     },
     "execution_count": 750,
     "metadata": {},
     "output_type": "execute_result"
    }
   ],
   "source": [
    "data[data['inst_all'].str.contains(\n",
    "    '|'.join(['University of Manchester', 'University of Sheffield', 'University of East Anglia']), \n",
    "    case=False\n",
    ")]['inst_all'].unique()"
   ]
  },
  {
   "cell_type": "markdown",
   "id": "95a38819",
   "metadata": {},
   "source": [
    "We have also identified models (universities that are 5-10 places higher on at least 2 out of 3 rankings): \n",
    "- King's College London\n",
    "- University of York"
   ]
  },
  {
   "cell_type": "code",
   "execution_count": 751,
   "id": "7fce12ec",
   "metadata": {
    "ExecuteTime": {
     "end_time": "2022-04-20T13:33:20.977499Z",
     "start_time": "2022-04-20T13:33:20.872126Z"
    },
    "scrolled": true
   },
   "outputs": [
    {
     "data": {
      "text/plain": [
       "array(['K60 Kings College London University of London',\n",
       "       'Y50 University of York'], dtype=object)"
      ]
     },
     "execution_count": 751,
     "metadata": {},
     "output_type": "execute_result"
    }
   ],
   "source": [
    "data[data['inst_all'].str.contains(\n",
    "    '|'.join([\"King.?s College London\", 'University of York']), \n",
    "    case=False\n",
    ")]['inst_all'].unique()"
   ]
  },
  {
   "cell_type": "markdown",
   "id": "3553a1c5",
   "metadata": {},
   "source": [
    "### `universities_data`"
   ]
  },
  {
   "cell_type": "markdown",
   "id": "b70cba4b",
   "metadata": {},
   "source": [
    "Let's create the dataframe that will hold the data we want to look at: the POLAR4 data for our 6 universities over 2010-2021. "
   ]
  },
  {
   "cell_type": "code",
   "execution_count": 752,
   "id": "5f834be8",
   "metadata": {
    "ExecuteTime": {
     "end_time": "2022-04-20T13:33:23.230972Z",
     "start_time": "2022-04-20T13:33:22.895557Z"
    }
   },
   "outputs": [],
   "source": [
    "# create df with UoB, the reference universities, and the model ones\n",
    "universities_data = data[data['inst_all'].str.contains(\n",
    "    '|'.join(['B32', 'M20', 'E14', 'S18', 'K60', 'Y50']), \n",
    "    case=False\n",
    ")]"
   ]
  },
  {
   "cell_type": "markdown",
   "id": "05641ce3",
   "metadata": {},
   "source": [
    "Let's check that there's no missing data among our reference points and models. "
   ]
  },
  {
   "cell_type": "code",
   "execution_count": 753,
   "id": "323c37f7",
   "metadata": {
    "ExecuteTime": {
     "end_time": "2022-04-20T13:33:24.294098Z",
     "start_time": "2022-04-20T13:33:24.287175Z"
    }
   },
   "outputs": [
    {
     "data": {
      "text/plain": [
       "False"
      ]
     },
     "execution_count": 753,
     "metadata": {},
     "output_type": "execute_result"
    }
   ],
   "source": [
    "any(universities_data['value'].isna())"
   ]
  },
  {
   "cell_type": "markdown",
   "id": "14c62933",
   "metadata": {},
   "source": [
    "No missing data: we continue."
   ]
  },
  {
   "cell_type": "markdown",
   "id": "7a26fd00",
   "metadata": {},
   "source": [
    "Now that we're working with a small number of universities, we can afford to pivot the dataframe to a more meaningful form, just to have a better understanding of what features of the data we want to be exploring. "
   ]
  },
  {
   "cell_type": "code",
   "execution_count": 756,
   "id": "c48c9dc8",
   "metadata": {
    "ExecuteTime": {
     "end_time": "2022-04-20T13:33:34.073791Z",
     "start_time": "2022-04-20T13:33:34.033997Z"
    }
   },
   "outputs": [
    {
     "data": {
      "text/html": [
       "<div>\n",
       "<style scoped>\n",
       "    .dataframe tbody tr th:only-of-type {\n",
       "        vertical-align: middle;\n",
       "    }\n",
       "\n",
       "    .dataframe tbody tr th {\n",
       "        vertical-align: top;\n",
       "    }\n",
       "\n",
       "    .dataframe thead th {\n",
       "        text-align: right;\n",
       "    }\n",
       "</style>\n",
       "<table border=\"1\" class=\"dataframe\">\n",
       "  <thead>\n",
       "    <tr style=\"text-align: right;\">\n",
       "      <th></th>\n",
       "      <th></th>\n",
       "      <th>Cycle</th>\n",
       "      <th>2010</th>\n",
       "      <th>2011</th>\n",
       "      <th>2012</th>\n",
       "      <th>2013</th>\n",
       "      <th>2014</th>\n",
       "      <th>2015</th>\n",
       "      <th>2016</th>\n",
       "      <th>2017</th>\n",
       "      <th>2018</th>\n",
       "      <th>2019</th>\n",
       "      <th>2020</th>\n",
       "      <th>2021</th>\n",
       "    </tr>\n",
       "    <tr>\n",
       "      <th>inst_all</th>\n",
       "      <th>statistic</th>\n",
       "      <th>equality_dimension</th>\n",
       "      <th></th>\n",
       "      <th></th>\n",
       "      <th></th>\n",
       "      <th></th>\n",
       "      <th></th>\n",
       "      <th></th>\n",
       "      <th></th>\n",
       "      <th></th>\n",
       "      <th></th>\n",
       "      <th></th>\n",
       "      <th></th>\n",
       "      <th></th>\n",
       "    </tr>\n",
       "  </thead>\n",
       "  <tbody>\n",
       "    <tr>\n",
       "      <th rowspan=\"5\" valign=\"top\">B32 University of Birmingham</th>\n",
       "      <th rowspan=\"5\" valign=\"top\">All placed applicants</th>\n",
       "      <th>POLAR4 Q1</th>\n",
       "      <td>200.0</td>\n",
       "      <td>195.0</td>\n",
       "      <td>210.0</td>\n",
       "      <td>240.0</td>\n",
       "      <td>240.0</td>\n",
       "      <td>285.0</td>\n",
       "      <td>265.0</td>\n",
       "      <td>280.0</td>\n",
       "      <td>265.0</td>\n",
       "      <td>340.0</td>\n",
       "      <td>415.0</td>\n",
       "      <td>495.0</td>\n",
       "    </tr>\n",
       "    <tr>\n",
       "      <th>POLAR4 Q2</th>\n",
       "      <td>345.0</td>\n",
       "      <td>380.0</td>\n",
       "      <td>375.0</td>\n",
       "      <td>460.0</td>\n",
       "      <td>485.0</td>\n",
       "      <td>435.0</td>\n",
       "      <td>480.0</td>\n",
       "      <td>505.0</td>\n",
       "      <td>485.0</td>\n",
       "      <td>515.0</td>\n",
       "      <td>600.0</td>\n",
       "      <td>650.0</td>\n",
       "    </tr>\n",
       "    <tr>\n",
       "      <th>POLAR4 Q3</th>\n",
       "      <td>575.0</td>\n",
       "      <td>610.0</td>\n",
       "      <td>625.0</td>\n",
       "      <td>725.0</td>\n",
       "      <td>780.0</td>\n",
       "      <td>820.0</td>\n",
       "      <td>735.0</td>\n",
       "      <td>805.0</td>\n",
       "      <td>730.0</td>\n",
       "      <td>825.0</td>\n",
       "      <td>975.0</td>\n",
       "      <td>1090.0</td>\n",
       "    </tr>\n",
       "    <tr>\n",
       "      <th>POLAR4 Q4</th>\n",
       "      <td>760.0</td>\n",
       "      <td>720.0</td>\n",
       "      <td>740.0</td>\n",
       "      <td>820.0</td>\n",
       "      <td>905.0</td>\n",
       "      <td>940.0</td>\n",
       "      <td>880.0</td>\n",
       "      <td>950.0</td>\n",
       "      <td>925.0</td>\n",
       "      <td>930.0</td>\n",
       "      <td>980.0</td>\n",
       "      <td>1110.0</td>\n",
       "    </tr>\n",
       "    <tr>\n",
       "      <th>POLAR4 Q5</th>\n",
       "      <td>1620.0</td>\n",
       "      <td>1665.0</td>\n",
       "      <td>1625.0</td>\n",
       "      <td>1730.0</td>\n",
       "      <td>1890.0</td>\n",
       "      <td>1860.0</td>\n",
       "      <td>1920.0</td>\n",
       "      <td>2140.0</td>\n",
       "      <td>2055.0</td>\n",
       "      <td>1915.0</td>\n",
       "      <td>2055.0</td>\n",
       "      <td>1995.0</td>\n",
       "    </tr>\n",
       "    <tr>\n",
       "      <th>...</th>\n",
       "      <th>...</th>\n",
       "      <th>...</th>\n",
       "      <td>...</td>\n",
       "      <td>...</td>\n",
       "      <td>...</td>\n",
       "      <td>...</td>\n",
       "      <td>...</td>\n",
       "      <td>...</td>\n",
       "      <td>...</td>\n",
       "      <td>...</td>\n",
       "      <td>...</td>\n",
       "      <td>...</td>\n",
       "      <td>...</td>\n",
       "      <td>...</td>\n",
       "    </tr>\n",
       "    <tr>\n",
       "      <th rowspan=\"5\" valign=\"top\">Y50 University of York</th>\n",
       "      <th rowspan=\"5\" valign=\"top\">Placed June deadline applicants per 10,000 population</th>\n",
       "      <th>POLAR4 Q1</th>\n",
       "      <td>8.7</td>\n",
       "      <td>8.1</td>\n",
       "      <td>9.3</td>\n",
       "      <td>9.0</td>\n",
       "      <td>11.1</td>\n",
       "      <td>11.7</td>\n",
       "      <td>14.1</td>\n",
       "      <td>14.2</td>\n",
       "      <td>13.5</td>\n",
       "      <td>19.6</td>\n",
       "      <td>23.0</td>\n",
       "      <td>28.0</td>\n",
       "    </tr>\n",
       "    <tr>\n",
       "      <th>POLAR4 Q2</th>\n",
       "      <td>16.0</td>\n",
       "      <td>14.4</td>\n",
       "      <td>16.6</td>\n",
       "      <td>18.7</td>\n",
       "      <td>17.6</td>\n",
       "      <td>19.3</td>\n",
       "      <td>22.4</td>\n",
       "      <td>25.7</td>\n",
       "      <td>24.2</td>\n",
       "      <td>23.9</td>\n",
       "      <td>34.4</td>\n",
       "      <td>42.1</td>\n",
       "    </tr>\n",
       "    <tr>\n",
       "      <th>POLAR4 Q3</th>\n",
       "      <td>22.7</td>\n",
       "      <td>20.4</td>\n",
       "      <td>23.4</td>\n",
       "      <td>24.6</td>\n",
       "      <td>23.6</td>\n",
       "      <td>27.8</td>\n",
       "      <td>28.3</td>\n",
       "      <td>31.2</td>\n",
       "      <td>29.0</td>\n",
       "      <td>31.1</td>\n",
       "      <td>31.6</td>\n",
       "      <td>41.7</td>\n",
       "    </tr>\n",
       "    <tr>\n",
       "      <th>POLAR4 Q4</th>\n",
       "      <td>29.9</td>\n",
       "      <td>28.3</td>\n",
       "      <td>31.3</td>\n",
       "      <td>31.9</td>\n",
       "      <td>31.3</td>\n",
       "      <td>31.9</td>\n",
       "      <td>36.4</td>\n",
       "      <td>38.7</td>\n",
       "      <td>36.1</td>\n",
       "      <td>36.0</td>\n",
       "      <td>37.8</td>\n",
       "      <td>48.2</td>\n",
       "    </tr>\n",
       "    <tr>\n",
       "      <th>POLAR4 Q5</th>\n",
       "      <td>48.0</td>\n",
       "      <td>48.8</td>\n",
       "      <td>48.4</td>\n",
       "      <td>51.6</td>\n",
       "      <td>46.4</td>\n",
       "      <td>45.5</td>\n",
       "      <td>51.6</td>\n",
       "      <td>54.1</td>\n",
       "      <td>51.5</td>\n",
       "      <td>54.3</td>\n",
       "      <td>54.6</td>\n",
       "      <td>73.9</td>\n",
       "    </tr>\n",
       "  </tbody>\n",
       "</table>\n",
       "<p>360 rows × 12 columns</p>\n",
       "</div>"
      ],
      "text/plain": [
       "Cycle                                                                                                 2010  \\\n",
       "inst_all                     statistic                                          equality_dimension           \n",
       "B32 University of Birmingham All placed applicants                              POLAR4 Q1            200.0   \n",
       "                                                                                POLAR4 Q2            345.0   \n",
       "                                                                                POLAR4 Q3            575.0   \n",
       "                                                                                POLAR4 Q4            760.0   \n",
       "                                                                                POLAR4 Q5           1620.0   \n",
       "...                                                                                                    ...   \n",
       "Y50 University of York       Placed June deadline applicants per 10,000 popu... POLAR4 Q1              8.7   \n",
       "                                                                                POLAR4 Q2             16.0   \n",
       "                                                                                POLAR4 Q3             22.7   \n",
       "                                                                                POLAR4 Q4             29.9   \n",
       "                                                                                POLAR4 Q5             48.0   \n",
       "\n",
       "Cycle                                                                                                 2011  \\\n",
       "inst_all                     statistic                                          equality_dimension           \n",
       "B32 University of Birmingham All placed applicants                              POLAR4 Q1            195.0   \n",
       "                                                                                POLAR4 Q2            380.0   \n",
       "                                                                                POLAR4 Q3            610.0   \n",
       "                                                                                POLAR4 Q4            720.0   \n",
       "                                                                                POLAR4 Q5           1665.0   \n",
       "...                                                                                                    ...   \n",
       "Y50 University of York       Placed June deadline applicants per 10,000 popu... POLAR4 Q1              8.1   \n",
       "                                                                                POLAR4 Q2             14.4   \n",
       "                                                                                POLAR4 Q3             20.4   \n",
       "                                                                                POLAR4 Q4             28.3   \n",
       "                                                                                POLAR4 Q5             48.8   \n",
       "\n",
       "Cycle                                                                                                 2012  \\\n",
       "inst_all                     statistic                                          equality_dimension           \n",
       "B32 University of Birmingham All placed applicants                              POLAR4 Q1            210.0   \n",
       "                                                                                POLAR4 Q2            375.0   \n",
       "                                                                                POLAR4 Q3            625.0   \n",
       "                                                                                POLAR4 Q4            740.0   \n",
       "                                                                                POLAR4 Q5           1625.0   \n",
       "...                                                                                                    ...   \n",
       "Y50 University of York       Placed June deadline applicants per 10,000 popu... POLAR4 Q1              9.3   \n",
       "                                                                                POLAR4 Q2             16.6   \n",
       "                                                                                POLAR4 Q3             23.4   \n",
       "                                                                                POLAR4 Q4             31.3   \n",
       "                                                                                POLAR4 Q5             48.4   \n",
       "\n",
       "Cycle                                                                                                 2013  \\\n",
       "inst_all                     statistic                                          equality_dimension           \n",
       "B32 University of Birmingham All placed applicants                              POLAR4 Q1            240.0   \n",
       "                                                                                POLAR4 Q2            460.0   \n",
       "                                                                                POLAR4 Q3            725.0   \n",
       "                                                                                POLAR4 Q4            820.0   \n",
       "                                                                                POLAR4 Q5           1730.0   \n",
       "...                                                                                                    ...   \n",
       "Y50 University of York       Placed June deadline applicants per 10,000 popu... POLAR4 Q1              9.0   \n",
       "                                                                                POLAR4 Q2             18.7   \n",
       "                                                                                POLAR4 Q3             24.6   \n",
       "                                                                                POLAR4 Q4             31.9   \n",
       "                                                                                POLAR4 Q5             51.6   \n",
       "\n",
       "Cycle                                                                                                 2014  \\\n",
       "inst_all                     statistic                                          equality_dimension           \n",
       "B32 University of Birmingham All placed applicants                              POLAR4 Q1            240.0   \n",
       "                                                                                POLAR4 Q2            485.0   \n",
       "                                                                                POLAR4 Q3            780.0   \n",
       "                                                                                POLAR4 Q4            905.0   \n",
       "                                                                                POLAR4 Q5           1890.0   \n",
       "...                                                                                                    ...   \n",
       "Y50 University of York       Placed June deadline applicants per 10,000 popu... POLAR4 Q1             11.1   \n",
       "                                                                                POLAR4 Q2             17.6   \n",
       "                                                                                POLAR4 Q3             23.6   \n",
       "                                                                                POLAR4 Q4             31.3   \n",
       "                                                                                POLAR4 Q5             46.4   \n",
       "\n",
       "Cycle                                                                                                 2015  \\\n",
       "inst_all                     statistic                                          equality_dimension           \n",
       "B32 University of Birmingham All placed applicants                              POLAR4 Q1            285.0   \n",
       "                                                                                POLAR4 Q2            435.0   \n",
       "                                                                                POLAR4 Q3            820.0   \n",
       "                                                                                POLAR4 Q4            940.0   \n",
       "                                                                                POLAR4 Q5           1860.0   \n",
       "...                                                                                                    ...   \n",
       "Y50 University of York       Placed June deadline applicants per 10,000 popu... POLAR4 Q1             11.7   \n",
       "                                                                                POLAR4 Q2             19.3   \n",
       "                                                                                POLAR4 Q3             27.8   \n",
       "                                                                                POLAR4 Q4             31.9   \n",
       "                                                                                POLAR4 Q5             45.5   \n",
       "\n",
       "Cycle                                                                                                 2016  \\\n",
       "inst_all                     statistic                                          equality_dimension           \n",
       "B32 University of Birmingham All placed applicants                              POLAR4 Q1            265.0   \n",
       "                                                                                POLAR4 Q2            480.0   \n",
       "                                                                                POLAR4 Q3            735.0   \n",
       "                                                                                POLAR4 Q4            880.0   \n",
       "                                                                                POLAR4 Q5           1920.0   \n",
       "...                                                                                                    ...   \n",
       "Y50 University of York       Placed June deadline applicants per 10,000 popu... POLAR4 Q1             14.1   \n",
       "                                                                                POLAR4 Q2             22.4   \n",
       "                                                                                POLAR4 Q3             28.3   \n",
       "                                                                                POLAR4 Q4             36.4   \n",
       "                                                                                POLAR4 Q5             51.6   \n",
       "\n",
       "Cycle                                                                                                 2017  \\\n",
       "inst_all                     statistic                                          equality_dimension           \n",
       "B32 University of Birmingham All placed applicants                              POLAR4 Q1            280.0   \n",
       "                                                                                POLAR4 Q2            505.0   \n",
       "                                                                                POLAR4 Q3            805.0   \n",
       "                                                                                POLAR4 Q4            950.0   \n",
       "                                                                                POLAR4 Q5           2140.0   \n",
       "...                                                                                                    ...   \n",
       "Y50 University of York       Placed June deadline applicants per 10,000 popu... POLAR4 Q1             14.2   \n",
       "                                                                                POLAR4 Q2             25.7   \n",
       "                                                                                POLAR4 Q3             31.2   \n",
       "                                                                                POLAR4 Q4             38.7   \n",
       "                                                                                POLAR4 Q5             54.1   \n",
       "\n",
       "Cycle                                                                                                 2018  \\\n",
       "inst_all                     statistic                                          equality_dimension           \n",
       "B32 University of Birmingham All placed applicants                              POLAR4 Q1            265.0   \n",
       "                                                                                POLAR4 Q2            485.0   \n",
       "                                                                                POLAR4 Q3            730.0   \n",
       "                                                                                POLAR4 Q4            925.0   \n",
       "                                                                                POLAR4 Q5           2055.0   \n",
       "...                                                                                                    ...   \n",
       "Y50 University of York       Placed June deadline applicants per 10,000 popu... POLAR4 Q1             13.5   \n",
       "                                                                                POLAR4 Q2             24.2   \n",
       "                                                                                POLAR4 Q3             29.0   \n",
       "                                                                                POLAR4 Q4             36.1   \n",
       "                                                                                POLAR4 Q5             51.5   \n",
       "\n",
       "Cycle                                                                                                 2019  \\\n",
       "inst_all                     statistic                                          equality_dimension           \n",
       "B32 University of Birmingham All placed applicants                              POLAR4 Q1            340.0   \n",
       "                                                                                POLAR4 Q2            515.0   \n",
       "                                                                                POLAR4 Q3            825.0   \n",
       "                                                                                POLAR4 Q4            930.0   \n",
       "                                                                                POLAR4 Q5           1915.0   \n",
       "...                                                                                                    ...   \n",
       "Y50 University of York       Placed June deadline applicants per 10,000 popu... POLAR4 Q1             19.6   \n",
       "                                                                                POLAR4 Q2             23.9   \n",
       "                                                                                POLAR4 Q3             31.1   \n",
       "                                                                                POLAR4 Q4             36.0   \n",
       "                                                                                POLAR4 Q5             54.3   \n",
       "\n",
       "Cycle                                                                                                 2020  \\\n",
       "inst_all                     statistic                                          equality_dimension           \n",
       "B32 University of Birmingham All placed applicants                              POLAR4 Q1            415.0   \n",
       "                                                                                POLAR4 Q2            600.0   \n",
       "                                                                                POLAR4 Q3            975.0   \n",
       "                                                                                POLAR4 Q4            980.0   \n",
       "                                                                                POLAR4 Q5           2055.0   \n",
       "...                                                                                                    ...   \n",
       "Y50 University of York       Placed June deadline applicants per 10,000 popu... POLAR4 Q1             23.0   \n",
       "                                                                                POLAR4 Q2             34.4   \n",
       "                                                                                POLAR4 Q3             31.6   \n",
       "                                                                                POLAR4 Q4             37.8   \n",
       "                                                                                POLAR4 Q5             54.6   \n",
       "\n",
       "Cycle                                                                                                 2021  \n",
       "inst_all                     statistic                                          equality_dimension          \n",
       "B32 University of Birmingham All placed applicants                              POLAR4 Q1            495.0  \n",
       "                                                                                POLAR4 Q2            650.0  \n",
       "                                                                                POLAR4 Q3           1090.0  \n",
       "                                                                                POLAR4 Q4           1110.0  \n",
       "                                                                                POLAR4 Q5           1995.0  \n",
       "...                                                                                                    ...  \n",
       "Y50 University of York       Placed June deadline applicants per 10,000 popu... POLAR4 Q1             28.0  \n",
       "                                                                                POLAR4 Q2             42.1  \n",
       "                                                                                POLAR4 Q3             41.7  \n",
       "                                                                                POLAR4 Q4             48.2  \n",
       "                                                                                POLAR4 Q5             73.9  \n",
       "\n",
       "[360 rows x 12 columns]"
      ]
     },
     "execution_count": 756,
     "metadata": {},
     "output_type": "execute_result"
    }
   ],
   "source": [
    "universities_data.pivot_table(\n",
    "    index=['inst_all', 'statistic', 'equality_dimension'],\n",
    "    columns='Cycle',\n",
    "    values='value'\n",
    ")"
   ]
  },
  {
   "cell_type": "markdown",
   "id": "1c0e40f9",
   "metadata": {
    "ExecuteTime": {
     "end_time": "2022-04-20T12:12:56.489975Z",
     "start_time": "2022-04-20T12:12:56.485768Z"
    }
   },
   "source": [
    "Let's make some visualisations. "
   ]
  },
  {
   "cell_type": "markdown",
   "id": "58b30c75",
   "metadata": {},
   "source": [
    "### `POLAR4` depending on various `statistic` values"
   ]
  },
  {
   "cell_type": "markdown",
   "id": "ea49b6bb",
   "metadata": {},
   "source": [
    "We want to look at aspects of the data that are not already covered by UCAS [in their (very basic) reports](https://www.ucas.com/file/144876/download?token=hr_HRBqo#page=7). "
   ]
  },
  {
   "cell_type": "markdown",
   "id": "405def41",
   "metadata": {},
   "source": [
    "First, we need to prepare our dataframe for our visualisation library (altair). "
   ]
  },
  {
   "cell_type": "code",
   "execution_count": 757,
   "id": "f7de94a0",
   "metadata": {
    "ExecuteTime": {
     "end_time": "2022-04-20T13:33:37.018623Z",
     "start_time": "2022-04-20T13:33:36.997850Z"
    }
   },
   "outputs": [
    {
     "name": "stderr",
     "output_type": "stream",
     "text": [
      "/tmp/ipykernel_36524/1009984407.py:2: SettingWithCopyWarning: \n",
      "A value is trying to be set on a copy of a slice from a DataFrame.\n",
      "Try using .loc[row_indexer,col_indexer] = value instead\n",
      "\n",
      "See the caveats in the documentation: https://pandas.pydata.org/pandas-docs/stable/user_guide/indexing.html#returning-a-view-versus-a-copy\n",
      "  universities_data.loc[:, 'Cycle'] = pd.to_datetime(universities_data['Cycle'], format='%Y')\n"
     ]
    }
   ],
   "source": [
    "# altair requires datetime column for plotting time series\n",
    "universities_data.loc[:, 'Cycle'] = pd.to_datetime(universities_data['Cycle'], format='%Y')\n",
    "\n",
    "# altair requires a list of labels to sort faceted charts\n",
    "universities_order = [\n",
    "    'B32 University of Birmingham',\n",
    "    'M20 University of Manchester',\n",
    "    'E14 University of East Anglia UEA',\n",
    "    'S18 University of Sheffield',\n",
    "    'K60 Kings College London University of London',\n",
    "    'Y50 University of York'\n",
    "]"
   ]
  },
  {
   "cell_type": "markdown",
   "id": "9d51acff",
   "metadata": {},
   "source": [
    "#### Offer rate"
   ]
  },
  {
   "cell_type": "markdown",
   "id": "a0ee1ce1",
   "metadata": {},
   "source": [
    "First, we'll look into the `Offer rate` depending on the POLAR4 quintile in our different universities. "
   ]
  },
  {
   "cell_type": "code",
   "execution_count": 758,
   "id": "d12ae459",
   "metadata": {
    "ExecuteTime": {
     "end_time": "2022-04-20T13:33:38.810579Z",
     "start_time": "2022-04-20T13:33:38.806087Z"
    }
   },
   "outputs": [],
   "source": [
    "# create df with `Offer rate` data\n",
    "offer_rate = universities_data[universities_data['statistic'] == 'Offer rate']"
   ]
  },
  {
   "cell_type": "code",
   "execution_count": 760,
   "id": "e60fae02",
   "metadata": {
    "ExecuteTime": {
     "end_time": "2022-04-20T13:33:43.398581Z",
     "start_time": "2022-04-20T13:33:43.343820Z"
    },
    "scrolled": false
   },
   "outputs": [
    {
     "data": {
      "text/html": [
       "\n",
       "<div id=\"altair-viz-1035116f9b1c4c8494e6cdc2e09d17e3\"></div>\n",
       "<script type=\"text/javascript\">\n",
       "  var VEGA_DEBUG = (typeof VEGA_DEBUG == \"undefined\") ? {} : VEGA_DEBUG;\n",
       "  (function(spec, embedOpt){\n",
       "    let outputDiv = document.currentScript.previousElementSibling;\n",
       "    if (outputDiv.id !== \"altair-viz-1035116f9b1c4c8494e6cdc2e09d17e3\") {\n",
       "      outputDiv = document.getElementById(\"altair-viz-1035116f9b1c4c8494e6cdc2e09d17e3\");\n",
       "    }\n",
       "    const paths = {\n",
       "      \"vega\": \"https://cdn.jsdelivr.net/npm//vega@5?noext\",\n",
       "      \"vega-lib\": \"https://cdn.jsdelivr.net/npm//vega-lib?noext\",\n",
       "      \"vega-lite\": \"https://cdn.jsdelivr.net/npm//vega-lite@4.17.0?noext\",\n",
       "      \"vega-embed\": \"https://cdn.jsdelivr.net/npm//vega-embed@6?noext\",\n",
       "    };\n",
       "\n",
       "    function maybeLoadScript(lib, version) {\n",
       "      var key = `${lib.replace(\"-\", \"\")}_version`;\n",
       "      return (VEGA_DEBUG[key] == version) ?\n",
       "        Promise.resolve(paths[lib]) :\n",
       "        new Promise(function(resolve, reject) {\n",
       "          var s = document.createElement('script');\n",
       "          document.getElementsByTagName(\"head\")[0].appendChild(s);\n",
       "          s.async = true;\n",
       "          s.onload = () => {\n",
       "            VEGA_DEBUG[key] = version;\n",
       "            return resolve(paths[lib]);\n",
       "          };\n",
       "          s.onerror = () => reject(`Error loading script: ${paths[lib]}`);\n",
       "          s.src = paths[lib];\n",
       "        });\n",
       "    }\n",
       "\n",
       "    function showError(err) {\n",
       "      outputDiv.innerHTML = `<div class=\"error\" style=\"color:red;\">${err}</div>`;\n",
       "      throw err;\n",
       "    }\n",
       "\n",
       "    function displayChart(vegaEmbed) {\n",
       "      vegaEmbed(outputDiv, spec, embedOpt)\n",
       "        .catch(err => showError(`Javascript Error: ${err.message}<br>This usually means there's a typo in your chart specification. See the javascript console for the full traceback.`));\n",
       "    }\n",
       "\n",
       "    if(typeof define === \"function\" && define.amd) {\n",
       "      requirejs.config({paths});\n",
       "      require([\"vega-embed\"], displayChart, err => showError(`Error loading script: ${err.message}`));\n",
       "    } else {\n",
       "      maybeLoadScript(\"vega\", \"5\")\n",
       "        .then(() => maybeLoadScript(\"vega-lite\", \"4.17.0\"))\n",
       "        .then(() => maybeLoadScript(\"vega-embed\", \"6\"))\n",
       "        .catch(showError)\n",
       "        .then(() => displayChart(vegaEmbed));\n",
       "    }\n",
       "  })({\"config\": {\"view\": {\"continuousWidth\": 400, \"continuousHeight\": 300}}, \"data\": {\"name\": \"data-295b6e1d62d911e66537a21bc4ff2a82\"}, \"facet\": {\"field\": \"inst_all\", \"sort\": [\"B32 University of Birmingham\", \"M20 University of Manchester\", \"E14 University of East Anglia UEA\", \"S18 University of Sheffield\", \"K60 Kings College London University of London\", \"Y50 University of York\"], \"title\": null, \"type\": \"nominal\"}, \"spec\": {\"mark\": {\"type\": \"line\", \"point\": true}, \"encoding\": {\"color\": {\"field\": \"equality_dimension\", \"title\": \"POLAR4\", \"type\": \"nominal\"}, \"tooltip\": [{\"field\": \"inst_all\", \"title\": \"University\", \"type\": \"nominal\"}, {\"field\": \"equality_dimension\", \"title\": \"POLAR4\", \"type\": \"nominal\"}, {\"field\": \"value\", \"title\": \"Offer rate\", \"type\": \"quantitative\"}], \"x\": {\"field\": \"Cycle\", \"title\": \"Year\", \"type\": \"temporal\"}, \"y\": {\"field\": \"value\", \"title\": \"Offer rate\", \"type\": \"quantitative\"}}}, \"columns\": 2, \"title\": {\"text\": \"Offer rate in 2010-2021 by university\", \"anchor\": \"middle\", \"fontSize\": 15, \"dy\": -10}, \"$schema\": \"https://vega.github.io/schema/vega-lite/v4.17.0.json\", \"datasets\": {\"data-295b6e1d62d911e66537a21bc4ff2a82\": [{\"inst_all\": \"B32 University of Birmingham\", \"Cycle\": \"2010-01-01T00:00:00\", \"statistic\": \"Offer rate\", \"equality_dimension\": \"POLAR4 Q1\", \"agegroup\": \"18 year olds\", \"value\": 0.653}, {\"inst_all\": \"B32 University of Birmingham\", \"Cycle\": \"2010-01-01T00:00:00\", \"statistic\": \"Offer rate\", \"equality_dimension\": \"POLAR4 Q2\", \"agegroup\": \"18 year olds\", \"value\": 0.687}, {\"inst_all\": \"B32 University of Birmingham\", \"Cycle\": \"2010-01-01T00:00:00\", \"statistic\": \"Offer rate\", \"equality_dimension\": \"POLAR4 Q3\", \"agegroup\": \"18 year olds\", \"value\": 0.729}, {\"inst_all\": \"B32 University of Birmingham\", \"Cycle\": \"2010-01-01T00:00:00\", \"statistic\": \"Offer rate\", \"equality_dimension\": \"POLAR4 Q4\", \"agegroup\": \"18 year olds\", \"value\": 0.761}, {\"inst_all\": \"B32 University of Birmingham\", \"Cycle\": \"2010-01-01T00:00:00\", \"statistic\": \"Offer rate\", \"equality_dimension\": \"POLAR4 Q5\", \"agegroup\": \"18 year olds\", \"value\": 0.827}, {\"inst_all\": \"B32 University of Birmingham\", \"Cycle\": \"2011-01-01T00:00:00\", \"statistic\": \"Offer rate\", \"equality_dimension\": \"POLAR4 Q1\", \"agegroup\": \"18 year olds\", \"value\": 0.619}, {\"inst_all\": \"B32 University of Birmingham\", \"Cycle\": \"2011-01-01T00:00:00\", \"statistic\": \"Offer rate\", \"equality_dimension\": \"POLAR4 Q2\", \"agegroup\": \"18 year olds\", \"value\": 0.681}, {\"inst_all\": \"B32 University of Birmingham\", \"Cycle\": \"2011-01-01T00:00:00\", \"statistic\": \"Offer rate\", \"equality_dimension\": \"POLAR4 Q3\", \"agegroup\": \"18 year olds\", \"value\": 0.712}, {\"inst_all\": \"B32 University of Birmingham\", \"Cycle\": \"2011-01-01T00:00:00\", \"statistic\": \"Offer rate\", \"equality_dimension\": \"POLAR4 Q4\", \"agegroup\": \"18 year olds\", \"value\": 0.744}, {\"inst_all\": \"B32 University of Birmingham\", \"Cycle\": \"2011-01-01T00:00:00\", \"statistic\": \"Offer rate\", \"equality_dimension\": \"POLAR4 Q5\", \"agegroup\": \"18 year olds\", \"value\": 0.805}, {\"inst_all\": \"B32 University of Birmingham\", \"Cycle\": \"2012-01-01T00:00:00\", \"statistic\": \"Offer rate\", \"equality_dimension\": \"POLAR4 Q1\", \"agegroup\": \"18 year olds\", \"value\": 0.627}, {\"inst_all\": \"B32 University of Birmingham\", \"Cycle\": \"2012-01-01T00:00:00\", \"statistic\": \"Offer rate\", \"equality_dimension\": \"POLAR4 Q2\", \"agegroup\": \"18 year olds\", \"value\": 0.684}, {\"inst_all\": \"B32 University of Birmingham\", \"Cycle\": \"2012-01-01T00:00:00\", \"statistic\": \"Offer rate\", \"equality_dimension\": \"POLAR4 Q3\", \"agegroup\": \"18 year olds\", \"value\": 0.722}, {\"inst_all\": \"B32 University of Birmingham\", \"Cycle\": \"2012-01-01T00:00:00\", \"statistic\": \"Offer rate\", \"equality_dimension\": \"POLAR4 Q4\", \"agegroup\": \"18 year olds\", \"value\": 0.76}, {\"inst_all\": \"B32 University of Birmingham\", \"Cycle\": \"2012-01-01T00:00:00\", \"statistic\": \"Offer rate\", \"equality_dimension\": \"POLAR4 Q5\", \"agegroup\": \"18 year olds\", \"value\": 0.822}, {\"inst_all\": \"B32 University of Birmingham\", \"Cycle\": \"2013-01-01T00:00:00\", \"statistic\": \"Offer rate\", \"equality_dimension\": \"POLAR4 Q1\", \"agegroup\": \"18 year olds\", \"value\": 0.692}, {\"inst_all\": \"B32 University of Birmingham\", \"Cycle\": \"2013-01-01T00:00:00\", \"statistic\": \"Offer rate\", \"equality_dimension\": \"POLAR4 Q2\", \"agegroup\": \"18 year olds\", \"value\": 0.73}, {\"inst_all\": \"B32 University of Birmingham\", \"Cycle\": \"2013-01-01T00:00:00\", \"statistic\": \"Offer rate\", \"equality_dimension\": \"POLAR4 Q3\", \"agegroup\": \"18 year olds\", \"value\": 0.748}, {\"inst_all\": \"B32 University of Birmingham\", \"Cycle\": \"2013-01-01T00:00:00\", \"statistic\": \"Offer rate\", \"equality_dimension\": \"POLAR4 Q4\", \"agegroup\": \"18 year olds\", \"value\": 0.805}, {\"inst_all\": \"B32 University of Birmingham\", \"Cycle\": \"2013-01-01T00:00:00\", \"statistic\": \"Offer rate\", \"equality_dimension\": \"POLAR4 Q5\", \"agegroup\": \"18 year olds\", \"value\": 0.858}, {\"inst_all\": \"B32 University of Birmingham\", \"Cycle\": \"2014-01-01T00:00:00\", \"statistic\": \"Offer rate\", \"equality_dimension\": \"POLAR4 Q1\", \"agegroup\": \"18 year olds\", \"value\": 0.654}, {\"inst_all\": \"B32 University of Birmingham\", \"Cycle\": \"2014-01-01T00:00:00\", \"statistic\": \"Offer rate\", \"equality_dimension\": \"POLAR4 Q2\", \"agegroup\": \"18 year olds\", \"value\": 0.723}, {\"inst_all\": \"B32 University of Birmingham\", \"Cycle\": \"2014-01-01T00:00:00\", \"statistic\": \"Offer rate\", \"equality_dimension\": \"POLAR4 Q3\", \"agegroup\": \"18 year olds\", \"value\": 0.743}, {\"inst_all\": \"B32 University of Birmingham\", \"Cycle\": \"2014-01-01T00:00:00\", \"statistic\": \"Offer rate\", \"equality_dimension\": \"POLAR4 Q4\", \"agegroup\": \"18 year olds\", \"value\": 0.799}, {\"inst_all\": \"B32 University of Birmingham\", \"Cycle\": \"2014-01-01T00:00:00\", \"statistic\": \"Offer rate\", \"equality_dimension\": \"POLAR4 Q5\", \"agegroup\": \"18 year olds\", \"value\": 0.863}, {\"inst_all\": \"B32 University of Birmingham\", \"Cycle\": \"2015-01-01T00:00:00\", \"statistic\": \"Offer rate\", \"equality_dimension\": \"POLAR4 Q1\", \"agegroup\": \"18 year olds\", \"value\": 0.674}, {\"inst_all\": \"B32 University of Birmingham\", \"Cycle\": \"2015-01-01T00:00:00\", \"statistic\": \"Offer rate\", \"equality_dimension\": \"POLAR4 Q2\", \"agegroup\": \"18 year olds\", \"value\": 0.695}, {\"inst_all\": \"B32 University of Birmingham\", \"Cycle\": \"2015-01-01T00:00:00\", \"statistic\": \"Offer rate\", \"equality_dimension\": \"POLAR4 Q3\", \"agegroup\": \"18 year olds\", \"value\": 0.74}, {\"inst_all\": \"B32 University of Birmingham\", \"Cycle\": \"2015-01-01T00:00:00\", \"statistic\": \"Offer rate\", \"equality_dimension\": \"POLAR4 Q4\", \"agegroup\": \"18 year olds\", \"value\": 0.803}, {\"inst_all\": \"B32 University of Birmingham\", \"Cycle\": \"2015-01-01T00:00:00\", \"statistic\": \"Offer rate\", \"equality_dimension\": \"POLAR4 Q5\", \"agegroup\": \"18 year olds\", \"value\": 0.858}, {\"inst_all\": \"B32 University of Birmingham\", \"Cycle\": \"2016-01-01T00:00:00\", \"statistic\": \"Offer rate\", \"equality_dimension\": \"POLAR4 Q1\", \"agegroup\": \"18 year olds\", \"value\": 0.708}, {\"inst_all\": \"B32 University of Birmingham\", \"Cycle\": \"2016-01-01T00:00:00\", \"statistic\": \"Offer rate\", \"equality_dimension\": \"POLAR4 Q2\", \"agegroup\": \"18 year olds\", \"value\": 0.74}, {\"inst_all\": \"B32 University of Birmingham\", \"Cycle\": \"2016-01-01T00:00:00\", \"statistic\": \"Offer rate\", \"equality_dimension\": \"POLAR4 Q3\", \"agegroup\": \"18 year olds\", \"value\": 0.765}, {\"inst_all\": \"B32 University of Birmingham\", \"Cycle\": \"2016-01-01T00:00:00\", \"statistic\": \"Offer rate\", \"equality_dimension\": \"POLAR4 Q4\", \"agegroup\": \"18 year olds\", \"value\": 0.828}, {\"inst_all\": \"B32 University of Birmingham\", \"Cycle\": \"2016-01-01T00:00:00\", \"statistic\": \"Offer rate\", \"equality_dimension\": \"POLAR4 Q5\", \"agegroup\": \"18 year olds\", \"value\": 0.892}, {\"inst_all\": \"B32 University of Birmingham\", \"Cycle\": \"2017-01-01T00:00:00\", \"statistic\": \"Offer rate\", \"equality_dimension\": \"POLAR4 Q1\", \"agegroup\": \"18 year olds\", \"value\": 0.704}, {\"inst_all\": \"B32 University of Birmingham\", \"Cycle\": \"2017-01-01T00:00:00\", \"statistic\": \"Offer rate\", \"equality_dimension\": \"POLAR4 Q2\", \"agegroup\": \"18 year olds\", \"value\": 0.748}, {\"inst_all\": \"B32 University of Birmingham\", \"Cycle\": \"2017-01-01T00:00:00\", \"statistic\": \"Offer rate\", \"equality_dimension\": \"POLAR4 Q3\", \"agegroup\": \"18 year olds\", \"value\": 0.775}, {\"inst_all\": \"B32 University of Birmingham\", \"Cycle\": \"2017-01-01T00:00:00\", \"statistic\": \"Offer rate\", \"equality_dimension\": \"POLAR4 Q4\", \"agegroup\": \"18 year olds\", \"value\": 0.824}, {\"inst_all\": \"B32 University of Birmingham\", \"Cycle\": \"2017-01-01T00:00:00\", \"statistic\": \"Offer rate\", \"equality_dimension\": \"POLAR4 Q5\", \"agegroup\": \"18 year olds\", \"value\": 0.874}, {\"inst_all\": \"B32 University of Birmingham\", \"Cycle\": \"2018-01-01T00:00:00\", \"statistic\": \"Offer rate\", \"equality_dimension\": \"POLAR4 Q1\", \"agegroup\": \"18 year olds\", \"value\": 0.718}, {\"inst_all\": \"B32 University of Birmingham\", \"Cycle\": \"2018-01-01T00:00:00\", \"statistic\": \"Offer rate\", \"equality_dimension\": \"POLAR4 Q2\", \"agegroup\": \"18 year olds\", \"value\": 0.732}, {\"inst_all\": \"B32 University of Birmingham\", \"Cycle\": \"2018-01-01T00:00:00\", \"statistic\": \"Offer rate\", \"equality_dimension\": \"POLAR4 Q3\", \"agegroup\": \"18 year olds\", \"value\": 0.773}, {\"inst_all\": \"B32 University of Birmingham\", \"Cycle\": \"2018-01-01T00:00:00\", \"statistic\": \"Offer rate\", \"equality_dimension\": \"POLAR4 Q4\", \"agegroup\": \"18 year olds\", \"value\": 0.821}, {\"inst_all\": \"B32 University of Birmingham\", \"Cycle\": \"2018-01-01T00:00:00\", \"statistic\": \"Offer rate\", \"equality_dimension\": \"POLAR4 Q5\", \"agegroup\": \"18 year olds\", \"value\": 0.873}, {\"inst_all\": \"B32 University of Birmingham\", \"Cycle\": \"2019-01-01T00:00:00\", \"statistic\": \"Offer rate\", \"equality_dimension\": \"POLAR4 Q1\", \"agegroup\": \"18 year olds\", \"value\": 0.75}, {\"inst_all\": \"B32 University of Birmingham\", \"Cycle\": \"2019-01-01T00:00:00\", \"statistic\": \"Offer rate\", \"equality_dimension\": \"POLAR4 Q2\", \"agegroup\": \"18 year olds\", \"value\": 0.744}, {\"inst_all\": \"B32 University of Birmingham\", \"Cycle\": \"2019-01-01T00:00:00\", \"statistic\": \"Offer rate\", \"equality_dimension\": \"POLAR4 Q3\", \"agegroup\": \"18 year olds\", \"value\": 0.764}, {\"inst_all\": \"B32 University of Birmingham\", \"Cycle\": \"2019-01-01T00:00:00\", \"statistic\": \"Offer rate\", \"equality_dimension\": \"POLAR4 Q4\", \"agegroup\": \"18 year olds\", \"value\": 0.827}, {\"inst_all\": \"B32 University of Birmingham\", \"Cycle\": \"2019-01-01T00:00:00\", \"statistic\": \"Offer rate\", \"equality_dimension\": \"POLAR4 Q5\", \"agegroup\": \"18 year olds\", \"value\": 0.877}, {\"inst_all\": \"B32 University of Birmingham\", \"Cycle\": \"2020-01-01T00:00:00\", \"statistic\": \"Offer rate\", \"equality_dimension\": \"POLAR4 Q1\", \"agegroup\": \"18 year olds\", \"value\": 0.728}, {\"inst_all\": \"B32 University of Birmingham\", \"Cycle\": \"2020-01-01T00:00:00\", \"statistic\": \"Offer rate\", \"equality_dimension\": \"POLAR4 Q2\", \"agegroup\": \"18 year olds\", \"value\": 0.722}, {\"inst_all\": \"B32 University of Birmingham\", \"Cycle\": \"2020-01-01T00:00:00\", \"statistic\": \"Offer rate\", \"equality_dimension\": \"POLAR4 Q3\", \"agegroup\": \"18 year olds\", \"value\": 0.747}, {\"inst_all\": \"B32 University of Birmingham\", \"Cycle\": \"2020-01-01T00:00:00\", \"statistic\": \"Offer rate\", \"equality_dimension\": \"POLAR4 Q4\", \"agegroup\": \"18 year olds\", \"value\": 0.795}, {\"inst_all\": \"B32 University of Birmingham\", \"Cycle\": \"2020-01-01T00:00:00\", \"statistic\": \"Offer rate\", \"equality_dimension\": \"POLAR4 Q5\", \"agegroup\": \"18 year olds\", \"value\": 0.863}, {\"inst_all\": \"B32 University of Birmingham\", \"Cycle\": \"2021-01-01T00:00:00\", \"statistic\": \"Offer rate\", \"equality_dimension\": \"POLAR4 Q1\", \"agegroup\": \"18 year olds\", \"value\": 0.665}, {\"inst_all\": \"B32 University of Birmingham\", \"Cycle\": \"2021-01-01T00:00:00\", \"statistic\": \"Offer rate\", \"equality_dimension\": \"POLAR4 Q2\", \"agegroup\": \"18 year olds\", \"value\": 0.642}, {\"inst_all\": \"B32 University of Birmingham\", \"Cycle\": \"2021-01-01T00:00:00\", \"statistic\": \"Offer rate\", \"equality_dimension\": \"POLAR4 Q3\", \"agegroup\": \"18 year olds\", \"value\": 0.674}, {\"inst_all\": \"B32 University of Birmingham\", \"Cycle\": \"2021-01-01T00:00:00\", \"statistic\": \"Offer rate\", \"equality_dimension\": \"POLAR4 Q4\", \"agegroup\": \"18 year olds\", \"value\": 0.734}, {\"inst_all\": \"B32 University of Birmingham\", \"Cycle\": \"2021-01-01T00:00:00\", \"statistic\": \"Offer rate\", \"equality_dimension\": \"POLAR4 Q5\", \"agegroup\": \"18 year olds\", \"value\": 0.812}, {\"inst_all\": \"E14 University of East Anglia UEA\", \"Cycle\": \"2010-01-01T00:00:00\", \"statistic\": \"Offer rate\", \"equality_dimension\": \"POLAR4 Q1\", \"agegroup\": \"18 year olds\", \"value\": 0.667}, {\"inst_all\": \"E14 University of East Anglia UEA\", \"Cycle\": \"2010-01-01T00:00:00\", \"statistic\": \"Offer rate\", \"equality_dimension\": \"POLAR4 Q2\", \"agegroup\": \"18 year olds\", \"value\": 0.719}, {\"inst_all\": \"E14 University of East Anglia UEA\", \"Cycle\": \"2010-01-01T00:00:00\", \"statistic\": \"Offer rate\", \"equality_dimension\": \"POLAR4 Q3\", \"agegroup\": \"18 year olds\", \"value\": 0.735}, {\"inst_all\": \"E14 University of East Anglia UEA\", \"Cycle\": \"2010-01-01T00:00:00\", \"statistic\": \"Offer rate\", \"equality_dimension\": \"POLAR4 Q4\", \"agegroup\": \"18 year olds\", \"value\": 0.755}, {\"inst_all\": \"E14 University of East Anglia UEA\", \"Cycle\": \"2010-01-01T00:00:00\", \"statistic\": \"Offer rate\", \"equality_dimension\": \"POLAR4 Q5\", \"agegroup\": \"18 year olds\", \"value\": 0.809}, {\"inst_all\": \"E14 University of East Anglia UEA\", \"Cycle\": \"2011-01-01T00:00:00\", \"statistic\": \"Offer rate\", \"equality_dimension\": \"POLAR4 Q1\", \"agegroup\": \"18 year olds\", \"value\": 0.607}, {\"inst_all\": \"E14 University of East Anglia UEA\", \"Cycle\": \"2011-01-01T00:00:00\", \"statistic\": \"Offer rate\", \"equality_dimension\": \"POLAR4 Q2\", \"agegroup\": \"18 year olds\", \"value\": 0.624}, {\"inst_all\": \"E14 University of East Anglia UEA\", \"Cycle\": \"2011-01-01T00:00:00\", \"statistic\": \"Offer rate\", \"equality_dimension\": \"POLAR4 Q3\", \"agegroup\": \"18 year olds\", \"value\": 0.658}, {\"inst_all\": \"E14 University of East Anglia UEA\", \"Cycle\": \"2011-01-01T00:00:00\", \"statistic\": \"Offer rate\", \"equality_dimension\": \"POLAR4 Q4\", \"agegroup\": \"18 year olds\", \"value\": 0.687}, {\"inst_all\": \"E14 University of East Anglia UEA\", \"Cycle\": \"2011-01-01T00:00:00\", \"statistic\": \"Offer rate\", \"equality_dimension\": \"POLAR4 Q5\", \"agegroup\": \"18 year olds\", \"value\": 0.721}, {\"inst_all\": \"E14 University of East Anglia UEA\", \"Cycle\": \"2012-01-01T00:00:00\", \"statistic\": \"Offer rate\", \"equality_dimension\": \"POLAR4 Q1\", \"agegroup\": \"18 year olds\", \"value\": 0.599}, {\"inst_all\": \"E14 University of East Anglia UEA\", \"Cycle\": \"2012-01-01T00:00:00\", \"statistic\": \"Offer rate\", \"equality_dimension\": \"POLAR4 Q2\", \"agegroup\": \"18 year olds\", \"value\": 0.658}, {\"inst_all\": \"E14 University of East Anglia UEA\", \"Cycle\": \"2012-01-01T00:00:00\", \"statistic\": \"Offer rate\", \"equality_dimension\": \"POLAR4 Q3\", \"agegroup\": \"18 year olds\", \"value\": 0.7}, {\"inst_all\": \"E14 University of East Anglia UEA\", \"Cycle\": \"2012-01-01T00:00:00\", \"statistic\": \"Offer rate\", \"equality_dimension\": \"POLAR4 Q4\", \"agegroup\": \"18 year olds\", \"value\": 0.713}, {\"inst_all\": \"E14 University of East Anglia UEA\", \"Cycle\": \"2012-01-01T00:00:00\", \"statistic\": \"Offer rate\", \"equality_dimension\": \"POLAR4 Q5\", \"agegroup\": \"18 year olds\", \"value\": 0.77}, {\"inst_all\": \"E14 University of East Anglia UEA\", \"Cycle\": \"2013-01-01T00:00:00\", \"statistic\": \"Offer rate\", \"equality_dimension\": \"POLAR4 Q1\", \"agegroup\": \"18 year olds\", \"value\": 0.682}, {\"inst_all\": \"E14 University of East Anglia UEA\", \"Cycle\": \"2013-01-01T00:00:00\", \"statistic\": \"Offer rate\", \"equality_dimension\": \"POLAR4 Q2\", \"agegroup\": \"18 year olds\", \"value\": 0.726}, {\"inst_all\": \"E14 University of East Anglia UEA\", \"Cycle\": \"2013-01-01T00:00:00\", \"statistic\": \"Offer rate\", \"equality_dimension\": \"POLAR4 Q3\", \"agegroup\": \"18 year olds\", \"value\": 0.755}, {\"inst_all\": \"E14 University of East Anglia UEA\", \"Cycle\": \"2013-01-01T00:00:00\", \"statistic\": \"Offer rate\", \"equality_dimension\": \"POLAR4 Q4\", \"agegroup\": \"18 year olds\", \"value\": 0.778}, {\"inst_all\": \"E14 University of East Anglia UEA\", \"Cycle\": \"2013-01-01T00:00:00\", \"statistic\": \"Offer rate\", \"equality_dimension\": \"POLAR4 Q5\", \"agegroup\": \"18 year olds\", \"value\": 0.805}, {\"inst_all\": \"E14 University of East Anglia UEA\", \"Cycle\": \"2014-01-01T00:00:00\", \"statistic\": \"Offer rate\", \"equality_dimension\": \"POLAR4 Q1\", \"agegroup\": \"18 year olds\", \"value\": 0.707}, {\"inst_all\": \"E14 University of East Anglia UEA\", \"Cycle\": \"2014-01-01T00:00:00\", \"statistic\": \"Offer rate\", \"equality_dimension\": \"POLAR4 Q2\", \"agegroup\": \"18 year olds\", \"value\": 0.752}, {\"inst_all\": \"E14 University of East Anglia UEA\", \"Cycle\": \"2014-01-01T00:00:00\", \"statistic\": \"Offer rate\", \"equality_dimension\": \"POLAR4 Q3\", \"agegroup\": \"18 year olds\", \"value\": 0.767}, {\"inst_all\": \"E14 University of East Anglia UEA\", \"Cycle\": \"2014-01-01T00:00:00\", \"statistic\": \"Offer rate\", \"equality_dimension\": \"POLAR4 Q4\", \"agegroup\": \"18 year olds\", \"value\": 0.786}, {\"inst_all\": \"E14 University of East Anglia UEA\", \"Cycle\": \"2014-01-01T00:00:00\", \"statistic\": \"Offer rate\", \"equality_dimension\": \"POLAR4 Q5\", \"agegroup\": \"18 year olds\", \"value\": 0.834}, {\"inst_all\": \"E14 University of East Anglia UEA\", \"Cycle\": \"2015-01-01T00:00:00\", \"statistic\": \"Offer rate\", \"equality_dimension\": \"POLAR4 Q1\", \"agegroup\": \"18 year olds\", \"value\": 0.711}, {\"inst_all\": \"E14 University of East Anglia UEA\", \"Cycle\": \"2015-01-01T00:00:00\", \"statistic\": \"Offer rate\", \"equality_dimension\": \"POLAR4 Q2\", \"agegroup\": \"18 year olds\", \"value\": 0.78}, {\"inst_all\": \"E14 University of East Anglia UEA\", \"Cycle\": \"2015-01-01T00:00:00\", \"statistic\": \"Offer rate\", \"equality_dimension\": \"POLAR4 Q3\", \"agegroup\": \"18 year olds\", \"value\": 0.78}, {\"inst_all\": \"E14 University of East Anglia UEA\", \"Cycle\": \"2015-01-01T00:00:00\", \"statistic\": \"Offer rate\", \"equality_dimension\": \"POLAR4 Q4\", \"agegroup\": \"18 year olds\", \"value\": 0.811}, {\"inst_all\": \"E14 University of East Anglia UEA\", \"Cycle\": \"2015-01-01T00:00:00\", \"statistic\": \"Offer rate\", \"equality_dimension\": \"POLAR4 Q5\", \"agegroup\": \"18 year olds\", \"value\": 0.85}, {\"inst_all\": \"E14 University of East Anglia UEA\", \"Cycle\": \"2016-01-01T00:00:00\", \"statistic\": \"Offer rate\", \"equality_dimension\": \"POLAR4 Q1\", \"agegroup\": \"18 year olds\", \"value\": 0.719}, {\"inst_all\": \"E14 University of East Anglia UEA\", \"Cycle\": \"2016-01-01T00:00:00\", \"statistic\": \"Offer rate\", \"equality_dimension\": \"POLAR4 Q2\", \"agegroup\": \"18 year olds\", \"value\": 0.769}, {\"inst_all\": \"E14 University of East Anglia UEA\", \"Cycle\": \"2016-01-01T00:00:00\", \"statistic\": \"Offer rate\", \"equality_dimension\": \"POLAR4 Q3\", \"agegroup\": \"18 year olds\", \"value\": 0.772}, {\"inst_all\": \"E14 University of East Anglia UEA\", \"Cycle\": \"2016-01-01T00:00:00\", \"statistic\": \"Offer rate\", \"equality_dimension\": \"POLAR4 Q4\", \"agegroup\": \"18 year olds\", \"value\": 0.807}, {\"inst_all\": \"E14 University of East Anglia UEA\", \"Cycle\": \"2016-01-01T00:00:00\", \"statistic\": \"Offer rate\", \"equality_dimension\": \"POLAR4 Q5\", \"agegroup\": \"18 year olds\", \"value\": 0.843}, {\"inst_all\": \"E14 University of East Anglia UEA\", \"Cycle\": \"2017-01-01T00:00:00\", \"statistic\": \"Offer rate\", \"equality_dimension\": \"POLAR4 Q1\", \"agegroup\": \"18 year olds\", \"value\": 0.74}, {\"inst_all\": \"E14 University of East Anglia UEA\", \"Cycle\": \"2017-01-01T00:00:00\", \"statistic\": \"Offer rate\", \"equality_dimension\": \"POLAR4 Q2\", \"agegroup\": \"18 year olds\", \"value\": 0.775}, {\"inst_all\": \"E14 University of East Anglia UEA\", \"Cycle\": \"2017-01-01T00:00:00\", \"statistic\": \"Offer rate\", \"equality_dimension\": \"POLAR4 Q3\", \"agegroup\": \"18 year olds\", \"value\": 0.807}, {\"inst_all\": \"E14 University of East Anglia UEA\", \"Cycle\": \"2017-01-01T00:00:00\", \"statistic\": \"Offer rate\", \"equality_dimension\": \"POLAR4 Q4\", \"agegroup\": \"18 year olds\", \"value\": 0.808}, {\"inst_all\": \"E14 University of East Anglia UEA\", \"Cycle\": \"2017-01-01T00:00:00\", \"statistic\": \"Offer rate\", \"equality_dimension\": \"POLAR4 Q5\", \"agegroup\": \"18 year olds\", \"value\": 0.836}, {\"inst_all\": \"E14 University of East Anglia UEA\", \"Cycle\": \"2018-01-01T00:00:00\", \"statistic\": \"Offer rate\", \"equality_dimension\": \"POLAR4 Q1\", \"agegroup\": \"18 year olds\", \"value\": 0.764}, {\"inst_all\": \"E14 University of East Anglia UEA\", \"Cycle\": \"2018-01-01T00:00:00\", \"statistic\": \"Offer rate\", \"equality_dimension\": \"POLAR4 Q2\", \"agegroup\": \"18 year olds\", \"value\": 0.791}, {\"inst_all\": \"E14 University of East Anglia UEA\", \"Cycle\": \"2018-01-01T00:00:00\", \"statistic\": \"Offer rate\", \"equality_dimension\": \"POLAR4 Q3\", \"agegroup\": \"18 year olds\", \"value\": 0.806}, {\"inst_all\": \"E14 University of East Anglia UEA\", \"Cycle\": \"2018-01-01T00:00:00\", \"statistic\": \"Offer rate\", \"equality_dimension\": \"POLAR4 Q4\", \"agegroup\": \"18 year olds\", \"value\": 0.824}, {\"inst_all\": \"E14 University of East Anglia UEA\", \"Cycle\": \"2018-01-01T00:00:00\", \"statistic\": \"Offer rate\", \"equality_dimension\": \"POLAR4 Q5\", \"agegroup\": \"18 year olds\", \"value\": 0.857}, {\"inst_all\": \"E14 University of East Anglia UEA\", \"Cycle\": \"2019-01-01T00:00:00\", \"statistic\": \"Offer rate\", \"equality_dimension\": \"POLAR4 Q1\", \"agegroup\": \"18 year olds\", \"value\": 0.808}, {\"inst_all\": \"E14 University of East Anglia UEA\", \"Cycle\": \"2019-01-01T00:00:00\", \"statistic\": \"Offer rate\", \"equality_dimension\": \"POLAR4 Q2\", \"agegroup\": \"18 year olds\", \"value\": 0.851}, {\"inst_all\": \"E14 University of East Anglia UEA\", \"Cycle\": \"2019-01-01T00:00:00\", \"statistic\": \"Offer rate\", \"equality_dimension\": \"POLAR4 Q3\", \"agegroup\": \"18 year olds\", \"value\": 0.862}, {\"inst_all\": \"E14 University of East Anglia UEA\", \"Cycle\": \"2019-01-01T00:00:00\", \"statistic\": \"Offer rate\", \"equality_dimension\": \"POLAR4 Q4\", \"agegroup\": \"18 year olds\", \"value\": 0.883}, {\"inst_all\": \"E14 University of East Anglia UEA\", \"Cycle\": \"2019-01-01T00:00:00\", \"statistic\": \"Offer rate\", \"equality_dimension\": \"POLAR4 Q5\", \"agegroup\": \"18 year olds\", \"value\": 0.9}, {\"inst_all\": \"E14 University of East Anglia UEA\", \"Cycle\": \"2020-01-01T00:00:00\", \"statistic\": \"Offer rate\", \"equality_dimension\": \"POLAR4 Q1\", \"agegroup\": \"18 year olds\", \"value\": 0.79}, {\"inst_all\": \"E14 University of East Anglia UEA\", \"Cycle\": \"2020-01-01T00:00:00\", \"statistic\": \"Offer rate\", \"equality_dimension\": \"POLAR4 Q2\", \"agegroup\": \"18 year olds\", \"value\": 0.83}, {\"inst_all\": \"E14 University of East Anglia UEA\", \"Cycle\": \"2020-01-01T00:00:00\", \"statistic\": \"Offer rate\", \"equality_dimension\": \"POLAR4 Q3\", \"agegroup\": \"18 year olds\", \"value\": 0.862}, {\"inst_all\": \"E14 University of East Anglia UEA\", \"Cycle\": \"2020-01-01T00:00:00\", \"statistic\": \"Offer rate\", \"equality_dimension\": \"POLAR4 Q4\", \"agegroup\": \"18 year olds\", \"value\": 0.862}, {\"inst_all\": \"E14 University of East Anglia UEA\", \"Cycle\": \"2020-01-01T00:00:00\", \"statistic\": \"Offer rate\", \"equality_dimension\": \"POLAR4 Q5\", \"agegroup\": \"18 year olds\", \"value\": 0.904}, {\"inst_all\": \"E14 University of East Anglia UEA\", \"Cycle\": \"2021-01-01T00:00:00\", \"statistic\": \"Offer rate\", \"equality_dimension\": \"POLAR4 Q1\", \"agegroup\": \"18 year olds\", \"value\": 0.815}, {\"inst_all\": \"E14 University of East Anglia UEA\", \"Cycle\": \"2021-01-01T00:00:00\", \"statistic\": \"Offer rate\", \"equality_dimension\": \"POLAR4 Q2\", \"agegroup\": \"18 year olds\", \"value\": 0.829}, {\"inst_all\": \"E14 University of East Anglia UEA\", \"Cycle\": \"2021-01-01T00:00:00\", \"statistic\": \"Offer rate\", \"equality_dimension\": \"POLAR4 Q3\", \"agegroup\": \"18 year olds\", \"value\": 0.836}, {\"inst_all\": \"E14 University of East Anglia UEA\", \"Cycle\": \"2021-01-01T00:00:00\", \"statistic\": \"Offer rate\", \"equality_dimension\": \"POLAR4 Q4\", \"agegroup\": \"18 year olds\", \"value\": 0.865}, {\"inst_all\": \"E14 University of East Anglia UEA\", \"Cycle\": \"2021-01-01T00:00:00\", \"statistic\": \"Offer rate\", \"equality_dimension\": \"POLAR4 Q5\", \"agegroup\": \"18 year olds\", \"value\": 0.875}, {\"inst_all\": \"K60 Kings College London University of London\", \"Cycle\": \"2010-01-01T00:00:00\", \"statistic\": \"Offer rate\", \"equality_dimension\": \"POLAR4 Q1\", \"agegroup\": \"18 year olds\", \"value\": 0.356}, {\"inst_all\": \"K60 Kings College London University of London\", \"Cycle\": \"2010-01-01T00:00:00\", \"statistic\": \"Offer rate\", \"equality_dimension\": \"POLAR4 Q2\", \"agegroup\": \"18 year olds\", \"value\": 0.416}, {\"inst_all\": \"K60 Kings College London University of London\", \"Cycle\": \"2010-01-01T00:00:00\", \"statistic\": \"Offer rate\", \"equality_dimension\": \"POLAR4 Q3\", \"agegroup\": \"18 year olds\", \"value\": 0.428}, {\"inst_all\": \"K60 Kings College London University of London\", \"Cycle\": \"2010-01-01T00:00:00\", \"statistic\": \"Offer rate\", \"equality_dimension\": \"POLAR4 Q4\", \"agegroup\": \"18 year olds\", \"value\": 0.436}, {\"inst_all\": \"K60 Kings College London University of London\", \"Cycle\": \"2010-01-01T00:00:00\", \"statistic\": \"Offer rate\", \"equality_dimension\": \"POLAR4 Q5\", \"agegroup\": \"18 year olds\", \"value\": 0.504}, {\"inst_all\": \"K60 Kings College London University of London\", \"Cycle\": \"2011-01-01T00:00:00\", \"statistic\": \"Offer rate\", \"equality_dimension\": \"POLAR4 Q1\", \"agegroup\": \"18 year olds\", \"value\": 0.38}, {\"inst_all\": \"K60 Kings College London University of London\", \"Cycle\": \"2011-01-01T00:00:00\", \"statistic\": \"Offer rate\", \"equality_dimension\": \"POLAR4 Q2\", \"agegroup\": \"18 year olds\", \"value\": 0.411}, {\"inst_all\": \"K60 Kings College London University of London\", \"Cycle\": \"2011-01-01T00:00:00\", \"statistic\": \"Offer rate\", \"equality_dimension\": \"POLAR4 Q3\", \"agegroup\": \"18 year olds\", \"value\": 0.389}, {\"inst_all\": \"K60 Kings College London University of London\", \"Cycle\": \"2011-01-01T00:00:00\", \"statistic\": \"Offer rate\", \"equality_dimension\": \"POLAR4 Q4\", \"agegroup\": \"18 year olds\", \"value\": 0.411}, {\"inst_all\": \"K60 Kings College London University of London\", \"Cycle\": \"2011-01-01T00:00:00\", \"statistic\": \"Offer rate\", \"equality_dimension\": \"POLAR4 Q5\", \"agegroup\": \"18 year olds\", \"value\": 0.465}, {\"inst_all\": \"K60 Kings College London University of London\", \"Cycle\": \"2012-01-01T00:00:00\", \"statistic\": \"Offer rate\", \"equality_dimension\": \"POLAR4 Q1\", \"agegroup\": \"18 year olds\", \"value\": 0.494}, {\"inst_all\": \"K60 Kings College London University of London\", \"Cycle\": \"2012-01-01T00:00:00\", \"statistic\": \"Offer rate\", \"equality_dimension\": \"POLAR4 Q2\", \"agegroup\": \"18 year olds\", \"value\": 0.543}, {\"inst_all\": \"K60 Kings College London University of London\", \"Cycle\": \"2012-01-01T00:00:00\", \"statistic\": \"Offer rate\", \"equality_dimension\": \"POLAR4 Q3\", \"agegroup\": \"18 year olds\", \"value\": 0.506}, {\"inst_all\": \"K60 Kings College London University of London\", \"Cycle\": \"2012-01-01T00:00:00\", \"statistic\": \"Offer rate\", \"equality_dimension\": \"POLAR4 Q4\", \"agegroup\": \"18 year olds\", \"value\": 0.519}, {\"inst_all\": \"K60 Kings College London University of London\", \"Cycle\": \"2012-01-01T00:00:00\", \"statistic\": \"Offer rate\", \"equality_dimension\": \"POLAR4 Q5\", \"agegroup\": \"18 year olds\", \"value\": 0.624}, {\"inst_all\": \"K60 Kings College London University of London\", \"Cycle\": \"2013-01-01T00:00:00\", \"statistic\": \"Offer rate\", \"equality_dimension\": \"POLAR4 Q1\", \"agegroup\": \"18 year olds\", \"value\": 0.574}, {\"inst_all\": \"K60 Kings College London University of London\", \"Cycle\": \"2013-01-01T00:00:00\", \"statistic\": \"Offer rate\", \"equality_dimension\": \"POLAR4 Q2\", \"agegroup\": \"18 year olds\", \"value\": 0.555}, {\"inst_all\": \"K60 Kings College London University of London\", \"Cycle\": \"2013-01-01T00:00:00\", \"statistic\": \"Offer rate\", \"equality_dimension\": \"POLAR4 Q3\", \"agegroup\": \"18 year olds\", \"value\": 0.563}, {\"inst_all\": \"K60 Kings College London University of London\", \"Cycle\": \"2013-01-01T00:00:00\", \"statistic\": \"Offer rate\", \"equality_dimension\": \"POLAR4 Q4\", \"agegroup\": \"18 year olds\", \"value\": 0.56}, {\"inst_all\": \"K60 Kings College London University of London\", \"Cycle\": \"2013-01-01T00:00:00\", \"statistic\": \"Offer rate\", \"equality_dimension\": \"POLAR4 Q5\", \"agegroup\": \"18 year olds\", \"value\": 0.653}, {\"inst_all\": \"K60 Kings College London University of London\", \"Cycle\": \"2014-01-01T00:00:00\", \"statistic\": \"Offer rate\", \"equality_dimension\": \"POLAR4 Q1\", \"agegroup\": \"18 year olds\", \"value\": 0.605}, {\"inst_all\": \"K60 Kings College London University of London\", \"Cycle\": \"2014-01-01T00:00:00\", \"statistic\": \"Offer rate\", \"equality_dimension\": \"POLAR4 Q2\", \"agegroup\": \"18 year olds\", \"value\": 0.631}, {\"inst_all\": \"K60 Kings College London University of London\", \"Cycle\": \"2014-01-01T00:00:00\", \"statistic\": \"Offer rate\", \"equality_dimension\": \"POLAR4 Q3\", \"agegroup\": \"18 year olds\", \"value\": 0.613}, {\"inst_all\": \"K60 Kings College London University of London\", \"Cycle\": \"2014-01-01T00:00:00\", \"statistic\": \"Offer rate\", \"equality_dimension\": \"POLAR4 Q4\", \"agegroup\": \"18 year olds\", \"value\": 0.587}, {\"inst_all\": \"K60 Kings College London University of London\", \"Cycle\": \"2014-01-01T00:00:00\", \"statistic\": \"Offer rate\", \"equality_dimension\": \"POLAR4 Q5\", \"agegroup\": \"18 year olds\", \"value\": 0.668}, {\"inst_all\": \"K60 Kings College London University of London\", \"Cycle\": \"2015-01-01T00:00:00\", \"statistic\": \"Offer rate\", \"equality_dimension\": \"POLAR4 Q1\", \"agegroup\": \"18 year olds\", \"value\": 0.576}, {\"inst_all\": \"K60 Kings College London University of London\", \"Cycle\": \"2015-01-01T00:00:00\", \"statistic\": \"Offer rate\", \"equality_dimension\": \"POLAR4 Q2\", \"agegroup\": \"18 year olds\", \"value\": 0.647}, {\"inst_all\": \"K60 Kings College London University of London\", \"Cycle\": \"2015-01-01T00:00:00\", \"statistic\": \"Offer rate\", \"equality_dimension\": \"POLAR4 Q3\", \"agegroup\": \"18 year olds\", \"value\": 0.621}, {\"inst_all\": \"K60 Kings College London University of London\", \"Cycle\": \"2015-01-01T00:00:00\", \"statistic\": \"Offer rate\", \"equality_dimension\": \"POLAR4 Q4\", \"agegroup\": \"18 year olds\", \"value\": 0.623}, {\"inst_all\": \"K60 Kings College London University of London\", \"Cycle\": \"2015-01-01T00:00:00\", \"statistic\": \"Offer rate\", \"equality_dimension\": \"POLAR4 Q5\", \"agegroup\": \"18 year olds\", \"value\": 0.726}, {\"inst_all\": \"K60 Kings College London University of London\", \"Cycle\": \"2016-01-01T00:00:00\", \"statistic\": \"Offer rate\", \"equality_dimension\": \"POLAR4 Q1\", \"agegroup\": \"18 year olds\", \"value\": 0.595}, {\"inst_all\": \"K60 Kings College London University of London\", \"Cycle\": \"2016-01-01T00:00:00\", \"statistic\": \"Offer rate\", \"equality_dimension\": \"POLAR4 Q2\", \"agegroup\": \"18 year olds\", \"value\": 0.625}, {\"inst_all\": \"K60 Kings College London University of London\", \"Cycle\": \"2016-01-01T00:00:00\", \"statistic\": \"Offer rate\", \"equality_dimension\": \"POLAR4 Q3\", \"agegroup\": \"18 year olds\", \"value\": 0.62}, {\"inst_all\": \"K60 Kings College London University of London\", \"Cycle\": \"2016-01-01T00:00:00\", \"statistic\": \"Offer rate\", \"equality_dimension\": \"POLAR4 Q4\", \"agegroup\": \"18 year olds\", \"value\": 0.622}, {\"inst_all\": \"K60 Kings College London University of London\", \"Cycle\": \"2016-01-01T00:00:00\", \"statistic\": \"Offer rate\", \"equality_dimension\": \"POLAR4 Q5\", \"agegroup\": \"18 year olds\", \"value\": 0.719}, {\"inst_all\": \"K60 Kings College London University of London\", \"Cycle\": \"2017-01-01T00:00:00\", \"statistic\": \"Offer rate\", \"equality_dimension\": \"POLAR4 Q1\", \"agegroup\": \"18 year olds\", \"value\": 0.656}, {\"inst_all\": \"K60 Kings College London University of London\", \"Cycle\": \"2017-01-01T00:00:00\", \"statistic\": \"Offer rate\", \"equality_dimension\": \"POLAR4 Q2\", \"agegroup\": \"18 year olds\", \"value\": 0.667}, {\"inst_all\": \"K60 Kings College London University of London\", \"Cycle\": \"2017-01-01T00:00:00\", \"statistic\": \"Offer rate\", \"equality_dimension\": \"POLAR4 Q3\", \"agegroup\": \"18 year olds\", \"value\": 0.665}, {\"inst_all\": \"K60 Kings College London University of London\", \"Cycle\": \"2017-01-01T00:00:00\", \"statistic\": \"Offer rate\", \"equality_dimension\": \"POLAR4 Q4\", \"agegroup\": \"18 year olds\", \"value\": 0.665}, {\"inst_all\": \"K60 Kings College London University of London\", \"Cycle\": \"2017-01-01T00:00:00\", \"statistic\": \"Offer rate\", \"equality_dimension\": \"POLAR4 Q5\", \"agegroup\": \"18 year olds\", \"value\": 0.74}, {\"inst_all\": \"K60 Kings College London University of London\", \"Cycle\": \"2018-01-01T00:00:00\", \"statistic\": \"Offer rate\", \"equality_dimension\": \"POLAR4 Q1\", \"agegroup\": \"18 year olds\", \"value\": 0.664}, {\"inst_all\": \"K60 Kings College London University of London\", \"Cycle\": \"2018-01-01T00:00:00\", \"statistic\": \"Offer rate\", \"equality_dimension\": \"POLAR4 Q2\", \"agegroup\": \"18 year olds\", \"value\": 0.68}, {\"inst_all\": \"K60 Kings College London University of London\", \"Cycle\": \"2018-01-01T00:00:00\", \"statistic\": \"Offer rate\", \"equality_dimension\": \"POLAR4 Q3\", \"agegroup\": \"18 year olds\", \"value\": 0.689}, {\"inst_all\": \"K60 Kings College London University of London\", \"Cycle\": \"2018-01-01T00:00:00\", \"statistic\": \"Offer rate\", \"equality_dimension\": \"POLAR4 Q4\", \"agegroup\": \"18 year olds\", \"value\": 0.705}, {\"inst_all\": \"K60 Kings College London University of London\", \"Cycle\": \"2018-01-01T00:00:00\", \"statistic\": \"Offer rate\", \"equality_dimension\": \"POLAR4 Q5\", \"agegroup\": \"18 year olds\", \"value\": 0.778}, {\"inst_all\": \"K60 Kings College London University of London\", \"Cycle\": \"2019-01-01T00:00:00\", \"statistic\": \"Offer rate\", \"equality_dimension\": \"POLAR4 Q1\", \"agegroup\": \"18 year olds\", \"value\": 0.629}, {\"inst_all\": \"K60 Kings College London University of London\", \"Cycle\": \"2019-01-01T00:00:00\", \"statistic\": \"Offer rate\", \"equality_dimension\": \"POLAR4 Q2\", \"agegroup\": \"18 year olds\", \"value\": 0.672}, {\"inst_all\": \"K60 Kings College London University of London\", \"Cycle\": \"2019-01-01T00:00:00\", \"statistic\": \"Offer rate\", \"equality_dimension\": \"POLAR4 Q3\", \"agegroup\": \"18 year olds\", \"value\": 0.674}, {\"inst_all\": \"K60 Kings College London University of London\", \"Cycle\": \"2019-01-01T00:00:00\", \"statistic\": \"Offer rate\", \"equality_dimension\": \"POLAR4 Q4\", \"agegroup\": \"18 year olds\", \"value\": 0.676}, {\"inst_all\": \"K60 Kings College London University of London\", \"Cycle\": \"2019-01-01T00:00:00\", \"statistic\": \"Offer rate\", \"equality_dimension\": \"POLAR4 Q5\", \"agegroup\": \"18 year olds\", \"value\": 0.749}, {\"inst_all\": \"K60 Kings College London University of London\", \"Cycle\": \"2020-01-01T00:00:00\", \"statistic\": \"Offer rate\", \"equality_dimension\": \"POLAR4 Q1\", \"agegroup\": \"18 year olds\", \"value\": 0.732}, {\"inst_all\": \"K60 Kings College London University of London\", \"Cycle\": \"2020-01-01T00:00:00\", \"statistic\": \"Offer rate\", \"equality_dimension\": \"POLAR4 Q2\", \"agegroup\": \"18 year olds\", \"value\": 0.768}, {\"inst_all\": \"K60 Kings College London University of London\", \"Cycle\": \"2020-01-01T00:00:00\", \"statistic\": \"Offer rate\", \"equality_dimension\": \"POLAR4 Q3\", \"agegroup\": \"18 year olds\", \"value\": 0.726}, {\"inst_all\": \"K60 Kings College London University of London\", \"Cycle\": \"2020-01-01T00:00:00\", \"statistic\": \"Offer rate\", \"equality_dimension\": \"POLAR4 Q4\", \"agegroup\": \"18 year olds\", \"value\": 0.741}, {\"inst_all\": \"K60 Kings College London University of London\", \"Cycle\": \"2020-01-01T00:00:00\", \"statistic\": \"Offer rate\", \"equality_dimension\": \"POLAR4 Q5\", \"agegroup\": \"18 year olds\", \"value\": 0.777}, {\"inst_all\": \"K60 Kings College London University of London\", \"Cycle\": \"2021-01-01T00:00:00\", \"statistic\": \"Offer rate\", \"equality_dimension\": \"POLAR4 Q1\", \"agegroup\": \"18 year olds\", \"value\": 0.69}, {\"inst_all\": \"K60 Kings College London University of London\", \"Cycle\": \"2021-01-01T00:00:00\", \"statistic\": \"Offer rate\", \"equality_dimension\": \"POLAR4 Q2\", \"agegroup\": \"18 year olds\", \"value\": 0.665}, {\"inst_all\": \"K60 Kings College London University of London\", \"Cycle\": \"2021-01-01T00:00:00\", \"statistic\": \"Offer rate\", \"equality_dimension\": \"POLAR4 Q3\", \"agegroup\": \"18 year olds\", \"value\": 0.619}, {\"inst_all\": \"K60 Kings College London University of London\", \"Cycle\": \"2021-01-01T00:00:00\", \"statistic\": \"Offer rate\", \"equality_dimension\": \"POLAR4 Q4\", \"agegroup\": \"18 year olds\", \"value\": 0.626}, {\"inst_all\": \"K60 Kings College London University of London\", \"Cycle\": \"2021-01-01T00:00:00\", \"statistic\": \"Offer rate\", \"equality_dimension\": \"POLAR4 Q5\", \"agegroup\": \"18 year olds\", \"value\": 0.67}, {\"inst_all\": \"M20 University of Manchester\", \"Cycle\": \"2010-01-01T00:00:00\", \"statistic\": \"Offer rate\", \"equality_dimension\": \"POLAR4 Q1\", \"agegroup\": \"18 year olds\", \"value\": 0.591}, {\"inst_all\": \"M20 University of Manchester\", \"Cycle\": \"2010-01-01T00:00:00\", \"statistic\": \"Offer rate\", \"equality_dimension\": \"POLAR4 Q2\", \"agegroup\": \"18 year olds\", \"value\": 0.633}, {\"inst_all\": \"M20 University of Manchester\", \"Cycle\": \"2010-01-01T00:00:00\", \"statistic\": \"Offer rate\", \"equality_dimension\": \"POLAR4 Q3\", \"agegroup\": \"18 year olds\", \"value\": 0.658}, {\"inst_all\": \"M20 University of Manchester\", \"Cycle\": \"2010-01-01T00:00:00\", \"statistic\": \"Offer rate\", \"equality_dimension\": \"POLAR4 Q4\", \"agegroup\": \"18 year olds\", \"value\": 0.713}, {\"inst_all\": \"M20 University of Manchester\", \"Cycle\": \"2010-01-01T00:00:00\", \"statistic\": \"Offer rate\", \"equality_dimension\": \"POLAR4 Q5\", \"agegroup\": \"18 year olds\", \"value\": 0.758}, {\"inst_all\": \"M20 University of Manchester\", \"Cycle\": \"2011-01-01T00:00:00\", \"statistic\": \"Offer rate\", \"equality_dimension\": \"POLAR4 Q1\", \"agegroup\": \"18 year olds\", \"value\": 0.561}, {\"inst_all\": \"M20 University of Manchester\", \"Cycle\": \"2011-01-01T00:00:00\", \"statistic\": \"Offer rate\", \"equality_dimension\": \"POLAR4 Q2\", \"agegroup\": \"18 year olds\", \"value\": 0.6}, {\"inst_all\": \"M20 University of Manchester\", \"Cycle\": \"2011-01-01T00:00:00\", \"statistic\": \"Offer rate\", \"equality_dimension\": \"POLAR4 Q3\", \"agegroup\": \"18 year olds\", \"value\": 0.644}, {\"inst_all\": \"M20 University of Manchester\", \"Cycle\": \"2011-01-01T00:00:00\", \"statistic\": \"Offer rate\", \"equality_dimension\": \"POLAR4 Q4\", \"agegroup\": \"18 year olds\", \"value\": 0.681}, {\"inst_all\": \"M20 University of Manchester\", \"Cycle\": \"2011-01-01T00:00:00\", \"statistic\": \"Offer rate\", \"equality_dimension\": \"POLAR4 Q5\", \"agegroup\": \"18 year olds\", \"value\": 0.754}, {\"inst_all\": \"M20 University of Manchester\", \"Cycle\": \"2012-01-01T00:00:00\", \"statistic\": \"Offer rate\", \"equality_dimension\": \"POLAR4 Q1\", \"agegroup\": \"18 year olds\", \"value\": 0.561}, {\"inst_all\": \"M20 University of Manchester\", \"Cycle\": \"2012-01-01T00:00:00\", \"statistic\": \"Offer rate\", \"equality_dimension\": \"POLAR4 Q2\", \"agegroup\": \"18 year olds\", \"value\": 0.619}, {\"inst_all\": \"M20 University of Manchester\", \"Cycle\": \"2012-01-01T00:00:00\", \"statistic\": \"Offer rate\", \"equality_dimension\": \"POLAR4 Q3\", \"agegroup\": \"18 year olds\", \"value\": 0.639}, {\"inst_all\": \"M20 University of Manchester\", \"Cycle\": \"2012-01-01T00:00:00\", \"statistic\": \"Offer rate\", \"equality_dimension\": \"POLAR4 Q4\", \"agegroup\": \"18 year olds\", \"value\": 0.687}, {\"inst_all\": \"M20 University of Manchester\", \"Cycle\": \"2012-01-01T00:00:00\", \"statistic\": \"Offer rate\", \"equality_dimension\": \"POLAR4 Q5\", \"agegroup\": \"18 year olds\", \"value\": 0.753}, {\"inst_all\": \"M20 University of Manchester\", \"Cycle\": \"2013-01-01T00:00:00\", \"statistic\": \"Offer rate\", \"equality_dimension\": \"POLAR4 Q1\", \"agegroup\": \"18 year olds\", \"value\": 0.611}, {\"inst_all\": \"M20 University of Manchester\", \"Cycle\": \"2013-01-01T00:00:00\", \"statistic\": \"Offer rate\", \"equality_dimension\": \"POLAR4 Q2\", \"agegroup\": \"18 year olds\", \"value\": 0.657}, {\"inst_all\": \"M20 University of Manchester\", \"Cycle\": \"2013-01-01T00:00:00\", \"statistic\": \"Offer rate\", \"equality_dimension\": \"POLAR4 Q3\", \"agegroup\": \"18 year olds\", \"value\": 0.682}, {\"inst_all\": \"M20 University of Manchester\", \"Cycle\": \"2013-01-01T00:00:00\", \"statistic\": \"Offer rate\", \"equality_dimension\": \"POLAR4 Q4\", \"agegroup\": \"18 year olds\", \"value\": 0.727}, {\"inst_all\": \"M20 University of Manchester\", \"Cycle\": \"2013-01-01T00:00:00\", \"statistic\": \"Offer rate\", \"equality_dimension\": \"POLAR4 Q5\", \"agegroup\": \"18 year olds\", \"value\": 0.79}, {\"inst_all\": \"M20 University of Manchester\", \"Cycle\": \"2014-01-01T00:00:00\", \"statistic\": \"Offer rate\", \"equality_dimension\": \"POLAR4 Q1\", \"agegroup\": \"18 year olds\", \"value\": 0.612}, {\"inst_all\": \"M20 University of Manchester\", \"Cycle\": \"2014-01-01T00:00:00\", \"statistic\": \"Offer rate\", \"equality_dimension\": \"POLAR4 Q2\", \"agegroup\": \"18 year olds\", \"value\": 0.656}, {\"inst_all\": \"M20 University of Manchester\", \"Cycle\": \"2014-01-01T00:00:00\", \"statistic\": \"Offer rate\", \"equality_dimension\": \"POLAR4 Q3\", \"agegroup\": \"18 year olds\", \"value\": 0.686}, {\"inst_all\": \"M20 University of Manchester\", \"Cycle\": \"2014-01-01T00:00:00\", \"statistic\": \"Offer rate\", \"equality_dimension\": \"POLAR4 Q4\", \"agegroup\": \"18 year olds\", \"value\": 0.717}, {\"inst_all\": \"M20 University of Manchester\", \"Cycle\": \"2014-01-01T00:00:00\", \"statistic\": \"Offer rate\", \"equality_dimension\": \"POLAR4 Q5\", \"agegroup\": \"18 year olds\", \"value\": 0.795}, {\"inst_all\": \"M20 University of Manchester\", \"Cycle\": \"2015-01-01T00:00:00\", \"statistic\": \"Offer rate\", \"equality_dimension\": \"POLAR4 Q1\", \"agegroup\": \"18 year olds\", \"value\": 0.615}, {\"inst_all\": \"M20 University of Manchester\", \"Cycle\": \"2015-01-01T00:00:00\", \"statistic\": \"Offer rate\", \"equality_dimension\": \"POLAR4 Q2\", \"agegroup\": \"18 year olds\", \"value\": 0.655}, {\"inst_all\": \"M20 University of Manchester\", \"Cycle\": \"2015-01-01T00:00:00\", \"statistic\": \"Offer rate\", \"equality_dimension\": \"POLAR4 Q3\", \"agegroup\": \"18 year olds\", \"value\": 0.695}, {\"inst_all\": \"M20 University of Manchester\", \"Cycle\": \"2015-01-01T00:00:00\", \"statistic\": \"Offer rate\", \"equality_dimension\": \"POLAR4 Q4\", \"agegroup\": \"18 year olds\", \"value\": 0.728}, {\"inst_all\": \"M20 University of Manchester\", \"Cycle\": \"2015-01-01T00:00:00\", \"statistic\": \"Offer rate\", \"equality_dimension\": \"POLAR4 Q5\", \"agegroup\": \"18 year olds\", \"value\": 0.805}, {\"inst_all\": \"M20 University of Manchester\", \"Cycle\": \"2016-01-01T00:00:00\", \"statistic\": \"Offer rate\", \"equality_dimension\": \"POLAR4 Q1\", \"agegroup\": \"18 year olds\", \"value\": 0.597}, {\"inst_all\": \"M20 University of Manchester\", \"Cycle\": \"2016-01-01T00:00:00\", \"statistic\": \"Offer rate\", \"equality_dimension\": \"POLAR4 Q2\", \"agegroup\": \"18 year olds\", \"value\": 0.642}, {\"inst_all\": \"M20 University of Manchester\", \"Cycle\": \"2016-01-01T00:00:00\", \"statistic\": \"Offer rate\", \"equality_dimension\": \"POLAR4 Q3\", \"agegroup\": \"18 year olds\", \"value\": 0.677}, {\"inst_all\": \"M20 University of Manchester\", \"Cycle\": \"2016-01-01T00:00:00\", \"statistic\": \"Offer rate\", \"equality_dimension\": \"POLAR4 Q4\", \"agegroup\": \"18 year olds\", \"value\": 0.728}, {\"inst_all\": \"M20 University of Manchester\", \"Cycle\": \"2016-01-01T00:00:00\", \"statistic\": \"Offer rate\", \"equality_dimension\": \"POLAR4 Q5\", \"agegroup\": \"18 year olds\", \"value\": 0.799}, {\"inst_all\": \"M20 University of Manchester\", \"Cycle\": \"2017-01-01T00:00:00\", \"statistic\": \"Offer rate\", \"equality_dimension\": \"POLAR4 Q1\", \"agegroup\": \"18 year olds\", \"value\": 0.58}, {\"inst_all\": \"M20 University of Manchester\", \"Cycle\": \"2017-01-01T00:00:00\", \"statistic\": \"Offer rate\", \"equality_dimension\": \"POLAR4 Q2\", \"agegroup\": \"18 year olds\", \"value\": 0.622}, {\"inst_all\": \"M20 University of Manchester\", \"Cycle\": \"2017-01-01T00:00:00\", \"statistic\": \"Offer rate\", \"equality_dimension\": \"POLAR4 Q3\", \"agegroup\": \"18 year olds\", \"value\": 0.656}, {\"inst_all\": \"M20 University of Manchester\", \"Cycle\": \"2017-01-01T00:00:00\", \"statistic\": \"Offer rate\", \"equality_dimension\": \"POLAR4 Q4\", \"agegroup\": \"18 year olds\", \"value\": 0.695}, {\"inst_all\": \"M20 University of Manchester\", \"Cycle\": \"2017-01-01T00:00:00\", \"statistic\": \"Offer rate\", \"equality_dimension\": \"POLAR4 Q5\", \"agegroup\": \"18 year olds\", \"value\": 0.783}, {\"inst_all\": \"M20 University of Manchester\", \"Cycle\": \"2018-01-01T00:00:00\", \"statistic\": \"Offer rate\", \"equality_dimension\": \"POLAR4 Q1\", \"agegroup\": \"18 year olds\", \"value\": 0.556}, {\"inst_all\": \"M20 University of Manchester\", \"Cycle\": \"2018-01-01T00:00:00\", \"statistic\": \"Offer rate\", \"equality_dimension\": \"POLAR4 Q2\", \"agegroup\": \"18 year olds\", \"value\": 0.594}, {\"inst_all\": \"M20 University of Manchester\", \"Cycle\": \"2018-01-01T00:00:00\", \"statistic\": \"Offer rate\", \"equality_dimension\": \"POLAR4 Q3\", \"agegroup\": \"18 year olds\", \"value\": 0.632}, {\"inst_all\": \"M20 University of Manchester\", \"Cycle\": \"2018-01-01T00:00:00\", \"statistic\": \"Offer rate\", \"equality_dimension\": \"POLAR4 Q4\", \"agegroup\": \"18 year olds\", \"value\": 0.695}, {\"inst_all\": \"M20 University of Manchester\", \"Cycle\": \"2018-01-01T00:00:00\", \"statistic\": \"Offer rate\", \"equality_dimension\": \"POLAR4 Q5\", \"agegroup\": \"18 year olds\", \"value\": 0.762}, {\"inst_all\": \"M20 University of Manchester\", \"Cycle\": \"2019-01-01T00:00:00\", \"statistic\": \"Offer rate\", \"equality_dimension\": \"POLAR4 Q1\", \"agegroup\": \"18 year olds\", \"value\": 0.603}, {\"inst_all\": \"M20 University of Manchester\", \"Cycle\": \"2019-01-01T00:00:00\", \"statistic\": \"Offer rate\", \"equality_dimension\": \"POLAR4 Q2\", \"agegroup\": \"18 year olds\", \"value\": 0.631}, {\"inst_all\": \"M20 University of Manchester\", \"Cycle\": \"2019-01-01T00:00:00\", \"statistic\": \"Offer rate\", \"equality_dimension\": \"POLAR4 Q3\", \"agegroup\": \"18 year olds\", \"value\": 0.652}, {\"inst_all\": \"M20 University of Manchester\", \"Cycle\": \"2019-01-01T00:00:00\", \"statistic\": \"Offer rate\", \"equality_dimension\": \"POLAR4 Q4\", \"agegroup\": \"18 year olds\", \"value\": 0.693}, {\"inst_all\": \"M20 University of Manchester\", \"Cycle\": \"2019-01-01T00:00:00\", \"statistic\": \"Offer rate\", \"equality_dimension\": \"POLAR4 Q5\", \"agegroup\": \"18 year olds\", \"value\": 0.783}, {\"inst_all\": \"M20 University of Manchester\", \"Cycle\": \"2020-01-01T00:00:00\", \"statistic\": \"Offer rate\", \"equality_dimension\": \"POLAR4 Q1\", \"agegroup\": \"18 year olds\", \"value\": 0.576}, {\"inst_all\": \"M20 University of Manchester\", \"Cycle\": \"2020-01-01T00:00:00\", \"statistic\": \"Offer rate\", \"equality_dimension\": \"POLAR4 Q2\", \"agegroup\": \"18 year olds\", \"value\": 0.589}, {\"inst_all\": \"M20 University of Manchester\", \"Cycle\": \"2020-01-01T00:00:00\", \"statistic\": \"Offer rate\", \"equality_dimension\": \"POLAR4 Q3\", \"agegroup\": \"18 year olds\", \"value\": 0.628}, {\"inst_all\": \"M20 University of Manchester\", \"Cycle\": \"2020-01-01T00:00:00\", \"statistic\": \"Offer rate\", \"equality_dimension\": \"POLAR4 Q4\", \"agegroup\": \"18 year olds\", \"value\": 0.675}, {\"inst_all\": \"M20 University of Manchester\", \"Cycle\": \"2020-01-01T00:00:00\", \"statistic\": \"Offer rate\", \"equality_dimension\": \"POLAR4 Q5\", \"agegroup\": \"18 year olds\", \"value\": 0.763}, {\"inst_all\": \"M20 University of Manchester\", \"Cycle\": \"2021-01-01T00:00:00\", \"statistic\": \"Offer rate\", \"equality_dimension\": \"POLAR4 Q1\", \"agegroup\": \"18 year olds\", \"value\": 0.602}, {\"inst_all\": \"M20 University of Manchester\", \"Cycle\": \"2021-01-01T00:00:00\", \"statistic\": \"Offer rate\", \"equality_dimension\": \"POLAR4 Q2\", \"agegroup\": \"18 year olds\", \"value\": 0.602}, {\"inst_all\": \"M20 University of Manchester\", \"Cycle\": \"2021-01-01T00:00:00\", \"statistic\": \"Offer rate\", \"equality_dimension\": \"POLAR4 Q3\", \"agegroup\": \"18 year olds\", \"value\": 0.629}, {\"inst_all\": \"M20 University of Manchester\", \"Cycle\": \"2021-01-01T00:00:00\", \"statistic\": \"Offer rate\", \"equality_dimension\": \"POLAR4 Q4\", \"agegroup\": \"18 year olds\", \"value\": 0.687}, {\"inst_all\": \"M20 University of Manchester\", \"Cycle\": \"2021-01-01T00:00:00\", \"statistic\": \"Offer rate\", \"equality_dimension\": \"POLAR4 Q5\", \"agegroup\": \"18 year olds\", \"value\": 0.774}, {\"inst_all\": \"S18 University of Sheffield\", \"Cycle\": \"2010-01-01T00:00:00\", \"statistic\": \"Offer rate\", \"equality_dimension\": \"POLAR4 Q1\", \"agegroup\": \"18 year olds\", \"value\": 0.603}, {\"inst_all\": \"S18 University of Sheffield\", \"Cycle\": \"2010-01-01T00:00:00\", \"statistic\": \"Offer rate\", \"equality_dimension\": \"POLAR4 Q2\", \"agegroup\": \"18 year olds\", \"value\": 0.665}, {\"inst_all\": \"S18 University of Sheffield\", \"Cycle\": \"2010-01-01T00:00:00\", \"statistic\": \"Offer rate\", \"equality_dimension\": \"POLAR4 Q3\", \"agegroup\": \"18 year olds\", \"value\": 0.678}, {\"inst_all\": \"S18 University of Sheffield\", \"Cycle\": \"2010-01-01T00:00:00\", \"statistic\": \"Offer rate\", \"equality_dimension\": \"POLAR4 Q4\", \"agegroup\": \"18 year olds\", \"value\": 0.717}, {\"inst_all\": \"S18 University of Sheffield\", \"Cycle\": \"2010-01-01T00:00:00\", \"statistic\": \"Offer rate\", \"equality_dimension\": \"POLAR4 Q5\", \"agegroup\": \"18 year olds\", \"value\": 0.752}, {\"inst_all\": \"S18 University of Sheffield\", \"Cycle\": \"2011-01-01T00:00:00\", \"statistic\": \"Offer rate\", \"equality_dimension\": \"POLAR4 Q1\", \"agegroup\": \"18 year olds\", \"value\": 0.663}, {\"inst_all\": \"S18 University of Sheffield\", \"Cycle\": \"2011-01-01T00:00:00\", \"statistic\": \"Offer rate\", \"equality_dimension\": \"POLAR4 Q2\", \"agegroup\": \"18 year olds\", \"value\": 0.685}, {\"inst_all\": \"S18 University of Sheffield\", \"Cycle\": \"2011-01-01T00:00:00\", \"statistic\": \"Offer rate\", \"equality_dimension\": \"POLAR4 Q3\", \"agegroup\": \"18 year olds\", \"value\": 0.712}, {\"inst_all\": \"S18 University of Sheffield\", \"Cycle\": \"2011-01-01T00:00:00\", \"statistic\": \"Offer rate\", \"equality_dimension\": \"POLAR4 Q4\", \"agegroup\": \"18 year olds\", \"value\": 0.736}, {\"inst_all\": \"S18 University of Sheffield\", \"Cycle\": \"2011-01-01T00:00:00\", \"statistic\": \"Offer rate\", \"equality_dimension\": \"POLAR4 Q5\", \"agegroup\": \"18 year olds\", \"value\": 0.77}, {\"inst_all\": \"S18 University of Sheffield\", \"Cycle\": \"2012-01-01T00:00:00\", \"statistic\": \"Offer rate\", \"equality_dimension\": \"POLAR4 Q1\", \"agegroup\": \"18 year olds\", \"value\": 0.716}, {\"inst_all\": \"S18 University of Sheffield\", \"Cycle\": \"2012-01-01T00:00:00\", \"statistic\": \"Offer rate\", \"equality_dimension\": \"POLAR4 Q2\", \"agegroup\": \"18 year olds\", \"value\": 0.772}, {\"inst_all\": \"S18 University of Sheffield\", \"Cycle\": \"2012-01-01T00:00:00\", \"statistic\": \"Offer rate\", \"equality_dimension\": \"POLAR4 Q3\", \"agegroup\": \"18 year olds\", \"value\": 0.801}, {\"inst_all\": \"S18 University of Sheffield\", \"Cycle\": \"2012-01-01T00:00:00\", \"statistic\": \"Offer rate\", \"equality_dimension\": \"POLAR4 Q4\", \"agegroup\": \"18 year olds\", \"value\": 0.817}, {\"inst_all\": \"S18 University of Sheffield\", \"Cycle\": \"2012-01-01T00:00:00\", \"statistic\": \"Offer rate\", \"equality_dimension\": \"POLAR4 Q5\", \"agegroup\": \"18 year olds\", \"value\": 0.853}, {\"inst_all\": \"S18 University of Sheffield\", \"Cycle\": \"2013-01-01T00:00:00\", \"statistic\": \"Offer rate\", \"equality_dimension\": \"POLAR4 Q1\", \"agegroup\": \"18 year olds\", \"value\": 0.794}, {\"inst_all\": \"S18 University of Sheffield\", \"Cycle\": \"2013-01-01T00:00:00\", \"statistic\": \"Offer rate\", \"equality_dimension\": \"POLAR4 Q2\", \"agegroup\": \"18 year olds\", \"value\": 0.784}, {\"inst_all\": \"S18 University of Sheffield\", \"Cycle\": \"2013-01-01T00:00:00\", \"statistic\": \"Offer rate\", \"equality_dimension\": \"POLAR4 Q3\", \"agegroup\": \"18 year olds\", \"value\": 0.825}, {\"inst_all\": \"S18 University of Sheffield\", \"Cycle\": \"2013-01-01T00:00:00\", \"statistic\": \"Offer rate\", \"equality_dimension\": \"POLAR4 Q4\", \"agegroup\": \"18 year olds\", \"value\": 0.827}, {\"inst_all\": \"S18 University of Sheffield\", \"Cycle\": \"2013-01-01T00:00:00\", \"statistic\": \"Offer rate\", \"equality_dimension\": \"POLAR4 Q5\", \"agegroup\": \"18 year olds\", \"value\": 0.843}, {\"inst_all\": \"S18 University of Sheffield\", \"Cycle\": \"2014-01-01T00:00:00\", \"statistic\": \"Offer rate\", \"equality_dimension\": \"POLAR4 Q1\", \"agegroup\": \"18 year olds\", \"value\": 0.805}, {\"inst_all\": \"S18 University of Sheffield\", \"Cycle\": \"2014-01-01T00:00:00\", \"statistic\": \"Offer rate\", \"equality_dimension\": \"POLAR4 Q2\", \"agegroup\": \"18 year olds\", \"value\": 0.817}, {\"inst_all\": \"S18 University of Sheffield\", \"Cycle\": \"2014-01-01T00:00:00\", \"statistic\": \"Offer rate\", \"equality_dimension\": \"POLAR4 Q3\", \"agegroup\": \"18 year olds\", \"value\": 0.838}, {\"inst_all\": \"S18 University of Sheffield\", \"Cycle\": \"2014-01-01T00:00:00\", \"statistic\": \"Offer rate\", \"equality_dimension\": \"POLAR4 Q4\", \"agegroup\": \"18 year olds\", \"value\": 0.842}, {\"inst_all\": \"S18 University of Sheffield\", \"Cycle\": \"2014-01-01T00:00:00\", \"statistic\": \"Offer rate\", \"equality_dimension\": \"POLAR4 Q5\", \"agegroup\": \"18 year olds\", \"value\": 0.856}, {\"inst_all\": \"S18 University of Sheffield\", \"Cycle\": \"2015-01-01T00:00:00\", \"statistic\": \"Offer rate\", \"equality_dimension\": \"POLAR4 Q1\", \"agegroup\": \"18 year olds\", \"value\": 0.8}, {\"inst_all\": \"S18 University of Sheffield\", \"Cycle\": \"2015-01-01T00:00:00\", \"statistic\": \"Offer rate\", \"equality_dimension\": \"POLAR4 Q2\", \"agegroup\": \"18 year olds\", \"value\": 0.824}, {\"inst_all\": \"S18 University of Sheffield\", \"Cycle\": \"2015-01-01T00:00:00\", \"statistic\": \"Offer rate\", \"equality_dimension\": \"POLAR4 Q3\", \"agegroup\": \"18 year olds\", \"value\": 0.847}, {\"inst_all\": \"S18 University of Sheffield\", \"Cycle\": \"2015-01-01T00:00:00\", \"statistic\": \"Offer rate\", \"equality_dimension\": \"POLAR4 Q4\", \"agegroup\": \"18 year olds\", \"value\": 0.87}, {\"inst_all\": \"S18 University of Sheffield\", \"Cycle\": \"2015-01-01T00:00:00\", \"statistic\": \"Offer rate\", \"equality_dimension\": \"POLAR4 Q5\", \"agegroup\": \"18 year olds\", \"value\": 0.874}, {\"inst_all\": \"S18 University of Sheffield\", \"Cycle\": \"2016-01-01T00:00:00\", \"statistic\": \"Offer rate\", \"equality_dimension\": \"POLAR4 Q1\", \"agegroup\": \"18 year olds\", \"value\": 0.803}, {\"inst_all\": \"S18 University of Sheffield\", \"Cycle\": \"2016-01-01T00:00:00\", \"statistic\": \"Offer rate\", \"equality_dimension\": \"POLAR4 Q2\", \"agegroup\": \"18 year olds\", \"value\": 0.823}, {\"inst_all\": \"S18 University of Sheffield\", \"Cycle\": \"2016-01-01T00:00:00\", \"statistic\": \"Offer rate\", \"equality_dimension\": \"POLAR4 Q3\", \"agegroup\": \"18 year olds\", \"value\": 0.844}, {\"inst_all\": \"S18 University of Sheffield\", \"Cycle\": \"2016-01-01T00:00:00\", \"statistic\": \"Offer rate\", \"equality_dimension\": \"POLAR4 Q4\", \"agegroup\": \"18 year olds\", \"value\": 0.844}, {\"inst_all\": \"S18 University of Sheffield\", \"Cycle\": \"2016-01-01T00:00:00\", \"statistic\": \"Offer rate\", \"equality_dimension\": \"POLAR4 Q5\", \"agegroup\": \"18 year olds\", \"value\": 0.866}, {\"inst_all\": \"S18 University of Sheffield\", \"Cycle\": \"2017-01-01T00:00:00\", \"statistic\": \"Offer rate\", \"equality_dimension\": \"POLAR4 Q1\", \"agegroup\": \"18 year olds\", \"value\": 0.767}, {\"inst_all\": \"S18 University of Sheffield\", \"Cycle\": \"2017-01-01T00:00:00\", \"statistic\": \"Offer rate\", \"equality_dimension\": \"POLAR4 Q2\", \"agegroup\": \"18 year olds\", \"value\": 0.797}, {\"inst_all\": \"S18 University of Sheffield\", \"Cycle\": \"2017-01-01T00:00:00\", \"statistic\": \"Offer rate\", \"equality_dimension\": \"POLAR4 Q3\", \"agegroup\": \"18 year olds\", \"value\": 0.821}, {\"inst_all\": \"S18 University of Sheffield\", \"Cycle\": \"2017-01-01T00:00:00\", \"statistic\": \"Offer rate\", \"equality_dimension\": \"POLAR4 Q4\", \"agegroup\": \"18 year olds\", \"value\": 0.851}, {\"inst_all\": \"S18 University of Sheffield\", \"Cycle\": \"2017-01-01T00:00:00\", \"statistic\": \"Offer rate\", \"equality_dimension\": \"POLAR4 Q5\", \"agegroup\": \"18 year olds\", \"value\": 0.878}, {\"inst_all\": \"S18 University of Sheffield\", \"Cycle\": \"2018-01-01T00:00:00\", \"statistic\": \"Offer rate\", \"equality_dimension\": \"POLAR4 Q1\", \"agegroup\": \"18 year olds\", \"value\": 0.804}, {\"inst_all\": \"S18 University of Sheffield\", \"Cycle\": \"2018-01-01T00:00:00\", \"statistic\": \"Offer rate\", \"equality_dimension\": \"POLAR4 Q2\", \"agegroup\": \"18 year olds\", \"value\": 0.805}, {\"inst_all\": \"S18 University of Sheffield\", \"Cycle\": \"2018-01-01T00:00:00\", \"statistic\": \"Offer rate\", \"equality_dimension\": \"POLAR4 Q3\", \"agegroup\": \"18 year olds\", \"value\": 0.847}, {\"inst_all\": \"S18 University of Sheffield\", \"Cycle\": \"2018-01-01T00:00:00\", \"statistic\": \"Offer rate\", \"equality_dimension\": \"POLAR4 Q4\", \"agegroup\": \"18 year olds\", \"value\": 0.864}, {\"inst_all\": \"S18 University of Sheffield\", \"Cycle\": \"2018-01-01T00:00:00\", \"statistic\": \"Offer rate\", \"equality_dimension\": \"POLAR4 Q5\", \"agegroup\": \"18 year olds\", \"value\": 0.901}, {\"inst_all\": \"S18 University of Sheffield\", \"Cycle\": \"2019-01-01T00:00:00\", \"statistic\": \"Offer rate\", \"equality_dimension\": \"POLAR4 Q1\", \"agegroup\": \"18 year olds\", \"value\": 0.817}, {\"inst_all\": \"S18 University of Sheffield\", \"Cycle\": \"2019-01-01T00:00:00\", \"statistic\": \"Offer rate\", \"equality_dimension\": \"POLAR4 Q2\", \"agegroup\": \"18 year olds\", \"value\": 0.808}, {\"inst_all\": \"S18 University of Sheffield\", \"Cycle\": \"2019-01-01T00:00:00\", \"statistic\": \"Offer rate\", \"equality_dimension\": \"POLAR4 Q3\", \"agegroup\": \"18 year olds\", \"value\": 0.832}, {\"inst_all\": \"S18 University of Sheffield\", \"Cycle\": \"2019-01-01T00:00:00\", \"statistic\": \"Offer rate\", \"equality_dimension\": \"POLAR4 Q4\", \"agegroup\": \"18 year olds\", \"value\": 0.856}, {\"inst_all\": \"S18 University of Sheffield\", \"Cycle\": \"2019-01-01T00:00:00\", \"statistic\": \"Offer rate\", \"equality_dimension\": \"POLAR4 Q5\", \"agegroup\": \"18 year olds\", \"value\": 0.884}, {\"inst_all\": \"S18 University of Sheffield\", \"Cycle\": \"2020-01-01T00:00:00\", \"statistic\": \"Offer rate\", \"equality_dimension\": \"POLAR4 Q1\", \"agegroup\": \"18 year olds\", \"value\": 0.787}, {\"inst_all\": \"S18 University of Sheffield\", \"Cycle\": \"2020-01-01T00:00:00\", \"statistic\": \"Offer rate\", \"equality_dimension\": \"POLAR4 Q2\", \"agegroup\": \"18 year olds\", \"value\": 0.808}, {\"inst_all\": \"S18 University of Sheffield\", \"Cycle\": \"2020-01-01T00:00:00\", \"statistic\": \"Offer rate\", \"equality_dimension\": \"POLAR4 Q3\", \"agegroup\": \"18 year olds\", \"value\": 0.817}, {\"inst_all\": \"S18 University of Sheffield\", \"Cycle\": \"2020-01-01T00:00:00\", \"statistic\": \"Offer rate\", \"equality_dimension\": \"POLAR4 Q4\", \"agegroup\": \"18 year olds\", \"value\": 0.839}, {\"inst_all\": \"S18 University of Sheffield\", \"Cycle\": \"2020-01-01T00:00:00\", \"statistic\": \"Offer rate\", \"equality_dimension\": \"POLAR4 Q5\", \"agegroup\": \"18 year olds\", \"value\": 0.879}, {\"inst_all\": \"S18 University of Sheffield\", \"Cycle\": \"2021-01-01T00:00:00\", \"statistic\": \"Offer rate\", \"equality_dimension\": \"POLAR4 Q1\", \"agegroup\": \"18 year olds\", \"value\": 0.777}, {\"inst_all\": \"S18 University of Sheffield\", \"Cycle\": \"2021-01-01T00:00:00\", \"statistic\": \"Offer rate\", \"equality_dimension\": \"POLAR4 Q2\", \"agegroup\": \"18 year olds\", \"value\": 0.791}, {\"inst_all\": \"S18 University of Sheffield\", \"Cycle\": \"2021-01-01T00:00:00\", \"statistic\": \"Offer rate\", \"equality_dimension\": \"POLAR4 Q3\", \"agegroup\": \"18 year olds\", \"value\": 0.817}, {\"inst_all\": \"S18 University of Sheffield\", \"Cycle\": \"2021-01-01T00:00:00\", \"statistic\": \"Offer rate\", \"equality_dimension\": \"POLAR4 Q4\", \"agegroup\": \"18 year olds\", \"value\": 0.845}, {\"inst_all\": \"S18 University of Sheffield\", \"Cycle\": \"2021-01-01T00:00:00\", \"statistic\": \"Offer rate\", \"equality_dimension\": \"POLAR4 Q5\", \"agegroup\": \"18 year olds\", \"value\": 0.867}, {\"inst_all\": \"Y50 University of York\", \"Cycle\": \"2010-01-01T00:00:00\", \"statistic\": \"Offer rate\", \"equality_dimension\": \"POLAR4 Q1\", \"agegroup\": \"18 year olds\", \"value\": 0.542}, {\"inst_all\": \"Y50 University of York\", \"Cycle\": \"2010-01-01T00:00:00\", \"statistic\": \"Offer rate\", \"equality_dimension\": \"POLAR4 Q2\", \"agegroup\": \"18 year olds\", \"value\": 0.603}, {\"inst_all\": \"Y50 University of York\", \"Cycle\": \"2010-01-01T00:00:00\", \"statistic\": \"Offer rate\", \"equality_dimension\": \"POLAR4 Q3\", \"agegroup\": \"18 year olds\", \"value\": 0.645}, {\"inst_all\": \"Y50 University of York\", \"Cycle\": \"2010-01-01T00:00:00\", \"statistic\": \"Offer rate\", \"equality_dimension\": \"POLAR4 Q4\", \"agegroup\": \"18 year olds\", \"value\": 0.695}, {\"inst_all\": \"Y50 University of York\", \"Cycle\": \"2010-01-01T00:00:00\", \"statistic\": \"Offer rate\", \"equality_dimension\": \"POLAR4 Q5\", \"agegroup\": \"18 year olds\", \"value\": 0.758}, {\"inst_all\": \"Y50 University of York\", \"Cycle\": \"2011-01-01T00:00:00\", \"statistic\": \"Offer rate\", \"equality_dimension\": \"POLAR4 Q1\", \"agegroup\": \"18 year olds\", \"value\": 0.582}, {\"inst_all\": \"Y50 University of York\", \"Cycle\": \"2011-01-01T00:00:00\", \"statistic\": \"Offer rate\", \"equality_dimension\": \"POLAR4 Q2\", \"agegroup\": \"18 year olds\", \"value\": 0.643}, {\"inst_all\": \"Y50 University of York\", \"Cycle\": \"2011-01-01T00:00:00\", \"statistic\": \"Offer rate\", \"equality_dimension\": \"POLAR4 Q3\", \"agegroup\": \"18 year olds\", \"value\": 0.686}, {\"inst_all\": \"Y50 University of York\", \"Cycle\": \"2011-01-01T00:00:00\", \"statistic\": \"Offer rate\", \"equality_dimension\": \"POLAR4 Q4\", \"agegroup\": \"18 year olds\", \"value\": 0.731}, {\"inst_all\": \"Y50 University of York\", \"Cycle\": \"2011-01-01T00:00:00\", \"statistic\": \"Offer rate\", \"equality_dimension\": \"POLAR4 Q5\", \"agegroup\": \"18 year olds\", \"value\": 0.78}, {\"inst_all\": \"Y50 University of York\", \"Cycle\": \"2012-01-01T00:00:00\", \"statistic\": \"Offer rate\", \"equality_dimension\": \"POLAR4 Q1\", \"agegroup\": \"18 year olds\", \"value\": 0.582}, {\"inst_all\": \"Y50 University of York\", \"Cycle\": \"2012-01-01T00:00:00\", \"statistic\": \"Offer rate\", \"equality_dimension\": \"POLAR4 Q2\", \"agegroup\": \"18 year olds\", \"value\": 0.647}, {\"inst_all\": \"Y50 University of York\", \"Cycle\": \"2012-01-01T00:00:00\", \"statistic\": \"Offer rate\", \"equality_dimension\": \"POLAR4 Q3\", \"agegroup\": \"18 year olds\", \"value\": 0.706}, {\"inst_all\": \"Y50 University of York\", \"Cycle\": \"2012-01-01T00:00:00\", \"statistic\": \"Offer rate\", \"equality_dimension\": \"POLAR4 Q4\", \"agegroup\": \"18 year olds\", \"value\": 0.75}, {\"inst_all\": \"Y50 University of York\", \"Cycle\": \"2012-01-01T00:00:00\", \"statistic\": \"Offer rate\", \"equality_dimension\": \"POLAR4 Q5\", \"agegroup\": \"18 year olds\", \"value\": 0.825}, {\"inst_all\": \"Y50 University of York\", \"Cycle\": \"2013-01-01T00:00:00\", \"statistic\": \"Offer rate\", \"equality_dimension\": \"POLAR4 Q1\", \"agegroup\": \"18 year olds\", \"value\": 0.572}, {\"inst_all\": \"Y50 University of York\", \"Cycle\": \"2013-01-01T00:00:00\", \"statistic\": \"Offer rate\", \"equality_dimension\": \"POLAR4 Q2\", \"agegroup\": \"18 year olds\", \"value\": 0.651}, {\"inst_all\": \"Y50 University of York\", \"Cycle\": \"2013-01-01T00:00:00\", \"statistic\": \"Offer rate\", \"equality_dimension\": \"POLAR4 Q3\", \"agegroup\": \"18 year olds\", \"value\": 0.719}, {\"inst_all\": \"Y50 University of York\", \"Cycle\": \"2013-01-01T00:00:00\", \"statistic\": \"Offer rate\", \"equality_dimension\": \"POLAR4 Q4\", \"agegroup\": \"18 year olds\", \"value\": 0.771}, {\"inst_all\": \"Y50 University of York\", \"Cycle\": \"2013-01-01T00:00:00\", \"statistic\": \"Offer rate\", \"equality_dimension\": \"POLAR4 Q5\", \"agegroup\": \"18 year olds\", \"value\": 0.844}, {\"inst_all\": \"Y50 University of York\", \"Cycle\": \"2014-01-01T00:00:00\", \"statistic\": \"Offer rate\", \"equality_dimension\": \"POLAR4 Q1\", \"agegroup\": \"18 year olds\", \"value\": 0.6}, {\"inst_all\": \"Y50 University of York\", \"Cycle\": \"2014-01-01T00:00:00\", \"statistic\": \"Offer rate\", \"equality_dimension\": \"POLAR4 Q2\", \"agegroup\": \"18 year olds\", \"value\": 0.681}, {\"inst_all\": \"Y50 University of York\", \"Cycle\": \"2014-01-01T00:00:00\", \"statistic\": \"Offer rate\", \"equality_dimension\": \"POLAR4 Q3\", \"agegroup\": \"18 year olds\", \"value\": 0.751}, {\"inst_all\": \"Y50 University of York\", \"Cycle\": \"2014-01-01T00:00:00\", \"statistic\": \"Offer rate\", \"equality_dimension\": \"POLAR4 Q4\", \"agegroup\": \"18 year olds\", \"value\": 0.795}, {\"inst_all\": \"Y50 University of York\", \"Cycle\": \"2014-01-01T00:00:00\", \"statistic\": \"Offer rate\", \"equality_dimension\": \"POLAR4 Q5\", \"agegroup\": \"18 year olds\", \"value\": 0.87}, {\"inst_all\": \"Y50 University of York\", \"Cycle\": \"2015-01-01T00:00:00\", \"statistic\": \"Offer rate\", \"equality_dimension\": \"POLAR4 Q1\", \"agegroup\": \"18 year olds\", \"value\": 0.602}, {\"inst_all\": \"Y50 University of York\", \"Cycle\": \"2015-01-01T00:00:00\", \"statistic\": \"Offer rate\", \"equality_dimension\": \"POLAR4 Q2\", \"agegroup\": \"18 year olds\", \"value\": 0.689}, {\"inst_all\": \"Y50 University of York\", \"Cycle\": \"2015-01-01T00:00:00\", \"statistic\": \"Offer rate\", \"equality_dimension\": \"POLAR4 Q3\", \"agegroup\": \"18 year olds\", \"value\": 0.76}, {\"inst_all\": \"Y50 University of York\", \"Cycle\": \"2015-01-01T00:00:00\", \"statistic\": \"Offer rate\", \"equality_dimension\": \"POLAR4 Q4\", \"agegroup\": \"18 year olds\", \"value\": 0.811}, {\"inst_all\": \"Y50 University of York\", \"Cycle\": \"2015-01-01T00:00:00\", \"statistic\": \"Offer rate\", \"equality_dimension\": \"POLAR4 Q5\", \"agegroup\": \"18 year olds\", \"value\": 0.866}, {\"inst_all\": \"Y50 University of York\", \"Cycle\": \"2016-01-01T00:00:00\", \"statistic\": \"Offer rate\", \"equality_dimension\": \"POLAR4 Q1\", \"agegroup\": \"18 year olds\", \"value\": 0.62}, {\"inst_all\": \"Y50 University of York\", \"Cycle\": \"2016-01-01T00:00:00\", \"statistic\": \"Offer rate\", \"equality_dimension\": \"POLAR4 Q2\", \"agegroup\": \"18 year olds\", \"value\": 0.73}, {\"inst_all\": \"Y50 University of York\", \"Cycle\": \"2016-01-01T00:00:00\", \"statistic\": \"Offer rate\", \"equality_dimension\": \"POLAR4 Q3\", \"agegroup\": \"18 year olds\", \"value\": 0.773}, {\"inst_all\": \"Y50 University of York\", \"Cycle\": \"2016-01-01T00:00:00\", \"statistic\": \"Offer rate\", \"equality_dimension\": \"POLAR4 Q4\", \"agegroup\": \"18 year olds\", \"value\": 0.824}, {\"inst_all\": \"Y50 University of York\", \"Cycle\": \"2016-01-01T00:00:00\", \"statistic\": \"Offer rate\", \"equality_dimension\": \"POLAR4 Q5\", \"agegroup\": \"18 year olds\", \"value\": 0.887}, {\"inst_all\": \"Y50 University of York\", \"Cycle\": \"2017-01-01T00:00:00\", \"statistic\": \"Offer rate\", \"equality_dimension\": \"POLAR4 Q1\", \"agegroup\": \"18 year olds\", \"value\": 0.698}, {\"inst_all\": \"Y50 University of York\", \"Cycle\": \"2017-01-01T00:00:00\", \"statistic\": \"Offer rate\", \"equality_dimension\": \"POLAR4 Q2\", \"agegroup\": \"18 year olds\", \"value\": 0.771}, {\"inst_all\": \"Y50 University of York\", \"Cycle\": \"2017-01-01T00:00:00\", \"statistic\": \"Offer rate\", \"equality_dimension\": \"POLAR4 Q3\", \"agegroup\": \"18 year olds\", \"value\": 0.829}, {\"inst_all\": \"Y50 University of York\", \"Cycle\": \"2017-01-01T00:00:00\", \"statistic\": \"Offer rate\", \"equality_dimension\": \"POLAR4 Q4\", \"agegroup\": \"18 year olds\", \"value\": 0.849}, {\"inst_all\": \"Y50 University of York\", \"Cycle\": \"2017-01-01T00:00:00\", \"statistic\": \"Offer rate\", \"equality_dimension\": \"POLAR4 Q5\", \"agegroup\": \"18 year olds\", \"value\": 0.901}, {\"inst_all\": \"Y50 University of York\", \"Cycle\": \"2018-01-01T00:00:00\", \"statistic\": \"Offer rate\", \"equality_dimension\": \"POLAR4 Q1\", \"agegroup\": \"18 year olds\", \"value\": 0.719}, {\"inst_all\": \"Y50 University of York\", \"Cycle\": \"2018-01-01T00:00:00\", \"statistic\": \"Offer rate\", \"equality_dimension\": \"POLAR4 Q2\", \"agegroup\": \"18 year olds\", \"value\": 0.796}, {\"inst_all\": \"Y50 University of York\", \"Cycle\": \"2018-01-01T00:00:00\", \"statistic\": \"Offer rate\", \"equality_dimension\": \"POLAR4 Q3\", \"agegroup\": \"18 year olds\", \"value\": 0.854}, {\"inst_all\": \"Y50 University of York\", \"Cycle\": \"2018-01-01T00:00:00\", \"statistic\": \"Offer rate\", \"equality_dimension\": \"POLAR4 Q4\", \"agegroup\": \"18 year olds\", \"value\": 0.876}, {\"inst_all\": \"Y50 University of York\", \"Cycle\": \"2018-01-01T00:00:00\", \"statistic\": \"Offer rate\", \"equality_dimension\": \"POLAR4 Q5\", \"agegroup\": \"18 year olds\", \"value\": 0.916}, {\"inst_all\": \"Y50 University of York\", \"Cycle\": \"2019-01-01T00:00:00\", \"statistic\": \"Offer rate\", \"equality_dimension\": \"POLAR4 Q1\", \"agegroup\": \"18 year olds\", \"value\": 0.76}, {\"inst_all\": \"Y50 University of York\", \"Cycle\": \"2019-01-01T00:00:00\", \"statistic\": \"Offer rate\", \"equality_dimension\": \"POLAR4 Q2\", \"agegroup\": \"18 year olds\", \"value\": 0.814}, {\"inst_all\": \"Y50 University of York\", \"Cycle\": \"2019-01-01T00:00:00\", \"statistic\": \"Offer rate\", \"equality_dimension\": \"POLAR4 Q3\", \"agegroup\": \"18 year olds\", \"value\": 0.843}, {\"inst_all\": \"Y50 University of York\", \"Cycle\": \"2019-01-01T00:00:00\", \"statistic\": \"Offer rate\", \"equality_dimension\": \"POLAR4 Q4\", \"agegroup\": \"18 year olds\", \"value\": 0.883}, {\"inst_all\": \"Y50 University of York\", \"Cycle\": \"2019-01-01T00:00:00\", \"statistic\": \"Offer rate\", \"equality_dimension\": \"POLAR4 Q5\", \"agegroup\": \"18 year olds\", \"value\": 0.918}, {\"inst_all\": \"Y50 University of York\", \"Cycle\": \"2020-01-01T00:00:00\", \"statistic\": \"Offer rate\", \"equality_dimension\": \"POLAR4 Q1\", \"agegroup\": \"18 year olds\", \"value\": 0.757}, {\"inst_all\": \"Y50 University of York\", \"Cycle\": \"2020-01-01T00:00:00\", \"statistic\": \"Offer rate\", \"equality_dimension\": \"POLAR4 Q2\", \"agegroup\": \"18 year olds\", \"value\": 0.823}, {\"inst_all\": \"Y50 University of York\", \"Cycle\": \"2020-01-01T00:00:00\", \"statistic\": \"Offer rate\", \"equality_dimension\": \"POLAR4 Q3\", \"agegroup\": \"18 year olds\", \"value\": 0.845}, {\"inst_all\": \"Y50 University of York\", \"Cycle\": \"2020-01-01T00:00:00\", \"statistic\": \"Offer rate\", \"equality_dimension\": \"POLAR4 Q4\", \"agegroup\": \"18 year olds\", \"value\": 0.878}, {\"inst_all\": \"Y50 University of York\", \"Cycle\": \"2020-01-01T00:00:00\", \"statistic\": \"Offer rate\", \"equality_dimension\": \"POLAR4 Q5\", \"agegroup\": \"18 year olds\", \"value\": 0.912}, {\"inst_all\": \"Y50 University of York\", \"Cycle\": \"2021-01-01T00:00:00\", \"statistic\": \"Offer rate\", \"equality_dimension\": \"POLAR4 Q1\", \"agegroup\": \"18 year olds\", \"value\": 0.797}, {\"inst_all\": \"Y50 University of York\", \"Cycle\": \"2021-01-01T00:00:00\", \"statistic\": \"Offer rate\", \"equality_dimension\": \"POLAR4 Q2\", \"agegroup\": \"18 year olds\", \"value\": 0.849}, {\"inst_all\": \"Y50 University of York\", \"Cycle\": \"2021-01-01T00:00:00\", \"statistic\": \"Offer rate\", \"equality_dimension\": \"POLAR4 Q3\", \"agegroup\": \"18 year olds\", \"value\": 0.867}, {\"inst_all\": \"Y50 University of York\", \"Cycle\": \"2021-01-01T00:00:00\", \"statistic\": \"Offer rate\", \"equality_dimension\": \"POLAR4 Q4\", \"agegroup\": \"18 year olds\", \"value\": 0.901}, {\"inst_all\": \"Y50 University of York\", \"Cycle\": \"2021-01-01T00:00:00\", \"statistic\": \"Offer rate\", \"equality_dimension\": \"POLAR4 Q5\", \"agegroup\": \"18 year olds\", \"value\": 0.937}]}}, {\"mode\": \"vega-lite\"});\n",
       "</script>"
      ],
      "text/plain": [
       "alt.FacetChart(...)"
      ]
     },
     "execution_count": 760,
     "metadata": {},
     "output_type": "execute_result"
    }
   ],
   "source": [
    "# plot offer rates in 2010-2021 by university (faceted line plot)\n",
    "chart = alt.Chart(offer_rate)\\\n",
    ".mark_line(point=True)\\\n",
    ".encode(\n",
    "    x=alt.X('Cycle:T', title='Year'),\n",
    "    y=alt.Y('value:Q', title='Offer rate'),\n",
    "    color=alt.Color('equality_dimension:N', title='POLAR4'),\n",
    "    tooltip=(\n",
    "        alt.Tooltip('inst_all:N', title='University'),\n",
    "        alt.Tooltip('equality_dimension:N', title='POLAR4'),\n",
    "        alt.Tooltip('value:Q', title='Offer rate'),\n",
    "    )\n",
    ")\\\n",
    ".facet(\n",
    "    facet=alt.Facet('inst_all:N', title=None, sort=universities_order),\n",
    "    columns=2,\n",
    "    title={\n",
    "        'text': 'Offer rate in 2010-2021 by university',\n",
    "        'anchor': 'middle',\n",
    "        'fontSize': 15,\n",
    "        'dy': -10\n",
    "    }\n",
    ")\n",
    "\n",
    "chart"
   ]
  },
  {
   "cell_type": "markdown",
   "id": "4a51b979",
   "metadata": {},
   "source": [
    "**Main point: UoB has a historically wide and stagnating amplitude between offer rates for Q1 and Q5, while most other universities in our benchmark either have a narrow amplitude or are strongly improving.**\n",
    "\n",
    "---\n",
    "\n",
    "We notice that UoB has historically had a very wide amplitude between the offer rates for lower POLAR4 quintiles (Q1-Q3) and the higher ones (Q4-Q5). \n",
    "\n",
    "Indeed, the offer rates for Q5 in the considered period have been above 80%, sometimes as high as 90%. In contrast, the offer rates for Q1 (and Q2) have been below 70%, and close to 60%. Historically, we observe Q5 offer rates at 15-20 percentage points above those for Q1-Q2. \n",
    "\n",
    "Manchester has a similar amplitude and a similar track record to University of Birmingham. \n",
    "\n",
    "East Anglia, Sheffield, and King's College London all have much narrower offer rate ranges (~10 percentage points). York, while its track record is similar to UoB's, has been drastically improving since 2016. \n",
    "\n",
    "The trend of levelling offer rates across POLAR4 quintiles is much more noticeable, in general for our reference points and models (Q1 > Q5 for King's in 2021!), while UoB and Manchester are stagnating at very wide amplitudes. "
   ]
  },
  {
   "cell_type": "markdown",
   "id": "20134143",
   "metadata": {},
   "source": [
    "#### Placed June deadline applicants"
   ]
  },
  {
   "cell_type": "markdown",
   "id": "3bc78b06",
   "metadata": {
    "ExecuteTime": {
     "end_time": "2022-04-20T12:48:59.821944Z",
     "start_time": "2022-04-20T12:48:59.818201Z"
    }
   },
   "source": [
    "Let's look at the absolute values for `Placed June deadline applicants`. \n",
    "\n",
    "We could be looking at `All placed applicants`, but `Offer rates` is calculated based on the number of `June deadline applications`, so it directly affects primarily the June deadline applicants. This population represents a vast majority of `All placed applicants` anyway. "
   ]
  },
  {
   "cell_type": "code",
   "execution_count": 761,
   "id": "7d425c86",
   "metadata": {
    "ExecuteTime": {
     "end_time": "2022-04-20T13:33:46.035280Z",
     "start_time": "2022-04-20T13:33:46.031166Z"
    }
   },
   "outputs": [],
   "source": [
    "# create df with `Placed June deadline applicants` data\n",
    "placed_applicants = universities_data[universities_data['statistic'] == 'Placed June deadline applicants']"
   ]
  },
  {
   "cell_type": "code",
   "execution_count": 762,
   "id": "7ff1797f",
   "metadata": {
    "ExecuteTime": {
     "end_time": "2022-04-20T13:33:46.656152Z",
     "start_time": "2022-04-20T13:33:46.595324Z"
    },
    "scrolled": false
   },
   "outputs": [
    {
     "data": {
      "text/html": [
       "\n",
       "<div id=\"altair-viz-9d1c676a5e454295af8f78cfd1a77cb9\"></div>\n",
       "<script type=\"text/javascript\">\n",
       "  var VEGA_DEBUG = (typeof VEGA_DEBUG == \"undefined\") ? {} : VEGA_DEBUG;\n",
       "  (function(spec, embedOpt){\n",
       "    let outputDiv = document.currentScript.previousElementSibling;\n",
       "    if (outputDiv.id !== \"altair-viz-9d1c676a5e454295af8f78cfd1a77cb9\") {\n",
       "      outputDiv = document.getElementById(\"altair-viz-9d1c676a5e454295af8f78cfd1a77cb9\");\n",
       "    }\n",
       "    const paths = {\n",
       "      \"vega\": \"https://cdn.jsdelivr.net/npm//vega@5?noext\",\n",
       "      \"vega-lib\": \"https://cdn.jsdelivr.net/npm//vega-lib?noext\",\n",
       "      \"vega-lite\": \"https://cdn.jsdelivr.net/npm//vega-lite@4.17.0?noext\",\n",
       "      \"vega-embed\": \"https://cdn.jsdelivr.net/npm//vega-embed@6?noext\",\n",
       "    };\n",
       "\n",
       "    function maybeLoadScript(lib, version) {\n",
       "      var key = `${lib.replace(\"-\", \"\")}_version`;\n",
       "      return (VEGA_DEBUG[key] == version) ?\n",
       "        Promise.resolve(paths[lib]) :\n",
       "        new Promise(function(resolve, reject) {\n",
       "          var s = document.createElement('script');\n",
       "          document.getElementsByTagName(\"head\")[0].appendChild(s);\n",
       "          s.async = true;\n",
       "          s.onload = () => {\n",
       "            VEGA_DEBUG[key] = version;\n",
       "            return resolve(paths[lib]);\n",
       "          };\n",
       "          s.onerror = () => reject(`Error loading script: ${paths[lib]}`);\n",
       "          s.src = paths[lib];\n",
       "        });\n",
       "    }\n",
       "\n",
       "    function showError(err) {\n",
       "      outputDiv.innerHTML = `<div class=\"error\" style=\"color:red;\">${err}</div>`;\n",
       "      throw err;\n",
       "    }\n",
       "\n",
       "    function displayChart(vegaEmbed) {\n",
       "      vegaEmbed(outputDiv, spec, embedOpt)\n",
       "        .catch(err => showError(`Javascript Error: ${err.message}<br>This usually means there's a typo in your chart specification. See the javascript console for the full traceback.`));\n",
       "    }\n",
       "\n",
       "    if(typeof define === \"function\" && define.amd) {\n",
       "      requirejs.config({paths});\n",
       "      require([\"vega-embed\"], displayChart, err => showError(`Error loading script: ${err.message}`));\n",
       "    } else {\n",
       "      maybeLoadScript(\"vega\", \"5\")\n",
       "        .then(() => maybeLoadScript(\"vega-lite\", \"4.17.0\"))\n",
       "        .then(() => maybeLoadScript(\"vega-embed\", \"6\"))\n",
       "        .catch(showError)\n",
       "        .then(() => displayChart(vegaEmbed));\n",
       "    }\n",
       "  })({\"config\": {\"view\": {\"continuousWidth\": 400, \"continuousHeight\": 300}}, \"data\": {\"name\": \"data-6e1eddae060a9d17037835b12a233116\"}, \"facet\": {\"field\": \"inst_all\", \"sort\": [\"B32 University of Birmingham\", \"M20 University of Manchester\", \"E14 University of East Anglia UEA\", \"S18 University of Sheffield\", \"K60 Kings College London University of London\", \"Y50 University of York\"], \"title\": null, \"type\": \"nominal\"}, \"spec\": {\"mark\": {\"type\": \"area\", \"opacity\": 0.8, \"stroke\": \"white\", \"strokeWidth\": 2}, \"encoding\": {\"color\": {\"field\": \"equality_dimension\", \"title\": \"POLAR4\", \"type\": \"nominal\"}, \"tooltip\": [{\"field\": \"inst_all\", \"title\": \"University\", \"type\": \"nominal\"}, {\"field\": \"equality_dimension\", \"title\": \"POLAR4\", \"type\": \"nominal\"}, {\"field\": \"value\", \"title\": \"Placed June deadline applicants\", \"type\": \"quantitative\"}], \"x\": {\"field\": \"Cycle\", \"title\": \"Year\", \"type\": \"temporal\"}, \"y\": {\"field\": \"value\", \"stack\": \"normalize\", \"title\": \"Placed June deadline applicants (percentage)\", \"type\": \"quantitative\"}}}, \"columns\": 2, \"title\": {\"text\": \"Placed June deadline applicants in 2010-2021 by university\", \"anchor\": \"middle\", \"fontSize\": 15, \"dy\": -10}, \"$schema\": \"https://vega.github.io/schema/vega-lite/v4.17.0.json\", \"datasets\": {\"data-6e1eddae060a9d17037835b12a233116\": [{\"inst_all\": \"B32 University of Birmingham\", \"Cycle\": \"2010-01-01T00:00:00\", \"statistic\": \"Placed June deadline applicants\", \"equality_dimension\": \"POLAR4 Q1\", \"agegroup\": \"18 year olds\", \"value\": 195.0}, {\"inst_all\": \"B32 University of Birmingham\", \"Cycle\": \"2010-01-01T00:00:00\", \"statistic\": \"Placed June deadline applicants\", \"equality_dimension\": \"POLAR4 Q2\", \"agegroup\": \"18 year olds\", \"value\": 340.0}, {\"inst_all\": \"B32 University of Birmingham\", \"Cycle\": \"2010-01-01T00:00:00\", \"statistic\": \"Placed June deadline applicants\", \"equality_dimension\": \"POLAR4 Q3\", \"agegroup\": \"18 year olds\", \"value\": 565.0}, {\"inst_all\": \"B32 University of Birmingham\", \"Cycle\": \"2010-01-01T00:00:00\", \"statistic\": \"Placed June deadline applicants\", \"equality_dimension\": \"POLAR4 Q4\", \"agegroup\": \"18 year olds\", \"value\": 750.0}, {\"inst_all\": \"B32 University of Birmingham\", \"Cycle\": \"2010-01-01T00:00:00\", \"statistic\": \"Placed June deadline applicants\", \"equality_dimension\": \"POLAR4 Q5\", \"agegroup\": \"18 year olds\", \"value\": 1605.0}, {\"inst_all\": \"B32 University of Birmingham\", \"Cycle\": \"2011-01-01T00:00:00\", \"statistic\": \"Placed June deadline applicants\", \"equality_dimension\": \"POLAR4 Q1\", \"agegroup\": \"18 year olds\", \"value\": 185.0}, {\"inst_all\": \"B32 University of Birmingham\", \"Cycle\": \"2011-01-01T00:00:00\", \"statistic\": \"Placed June deadline applicants\", \"equality_dimension\": \"POLAR4 Q2\", \"agegroup\": \"18 year olds\", \"value\": 375.0}, {\"inst_all\": \"B32 University of Birmingham\", \"Cycle\": \"2011-01-01T00:00:00\", \"statistic\": \"Placed June deadline applicants\", \"equality_dimension\": \"POLAR4 Q3\", \"agegroup\": \"18 year olds\", \"value\": 600.0}, {\"inst_all\": \"B32 University of Birmingham\", \"Cycle\": \"2011-01-01T00:00:00\", \"statistic\": \"Placed June deadline applicants\", \"equality_dimension\": \"POLAR4 Q4\", \"agegroup\": \"18 year olds\", \"value\": 705.0}, {\"inst_all\": \"B32 University of Birmingham\", \"Cycle\": \"2011-01-01T00:00:00\", \"statistic\": \"Placed June deadline applicants\", \"equality_dimension\": \"POLAR4 Q5\", \"agegroup\": \"18 year olds\", \"value\": 1640.0}, {\"inst_all\": \"B32 University of Birmingham\", \"Cycle\": \"2012-01-01T00:00:00\", \"statistic\": \"Placed June deadline applicants\", \"equality_dimension\": \"POLAR4 Q1\", \"agegroup\": \"18 year olds\", \"value\": 200.0}, {\"inst_all\": \"B32 University of Birmingham\", \"Cycle\": \"2012-01-01T00:00:00\", \"statistic\": \"Placed June deadline applicants\", \"equality_dimension\": \"POLAR4 Q2\", \"agegroup\": \"18 year olds\", \"value\": 360.0}, {\"inst_all\": \"B32 University of Birmingham\", \"Cycle\": \"2012-01-01T00:00:00\", \"statistic\": \"Placed June deadline applicants\", \"equality_dimension\": \"POLAR4 Q3\", \"agegroup\": \"18 year olds\", \"value\": 580.0}, {\"inst_all\": \"B32 University of Birmingham\", \"Cycle\": \"2012-01-01T00:00:00\", \"statistic\": \"Placed June deadline applicants\", \"equality_dimension\": \"POLAR4 Q4\", \"agegroup\": \"18 year olds\", \"value\": 700.0}, {\"inst_all\": \"B32 University of Birmingham\", \"Cycle\": \"2012-01-01T00:00:00\", \"statistic\": \"Placed June deadline applicants\", \"equality_dimension\": \"POLAR4 Q5\", \"agegroup\": \"18 year olds\", \"value\": 1525.0}, {\"inst_all\": \"B32 University of Birmingham\", \"Cycle\": \"2013-01-01T00:00:00\", \"statistic\": \"Placed June deadline applicants\", \"equality_dimension\": \"POLAR4 Q1\", \"agegroup\": \"18 year olds\", \"value\": 220.0}, {\"inst_all\": \"B32 University of Birmingham\", \"Cycle\": \"2013-01-01T00:00:00\", \"statistic\": \"Placed June deadline applicants\", \"equality_dimension\": \"POLAR4 Q2\", \"agegroup\": \"18 year olds\", \"value\": 430.0}, {\"inst_all\": \"B32 University of Birmingham\", \"Cycle\": \"2013-01-01T00:00:00\", \"statistic\": \"Placed June deadline applicants\", \"equality_dimension\": \"POLAR4 Q3\", \"agegroup\": \"18 year olds\", \"value\": 690.0}, {\"inst_all\": \"B32 University of Birmingham\", \"Cycle\": \"2013-01-01T00:00:00\", \"statistic\": \"Placed June deadline applicants\", \"equality_dimension\": \"POLAR4 Q4\", \"agegroup\": \"18 year olds\", \"value\": 780.0}, {\"inst_all\": \"B32 University of Birmingham\", \"Cycle\": \"2013-01-01T00:00:00\", \"statistic\": \"Placed June deadline applicants\", \"equality_dimension\": \"POLAR4 Q5\", \"agegroup\": \"18 year olds\", \"value\": 1645.0}, {\"inst_all\": \"B32 University of Birmingham\", \"Cycle\": \"2014-01-01T00:00:00\", \"statistic\": \"Placed June deadline applicants\", \"equality_dimension\": \"POLAR4 Q1\", \"agegroup\": \"18 year olds\", \"value\": 230.0}, {\"inst_all\": \"B32 University of Birmingham\", \"Cycle\": \"2014-01-01T00:00:00\", \"statistic\": \"Placed June deadline applicants\", \"equality_dimension\": \"POLAR4 Q2\", \"agegroup\": \"18 year olds\", \"value\": 470.0}, {\"inst_all\": \"B32 University of Birmingham\", \"Cycle\": \"2014-01-01T00:00:00\", \"statistic\": \"Placed June deadline applicants\", \"equality_dimension\": \"POLAR4 Q3\", \"agegroup\": \"18 year olds\", \"value\": 755.0}, {\"inst_all\": \"B32 University of Birmingham\", \"Cycle\": \"2014-01-01T00:00:00\", \"statistic\": \"Placed June deadline applicants\", \"equality_dimension\": \"POLAR4 Q4\", \"agegroup\": \"18 year olds\", \"value\": 850.0}, {\"inst_all\": \"B32 University of Birmingham\", \"Cycle\": \"2014-01-01T00:00:00\", \"statistic\": \"Placed June deadline applicants\", \"equality_dimension\": \"POLAR4 Q5\", \"agegroup\": \"18 year olds\", \"value\": 1815.0}, {\"inst_all\": \"B32 University of Birmingham\", \"Cycle\": \"2015-01-01T00:00:00\", \"statistic\": \"Placed June deadline applicants\", \"equality_dimension\": \"POLAR4 Q1\", \"agegroup\": \"18 year olds\", \"value\": 275.0}, {\"inst_all\": \"B32 University of Birmingham\", \"Cycle\": \"2015-01-01T00:00:00\", \"statistic\": \"Placed June deadline applicants\", \"equality_dimension\": \"POLAR4 Q2\", \"agegroup\": \"18 year olds\", \"value\": 430.0}, {\"inst_all\": \"B32 University of Birmingham\", \"Cycle\": \"2015-01-01T00:00:00\", \"statistic\": \"Placed June deadline applicants\", \"equality_dimension\": \"POLAR4 Q3\", \"agegroup\": \"18 year olds\", \"value\": 805.0}, {\"inst_all\": \"B32 University of Birmingham\", \"Cycle\": \"2015-01-01T00:00:00\", \"statistic\": \"Placed June deadline applicants\", \"equality_dimension\": \"POLAR4 Q4\", \"agegroup\": \"18 year olds\", \"value\": 915.0}, {\"inst_all\": \"B32 University of Birmingham\", \"Cycle\": \"2015-01-01T00:00:00\", \"statistic\": \"Placed June deadline applicants\", \"equality_dimension\": \"POLAR4 Q5\", \"agegroup\": \"18 year olds\", \"value\": 1825.0}, {\"inst_all\": \"B32 University of Birmingham\", \"Cycle\": \"2016-01-01T00:00:00\", \"statistic\": \"Placed June deadline applicants\", \"equality_dimension\": \"POLAR4 Q1\", \"agegroup\": \"18 year olds\", \"value\": 260.0}, {\"inst_all\": \"B32 University of Birmingham\", \"Cycle\": \"2016-01-01T00:00:00\", \"statistic\": \"Placed June deadline applicants\", \"equality_dimension\": \"POLAR4 Q2\", \"agegroup\": \"18 year olds\", \"value\": 460.0}, {\"inst_all\": \"B32 University of Birmingham\", \"Cycle\": \"2016-01-01T00:00:00\", \"statistic\": \"Placed June deadline applicants\", \"equality_dimension\": \"POLAR4 Q3\", \"agegroup\": \"18 year olds\", \"value\": 715.0}, {\"inst_all\": \"B32 University of Birmingham\", \"Cycle\": \"2016-01-01T00:00:00\", \"statistic\": \"Placed June deadline applicants\", \"equality_dimension\": \"POLAR4 Q4\", \"agegroup\": \"18 year olds\", \"value\": 850.0}, {\"inst_all\": \"B32 University of Birmingham\", \"Cycle\": \"2016-01-01T00:00:00\", \"statistic\": \"Placed June deadline applicants\", \"equality_dimension\": \"POLAR4 Q5\", \"agegroup\": \"18 year olds\", \"value\": 1855.0}, {\"inst_all\": \"B32 University of Birmingham\", \"Cycle\": \"2017-01-01T00:00:00\", \"statistic\": \"Placed June deadline applicants\", \"equality_dimension\": \"POLAR4 Q1\", \"agegroup\": \"18 year olds\", \"value\": 275.0}, {\"inst_all\": \"B32 University of Birmingham\", \"Cycle\": \"2017-01-01T00:00:00\", \"statistic\": \"Placed June deadline applicants\", \"equality_dimension\": \"POLAR4 Q2\", \"agegroup\": \"18 year olds\", \"value\": 505.0}, {\"inst_all\": \"B32 University of Birmingham\", \"Cycle\": \"2017-01-01T00:00:00\", \"statistic\": \"Placed June deadline applicants\", \"equality_dimension\": \"POLAR4 Q3\", \"agegroup\": \"18 year olds\", \"value\": 795.0}, {\"inst_all\": \"B32 University of Birmingham\", \"Cycle\": \"2017-01-01T00:00:00\", \"statistic\": \"Placed June deadline applicants\", \"equality_dimension\": \"POLAR4 Q4\", \"agegroup\": \"18 year olds\", \"value\": 945.0}, {\"inst_all\": \"B32 University of Birmingham\", \"Cycle\": \"2017-01-01T00:00:00\", \"statistic\": \"Placed June deadline applicants\", \"equality_dimension\": \"POLAR4 Q5\", \"agegroup\": \"18 year olds\", \"value\": 2130.0}, {\"inst_all\": \"B32 University of Birmingham\", \"Cycle\": \"2018-01-01T00:00:00\", \"statistic\": \"Placed June deadline applicants\", \"equality_dimension\": \"POLAR4 Q1\", \"agegroup\": \"18 year olds\", \"value\": 260.0}, {\"inst_all\": \"B32 University of Birmingham\", \"Cycle\": \"2018-01-01T00:00:00\", \"statistic\": \"Placed June deadline applicants\", \"equality_dimension\": \"POLAR4 Q2\", \"agegroup\": \"18 year olds\", \"value\": 480.0}, {\"inst_all\": \"B32 University of Birmingham\", \"Cycle\": \"2018-01-01T00:00:00\", \"statistic\": \"Placed June deadline applicants\", \"equality_dimension\": \"POLAR4 Q3\", \"agegroup\": \"18 year olds\", \"value\": 720.0}, {\"inst_all\": \"B32 University of Birmingham\", \"Cycle\": \"2018-01-01T00:00:00\", \"statistic\": \"Placed June deadline applicants\", \"equality_dimension\": \"POLAR4 Q4\", \"agegroup\": \"18 year olds\", \"value\": 910.0}, {\"inst_all\": \"B32 University of Birmingham\", \"Cycle\": \"2018-01-01T00:00:00\", \"statistic\": \"Placed June deadline applicants\", \"equality_dimension\": \"POLAR4 Q5\", \"agegroup\": \"18 year olds\", \"value\": 2010.0}, {\"inst_all\": \"B32 University of Birmingham\", \"Cycle\": \"2019-01-01T00:00:00\", \"statistic\": \"Placed June deadline applicants\", \"equality_dimension\": \"POLAR4 Q1\", \"agegroup\": \"18 year olds\", \"value\": 325.0}, {\"inst_all\": \"B32 University of Birmingham\", \"Cycle\": \"2019-01-01T00:00:00\", \"statistic\": \"Placed June deadline applicants\", \"equality_dimension\": \"POLAR4 Q2\", \"agegroup\": \"18 year olds\", \"value\": 485.0}, {\"inst_all\": \"B32 University of Birmingham\", \"Cycle\": \"2019-01-01T00:00:00\", \"statistic\": \"Placed June deadline applicants\", \"equality_dimension\": \"POLAR4 Q3\", \"agegroup\": \"18 year olds\", \"value\": 780.0}, {\"inst_all\": \"B32 University of Birmingham\", \"Cycle\": \"2019-01-01T00:00:00\", \"statistic\": \"Placed June deadline applicants\", \"equality_dimension\": \"POLAR4 Q4\", \"agegroup\": \"18 year olds\", \"value\": 885.0}, {\"inst_all\": \"B32 University of Birmingham\", \"Cycle\": \"2019-01-01T00:00:00\", \"statistic\": \"Placed June deadline applicants\", \"equality_dimension\": \"POLAR4 Q5\", \"agegroup\": \"18 year olds\", \"value\": 1815.0}, {\"inst_all\": \"B32 University of Birmingham\", \"Cycle\": \"2020-01-01T00:00:00\", \"statistic\": \"Placed June deadline applicants\", \"equality_dimension\": \"POLAR4 Q1\", \"agegroup\": \"18 year olds\", \"value\": 380.0}, {\"inst_all\": \"B32 University of Birmingham\", \"Cycle\": \"2020-01-01T00:00:00\", \"statistic\": \"Placed June deadline applicants\", \"equality_dimension\": \"POLAR4 Q2\", \"agegroup\": \"18 year olds\", \"value\": 515.0}, {\"inst_all\": \"B32 University of Birmingham\", \"Cycle\": \"2020-01-01T00:00:00\", \"statistic\": \"Placed June deadline applicants\", \"equality_dimension\": \"POLAR4 Q3\", \"agegroup\": \"18 year olds\", \"value\": 865.0}, {\"inst_all\": \"B32 University of Birmingham\", \"Cycle\": \"2020-01-01T00:00:00\", \"statistic\": \"Placed June deadline applicants\", \"equality_dimension\": \"POLAR4 Q4\", \"agegroup\": \"18 year olds\", \"value\": 875.0}, {\"inst_all\": \"B32 University of Birmingham\", \"Cycle\": \"2020-01-01T00:00:00\", \"statistic\": \"Placed June deadline applicants\", \"equality_dimension\": \"POLAR4 Q5\", \"agegroup\": \"18 year olds\", \"value\": 1870.0}, {\"inst_all\": \"B32 University of Birmingham\", \"Cycle\": \"2021-01-01T00:00:00\", \"statistic\": \"Placed June deadline applicants\", \"equality_dimension\": \"POLAR4 Q1\", \"agegroup\": \"18 year olds\", \"value\": 485.0}, {\"inst_all\": \"B32 University of Birmingham\", \"Cycle\": \"2021-01-01T00:00:00\", \"statistic\": \"Placed June deadline applicants\", \"equality_dimension\": \"POLAR4 Q2\", \"agegroup\": \"18 year olds\", \"value\": 640.0}, {\"inst_all\": \"B32 University of Birmingham\", \"Cycle\": \"2021-01-01T00:00:00\", \"statistic\": \"Placed June deadline applicants\", \"equality_dimension\": \"POLAR4 Q3\", \"agegroup\": \"18 year olds\", \"value\": 1070.0}, {\"inst_all\": \"B32 University of Birmingham\", \"Cycle\": \"2021-01-01T00:00:00\", \"statistic\": \"Placed June deadline applicants\", \"equality_dimension\": \"POLAR4 Q4\", \"agegroup\": \"18 year olds\", \"value\": 1095.0}, {\"inst_all\": \"B32 University of Birmingham\", \"Cycle\": \"2021-01-01T00:00:00\", \"statistic\": \"Placed June deadline applicants\", \"equality_dimension\": \"POLAR4 Q5\", \"agegroup\": \"18 year olds\", \"value\": 1980.0}, {\"inst_all\": \"E14 University of East Anglia UEA\", \"Cycle\": \"2010-01-01T00:00:00\", \"statistic\": \"Placed June deadline applicants\", \"equality_dimension\": \"POLAR4 Q1\", \"agegroup\": \"18 year olds\", \"value\": 125.0}, {\"inst_all\": \"E14 University of East Anglia UEA\", \"Cycle\": \"2010-01-01T00:00:00\", \"statistic\": \"Placed June deadline applicants\", \"equality_dimension\": \"POLAR4 Q2\", \"agegroup\": \"18 year olds\", \"value\": 225.0}, {\"inst_all\": \"E14 University of East Anglia UEA\", \"Cycle\": \"2010-01-01T00:00:00\", \"statistic\": \"Placed June deadline applicants\", \"equality_dimension\": \"POLAR4 Q3\", \"agegroup\": \"18 year olds\", \"value\": 305.0}, {\"inst_all\": \"E14 University of East Anglia UEA\", \"Cycle\": \"2010-01-01T00:00:00\", \"statistic\": \"Placed June deadline applicants\", \"equality_dimension\": \"POLAR4 Q4\", \"agegroup\": \"18 year olds\", \"value\": 400.0}, {\"inst_all\": \"E14 University of East Anglia UEA\", \"Cycle\": \"2010-01-01T00:00:00\", \"statistic\": \"Placed June deadline applicants\", \"equality_dimension\": \"POLAR4 Q5\", \"agegroup\": \"18 year olds\", \"value\": 505.0}, {\"inst_all\": \"E14 University of East Anglia UEA\", \"Cycle\": \"2011-01-01T00:00:00\", \"statistic\": \"Placed June deadline applicants\", \"equality_dimension\": \"POLAR4 Q1\", \"agegroup\": \"18 year olds\", \"value\": 110.0}, {\"inst_all\": \"E14 University of East Anglia UEA\", \"Cycle\": \"2011-01-01T00:00:00\", \"statistic\": \"Placed June deadline applicants\", \"equality_dimension\": \"POLAR4 Q2\", \"agegroup\": \"18 year olds\", \"value\": 195.0}, {\"inst_all\": \"E14 University of East Anglia UEA\", \"Cycle\": \"2011-01-01T00:00:00\", \"statistic\": \"Placed June deadline applicants\", \"equality_dimension\": \"POLAR4 Q3\", \"agegroup\": \"18 year olds\", \"value\": 295.0}, {\"inst_all\": \"E14 University of East Anglia UEA\", \"Cycle\": \"2011-01-01T00:00:00\", \"statistic\": \"Placed June deadline applicants\", \"equality_dimension\": \"POLAR4 Q4\", \"agegroup\": \"18 year olds\", \"value\": 430.0}, {\"inst_all\": \"E14 University of East Anglia UEA\", \"Cycle\": \"2011-01-01T00:00:00\", \"statistic\": \"Placed June deadline applicants\", \"equality_dimension\": \"POLAR4 Q5\", \"agegroup\": \"18 year olds\", \"value\": 520.0}, {\"inst_all\": \"E14 University of East Anglia UEA\", \"Cycle\": \"2012-01-01T00:00:00\", \"statistic\": \"Placed June deadline applicants\", \"equality_dimension\": \"POLAR4 Q1\", \"agegroup\": \"18 year olds\", \"value\": 125.0}, {\"inst_all\": \"E14 University of East Anglia UEA\", \"Cycle\": \"2012-01-01T00:00:00\", \"statistic\": \"Placed June deadline applicants\", \"equality_dimension\": \"POLAR4 Q2\", \"agegroup\": \"18 year olds\", \"value\": 240.0}, {\"inst_all\": \"E14 University of East Anglia UEA\", \"Cycle\": \"2012-01-01T00:00:00\", \"statistic\": \"Placed June deadline applicants\", \"equality_dimension\": \"POLAR4 Q3\", \"agegroup\": \"18 year olds\", \"value\": 325.0}, {\"inst_all\": \"E14 University of East Anglia UEA\", \"Cycle\": \"2012-01-01T00:00:00\", \"statistic\": \"Placed June deadline applicants\", \"equality_dimension\": \"POLAR4 Q4\", \"agegroup\": \"18 year olds\", \"value\": 455.0}, {\"inst_all\": \"E14 University of East Anglia UEA\", \"Cycle\": \"2012-01-01T00:00:00\", \"statistic\": \"Placed June deadline applicants\", \"equality_dimension\": \"POLAR4 Q5\", \"agegroup\": \"18 year olds\", \"value\": 605.0}, {\"inst_all\": \"E14 University of East Anglia UEA\", \"Cycle\": \"2013-01-01T00:00:00\", \"statistic\": \"Placed June deadline applicants\", \"equality_dimension\": \"POLAR4 Q1\", \"agegroup\": \"18 year olds\", \"value\": 120.0}, {\"inst_all\": \"E14 University of East Anglia UEA\", \"Cycle\": \"2013-01-01T00:00:00\", \"statistic\": \"Placed June deadline applicants\", \"equality_dimension\": \"POLAR4 Q2\", \"agegroup\": \"18 year olds\", \"value\": 225.0}, {\"inst_all\": \"E14 University of East Anglia UEA\", \"Cycle\": \"2013-01-01T00:00:00\", \"statistic\": \"Placed June deadline applicants\", \"equality_dimension\": \"POLAR4 Q3\", \"agegroup\": \"18 year olds\", \"value\": 295.0}, {\"inst_all\": \"E14 University of East Anglia UEA\", \"Cycle\": \"2013-01-01T00:00:00\", \"statistic\": \"Placed June deadline applicants\", \"equality_dimension\": \"POLAR4 Q4\", \"agegroup\": \"18 year olds\", \"value\": 365.0}, {\"inst_all\": \"E14 University of East Anglia UEA\", \"Cycle\": \"2013-01-01T00:00:00\", \"statistic\": \"Placed June deadline applicants\", \"equality_dimension\": \"POLAR4 Q5\", \"agegroup\": \"18 year olds\", \"value\": 470.0}, {\"inst_all\": \"E14 University of East Anglia UEA\", \"Cycle\": \"2014-01-01T00:00:00\", \"statistic\": \"Placed June deadline applicants\", \"equality_dimension\": \"POLAR4 Q1\", \"agegroup\": \"18 year olds\", \"value\": 125.0}, {\"inst_all\": \"E14 University of East Anglia UEA\", \"Cycle\": \"2014-01-01T00:00:00\", \"statistic\": \"Placed June deadline applicants\", \"equality_dimension\": \"POLAR4 Q2\", \"agegroup\": \"18 year olds\", \"value\": 205.0}, {\"inst_all\": \"E14 University of East Anglia UEA\", \"Cycle\": \"2014-01-01T00:00:00\", \"statistic\": \"Placed June deadline applicants\", \"equality_dimension\": \"POLAR4 Q3\", \"agegroup\": \"18 year olds\", \"value\": 235.0}, {\"inst_all\": \"E14 University of East Anglia UEA\", \"Cycle\": \"2014-01-01T00:00:00\", \"statistic\": \"Placed June deadline applicants\", \"equality_dimension\": \"POLAR4 Q4\", \"agegroup\": \"18 year olds\", \"value\": 315.0}, {\"inst_all\": \"E14 University of East Anglia UEA\", \"Cycle\": \"2014-01-01T00:00:00\", \"statistic\": \"Placed June deadline applicants\", \"equality_dimension\": \"POLAR4 Q5\", \"agegroup\": \"18 year olds\", \"value\": 390.0}, {\"inst_all\": \"E14 University of East Anglia UEA\", \"Cycle\": \"2015-01-01T00:00:00\", \"statistic\": \"Placed June deadline applicants\", \"equality_dimension\": \"POLAR4 Q1\", \"agegroup\": \"18 year olds\", \"value\": 210.0}, {\"inst_all\": \"E14 University of East Anglia UEA\", \"Cycle\": \"2015-01-01T00:00:00\", \"statistic\": \"Placed June deadline applicants\", \"equality_dimension\": \"POLAR4 Q2\", \"agegroup\": \"18 year olds\", \"value\": 315.0}, {\"inst_all\": \"E14 University of East Anglia UEA\", \"Cycle\": \"2015-01-01T00:00:00\", \"statistic\": \"Placed June deadline applicants\", \"equality_dimension\": \"POLAR4 Q3\", \"agegroup\": \"18 year olds\", \"value\": 355.0}, {\"inst_all\": \"E14 University of East Anglia UEA\", \"Cycle\": \"2015-01-01T00:00:00\", \"statistic\": \"Placed June deadline applicants\", \"equality_dimension\": \"POLAR4 Q4\", \"agegroup\": \"18 year olds\", \"value\": 480.0}, {\"inst_all\": \"E14 University of East Anglia UEA\", \"Cycle\": \"2015-01-01T00:00:00\", \"statistic\": \"Placed June deadline applicants\", \"equality_dimension\": \"POLAR4 Q5\", \"agegroup\": \"18 year olds\", \"value\": 665.0}, {\"inst_all\": \"E14 University of East Anglia UEA\", \"Cycle\": \"2016-01-01T00:00:00\", \"statistic\": \"Placed June deadline applicants\", \"equality_dimension\": \"POLAR4 Q1\", \"agegroup\": \"18 year olds\", \"value\": 205.0}, {\"inst_all\": \"E14 University of East Anglia UEA\", \"Cycle\": \"2016-01-01T00:00:00\", \"statistic\": \"Placed June deadline applicants\", \"equality_dimension\": \"POLAR4 Q2\", \"agegroup\": \"18 year olds\", \"value\": 325.0}, {\"inst_all\": \"E14 University of East Anglia UEA\", \"Cycle\": \"2016-01-01T00:00:00\", \"statistic\": \"Placed June deadline applicants\", \"equality_dimension\": \"POLAR4 Q3\", \"agegroup\": \"18 year olds\", \"value\": 360.0}, {\"inst_all\": \"E14 University of East Anglia UEA\", \"Cycle\": \"2016-01-01T00:00:00\", \"statistic\": \"Placed June deadline applicants\", \"equality_dimension\": \"POLAR4 Q4\", \"agegroup\": \"18 year olds\", \"value\": 520.0}, {\"inst_all\": \"E14 University of East Anglia UEA\", \"Cycle\": \"2016-01-01T00:00:00\", \"statistic\": \"Placed June deadline applicants\", \"equality_dimension\": \"POLAR4 Q5\", \"agegroup\": \"18 year olds\", \"value\": 630.0}, {\"inst_all\": \"E14 University of East Anglia UEA\", \"Cycle\": \"2017-01-01T00:00:00\", \"statistic\": \"Placed June deadline applicants\", \"equality_dimension\": \"POLAR4 Q1\", \"agegroup\": \"18 year olds\", \"value\": 230.0}, {\"inst_all\": \"E14 University of East Anglia UEA\", \"Cycle\": \"2017-01-01T00:00:00\", \"statistic\": \"Placed June deadline applicants\", \"equality_dimension\": \"POLAR4 Q2\", \"agegroup\": \"18 year olds\", \"value\": 245.0}, {\"inst_all\": \"E14 University of East Anglia UEA\", \"Cycle\": \"2017-01-01T00:00:00\", \"statistic\": \"Placed June deadline applicants\", \"equality_dimension\": \"POLAR4 Q3\", \"agegroup\": \"18 year olds\", \"value\": 405.0}, {\"inst_all\": \"E14 University of East Anglia UEA\", \"Cycle\": \"2017-01-01T00:00:00\", \"statistic\": \"Placed June deadline applicants\", \"equality_dimension\": \"POLAR4 Q4\", \"agegroup\": \"18 year olds\", \"value\": 415.0}, {\"inst_all\": \"E14 University of East Anglia UEA\", \"Cycle\": \"2017-01-01T00:00:00\", \"statistic\": \"Placed June deadline applicants\", \"equality_dimension\": \"POLAR4 Q5\", \"agegroup\": \"18 year olds\", \"value\": 500.0}, {\"inst_all\": \"E14 University of East Anglia UEA\", \"Cycle\": \"2018-01-01T00:00:00\", \"statistic\": \"Placed June deadline applicants\", \"equality_dimension\": \"POLAR4 Q1\", \"agegroup\": \"18 year olds\", \"value\": 220.0}, {\"inst_all\": \"E14 University of East Anglia UEA\", \"Cycle\": \"2018-01-01T00:00:00\", \"statistic\": \"Placed June deadline applicants\", \"equality_dimension\": \"POLAR4 Q2\", \"agegroup\": \"18 year olds\", \"value\": 295.0}, {\"inst_all\": \"E14 University of East Anglia UEA\", \"Cycle\": \"2018-01-01T00:00:00\", \"statistic\": \"Placed June deadline applicants\", \"equality_dimension\": \"POLAR4 Q3\", \"agegroup\": \"18 year olds\", \"value\": 350.0}, {\"inst_all\": \"E14 University of East Anglia UEA\", \"Cycle\": \"2018-01-01T00:00:00\", \"statistic\": \"Placed June deadline applicants\", \"equality_dimension\": \"POLAR4 Q4\", \"agegroup\": \"18 year olds\", \"value\": 450.0}, {\"inst_all\": \"E14 University of East Anglia UEA\", \"Cycle\": \"2018-01-01T00:00:00\", \"statistic\": \"Placed June deadline applicants\", \"equality_dimension\": \"POLAR4 Q5\", \"agegroup\": \"18 year olds\", \"value\": 590.0}, {\"inst_all\": \"E14 University of East Anglia UEA\", \"Cycle\": \"2019-01-01T00:00:00\", \"statistic\": \"Placed June deadline applicants\", \"equality_dimension\": \"POLAR4 Q1\", \"agegroup\": \"18 year olds\", \"value\": 255.0}, {\"inst_all\": \"E14 University of East Anglia UEA\", \"Cycle\": \"2019-01-01T00:00:00\", \"statistic\": \"Placed June deadline applicants\", \"equality_dimension\": \"POLAR4 Q2\", \"agegroup\": \"18 year olds\", \"value\": 385.0}, {\"inst_all\": \"E14 University of East Anglia UEA\", \"Cycle\": \"2019-01-01T00:00:00\", \"statistic\": \"Placed June deadline applicants\", \"equality_dimension\": \"POLAR4 Q3\", \"agegroup\": \"18 year olds\", \"value\": 425.0}, {\"inst_all\": \"E14 University of East Anglia UEA\", \"Cycle\": \"2019-01-01T00:00:00\", \"statistic\": \"Placed June deadline applicants\", \"equality_dimension\": \"POLAR4 Q4\", \"agegroup\": \"18 year olds\", \"value\": 515.0}, {\"inst_all\": \"E14 University of East Anglia UEA\", \"Cycle\": \"2019-01-01T00:00:00\", \"statistic\": \"Placed June deadline applicants\", \"equality_dimension\": \"POLAR4 Q5\", \"agegroup\": \"18 year olds\", \"value\": 660.0}, {\"inst_all\": \"E14 University of East Anglia UEA\", \"Cycle\": \"2020-01-01T00:00:00\", \"statistic\": \"Placed June deadline applicants\", \"equality_dimension\": \"POLAR4 Q1\", \"agegroup\": \"18 year olds\", \"value\": 265.0}, {\"inst_all\": \"E14 University of East Anglia UEA\", \"Cycle\": \"2020-01-01T00:00:00\", \"statistic\": \"Placed June deadline applicants\", \"equality_dimension\": \"POLAR4 Q2\", \"agegroup\": \"18 year olds\", \"value\": 360.0}, {\"inst_all\": \"E14 University of East Anglia UEA\", \"Cycle\": \"2020-01-01T00:00:00\", \"statistic\": \"Placed June deadline applicants\", \"equality_dimension\": \"POLAR4 Q3\", \"agegroup\": \"18 year olds\", \"value\": 425.0}, {\"inst_all\": \"E14 University of East Anglia UEA\", \"Cycle\": \"2020-01-01T00:00:00\", \"statistic\": \"Placed June deadline applicants\", \"equality_dimension\": \"POLAR4 Q4\", \"agegroup\": \"18 year olds\", \"value\": 500.0}, {\"inst_all\": \"E14 University of East Anglia UEA\", \"Cycle\": \"2020-01-01T00:00:00\", \"statistic\": \"Placed June deadline applicants\", \"equality_dimension\": \"POLAR4 Q5\", \"agegroup\": \"18 year olds\", \"value\": 530.0}, {\"inst_all\": \"E14 University of East Anglia UEA\", \"Cycle\": \"2021-01-01T00:00:00\", \"statistic\": \"Placed June deadline applicants\", \"equality_dimension\": \"POLAR4 Q1\", \"agegroup\": \"18 year olds\", \"value\": 250.0}, {\"inst_all\": \"E14 University of East Anglia UEA\", \"Cycle\": \"2021-01-01T00:00:00\", \"statistic\": \"Placed June deadline applicants\", \"equality_dimension\": \"POLAR4 Q2\", \"agegroup\": \"18 year olds\", \"value\": 325.0}, {\"inst_all\": \"E14 University of East Anglia UEA\", \"Cycle\": \"2021-01-01T00:00:00\", \"statistic\": \"Placed June deadline applicants\", \"equality_dimension\": \"POLAR4 Q3\", \"agegroup\": \"18 year olds\", \"value\": 400.0}, {\"inst_all\": \"E14 University of East Anglia UEA\", \"Cycle\": \"2021-01-01T00:00:00\", \"statistic\": \"Placed June deadline applicants\", \"equality_dimension\": \"POLAR4 Q4\", \"agegroup\": \"18 year olds\", \"value\": 440.0}, {\"inst_all\": \"E14 University of East Anglia UEA\", \"Cycle\": \"2021-01-01T00:00:00\", \"statistic\": \"Placed June deadline applicants\", \"equality_dimension\": \"POLAR4 Q5\", \"agegroup\": \"18 year olds\", \"value\": 510.0}, {\"inst_all\": \"K60 Kings College London University of London\", \"Cycle\": \"2010-01-01T00:00:00\", \"statistic\": \"Placed June deadline applicants\", \"equality_dimension\": \"POLAR4 Q1\", \"agegroup\": \"18 year olds\", \"value\": 50.0}, {\"inst_all\": \"K60 Kings College London University of London\", \"Cycle\": \"2010-01-01T00:00:00\", \"statistic\": \"Placed June deadline applicants\", \"equality_dimension\": \"POLAR4 Q2\", \"agegroup\": \"18 year olds\", \"value\": 110.0}, {\"inst_all\": \"K60 Kings College London University of London\", \"Cycle\": \"2010-01-01T00:00:00\", \"statistic\": \"Placed June deadline applicants\", \"equality_dimension\": \"POLAR4 Q3\", \"agegroup\": \"18 year olds\", \"value\": 180.0}, {\"inst_all\": \"K60 Kings College London University of London\", \"Cycle\": \"2010-01-01T00:00:00\", \"statistic\": \"Placed June deadline applicants\", \"equality_dimension\": \"POLAR4 Q4\", \"agegroup\": \"18 year olds\", \"value\": 385.0}, {\"inst_all\": \"K60 Kings College London University of London\", \"Cycle\": \"2010-01-01T00:00:00\", \"statistic\": \"Placed June deadline applicants\", \"equality_dimension\": \"POLAR4 Q5\", \"agegroup\": \"18 year olds\", \"value\": 760.0}, {\"inst_all\": \"K60 Kings College London University of London\", \"Cycle\": \"2011-01-01T00:00:00\", \"statistic\": \"Placed June deadline applicants\", \"equality_dimension\": \"POLAR4 Q1\", \"agegroup\": \"18 year olds\", \"value\": 60.0}, {\"inst_all\": \"K60 Kings College London University of London\", \"Cycle\": \"2011-01-01T00:00:00\", \"statistic\": \"Placed June deadline applicants\", \"equality_dimension\": \"POLAR4 Q2\", \"agegroup\": \"18 year olds\", \"value\": 125.0}, {\"inst_all\": \"K60 Kings College London University of London\", \"Cycle\": \"2011-01-01T00:00:00\", \"statistic\": \"Placed June deadline applicants\", \"equality_dimension\": \"POLAR4 Q3\", \"agegroup\": \"18 year olds\", \"value\": 205.0}, {\"inst_all\": \"K60 Kings College London University of London\", \"Cycle\": \"2011-01-01T00:00:00\", \"statistic\": \"Placed June deadline applicants\", \"equality_dimension\": \"POLAR4 Q4\", \"agegroup\": \"18 year olds\", \"value\": 380.0}, {\"inst_all\": \"K60 Kings College London University of London\", \"Cycle\": \"2011-01-01T00:00:00\", \"statistic\": \"Placed June deadline applicants\", \"equality_dimension\": \"POLAR4 Q5\", \"agegroup\": \"18 year olds\", \"value\": 745.0}, {\"inst_all\": \"K60 Kings College London University of London\", \"Cycle\": \"2012-01-01T00:00:00\", \"statistic\": \"Placed June deadline applicants\", \"equality_dimension\": \"POLAR4 Q1\", \"agegroup\": \"18 year olds\", \"value\": 60.0}, {\"inst_all\": \"K60 Kings College London University of London\", \"Cycle\": \"2012-01-01T00:00:00\", \"statistic\": \"Placed June deadline applicants\", \"equality_dimension\": \"POLAR4 Q2\", \"agegroup\": \"18 year olds\", \"value\": 130.0}, {\"inst_all\": \"K60 Kings College London University of London\", \"Cycle\": \"2012-01-01T00:00:00\", \"statistic\": \"Placed June deadline applicants\", \"equality_dimension\": \"POLAR4 Q3\", \"agegroup\": \"18 year olds\", \"value\": 205.0}, {\"inst_all\": \"K60 Kings College London University of London\", \"Cycle\": \"2012-01-01T00:00:00\", \"statistic\": \"Placed June deadline applicants\", \"equality_dimension\": \"POLAR4 Q4\", \"agegroup\": \"18 year olds\", \"value\": 390.0}, {\"inst_all\": \"K60 Kings College London University of London\", \"Cycle\": \"2012-01-01T00:00:00\", \"statistic\": \"Placed June deadline applicants\", \"equality_dimension\": \"POLAR4 Q5\", \"agegroup\": \"18 year olds\", \"value\": 810.0}, {\"inst_all\": \"K60 Kings College London University of London\", \"Cycle\": \"2013-01-01T00:00:00\", \"statistic\": \"Placed June deadline applicants\", \"equality_dimension\": \"POLAR4 Q1\", \"agegroup\": \"18 year olds\", \"value\": 60.0}, {\"inst_all\": \"K60 Kings College London University of London\", \"Cycle\": \"2013-01-01T00:00:00\", \"statistic\": \"Placed June deadline applicants\", \"equality_dimension\": \"POLAR4 Q2\", \"agegroup\": \"18 year olds\", \"value\": 105.0}, {\"inst_all\": \"K60 Kings College London University of London\", \"Cycle\": \"2013-01-01T00:00:00\", \"statistic\": \"Placed June deadline applicants\", \"equality_dimension\": \"POLAR4 Q3\", \"agegroup\": \"18 year olds\", \"value\": 230.0}, {\"inst_all\": \"K60 Kings College London University of London\", \"Cycle\": \"2013-01-01T00:00:00\", \"statistic\": \"Placed June deadline applicants\", \"equality_dimension\": \"POLAR4 Q4\", \"agegroup\": \"18 year olds\", \"value\": 370.0}, {\"inst_all\": \"K60 Kings College London University of London\", \"Cycle\": \"2013-01-01T00:00:00\", \"statistic\": \"Placed June deadline applicants\", \"equality_dimension\": \"POLAR4 Q5\", \"agegroup\": \"18 year olds\", \"value\": 800.0}, {\"inst_all\": \"K60 Kings College London University of London\", \"Cycle\": \"2014-01-01T00:00:00\", \"statistic\": \"Placed June deadline applicants\", \"equality_dimension\": \"POLAR4 Q1\", \"agegroup\": \"18 year olds\", \"value\": 90.0}, {\"inst_all\": \"K60 Kings College London University of London\", \"Cycle\": \"2014-01-01T00:00:00\", \"statistic\": \"Placed June deadline applicants\", \"equality_dimension\": \"POLAR4 Q2\", \"agegroup\": \"18 year olds\", \"value\": 165.0}, {\"inst_all\": \"K60 Kings College London University of London\", \"Cycle\": \"2014-01-01T00:00:00\", \"statistic\": \"Placed June deadline applicants\", \"equality_dimension\": \"POLAR4 Q3\", \"agegroup\": \"18 year olds\", \"value\": 250.0}, {\"inst_all\": \"K60 Kings College London University of London\", \"Cycle\": \"2014-01-01T00:00:00\", \"statistic\": \"Placed June deadline applicants\", \"equality_dimension\": \"POLAR4 Q4\", \"agegroup\": \"18 year olds\", \"value\": 410.0}, {\"inst_all\": \"K60 Kings College London University of London\", \"Cycle\": \"2014-01-01T00:00:00\", \"statistic\": \"Placed June deadline applicants\", \"equality_dimension\": \"POLAR4 Q5\", \"agegroup\": \"18 year olds\", \"value\": 805.0}, {\"inst_all\": \"K60 Kings College London University of London\", \"Cycle\": \"2015-01-01T00:00:00\", \"statistic\": \"Placed June deadline applicants\", \"equality_dimension\": \"POLAR4 Q1\", \"agegroup\": \"18 year olds\", \"value\": 85.0}, {\"inst_all\": \"K60 Kings College London University of London\", \"Cycle\": \"2015-01-01T00:00:00\", \"statistic\": \"Placed June deadline applicants\", \"equality_dimension\": \"POLAR4 Q2\", \"agegroup\": \"18 year olds\", \"value\": 170.0}, {\"inst_all\": \"K60 Kings College London University of London\", \"Cycle\": \"2015-01-01T00:00:00\", \"statistic\": \"Placed June deadline applicants\", \"equality_dimension\": \"POLAR4 Q3\", \"agegroup\": \"18 year olds\", \"value\": 245.0}, {\"inst_all\": \"K60 Kings College London University of London\", \"Cycle\": \"2015-01-01T00:00:00\", \"statistic\": \"Placed June deadline applicants\", \"equality_dimension\": \"POLAR4 Q4\", \"agegroup\": \"18 year olds\", \"value\": 445.0}, {\"inst_all\": \"K60 Kings College London University of London\", \"Cycle\": \"2015-01-01T00:00:00\", \"statistic\": \"Placed June deadline applicants\", \"equality_dimension\": \"POLAR4 Q5\", \"agegroup\": \"18 year olds\", \"value\": 775.0}, {\"inst_all\": \"K60 Kings College London University of London\", \"Cycle\": \"2016-01-01T00:00:00\", \"statistic\": \"Placed June deadline applicants\", \"equality_dimension\": \"POLAR4 Q1\", \"agegroup\": \"18 year olds\", \"value\": 75.0}, {\"inst_all\": \"K60 Kings College London University of London\", \"Cycle\": \"2016-01-01T00:00:00\", \"statistic\": \"Placed June deadline applicants\", \"equality_dimension\": \"POLAR4 Q2\", \"agegroup\": \"18 year olds\", \"value\": 150.0}, {\"inst_all\": \"K60 Kings College London University of London\", \"Cycle\": \"2016-01-01T00:00:00\", \"statistic\": \"Placed June deadline applicants\", \"equality_dimension\": \"POLAR4 Q3\", \"agegroup\": \"18 year olds\", \"value\": 245.0}, {\"inst_all\": \"K60 Kings College London University of London\", \"Cycle\": \"2016-01-01T00:00:00\", \"statistic\": \"Placed June deadline applicants\", \"equality_dimension\": \"POLAR4 Q4\", \"agegroup\": \"18 year olds\", \"value\": 470.0}, {\"inst_all\": \"K60 Kings College London University of London\", \"Cycle\": \"2016-01-01T00:00:00\", \"statistic\": \"Placed June deadline applicants\", \"equality_dimension\": \"POLAR4 Q5\", \"agegroup\": \"18 year olds\", \"value\": 840.0}, {\"inst_all\": \"K60 Kings College London University of London\", \"Cycle\": \"2017-01-01T00:00:00\", \"statistic\": \"Placed June deadline applicants\", \"equality_dimension\": \"POLAR4 Q1\", \"agegroup\": \"18 year olds\", \"value\": 70.0}, {\"inst_all\": \"K60 Kings College London University of London\", \"Cycle\": \"2017-01-01T00:00:00\", \"statistic\": \"Placed June deadline applicants\", \"equality_dimension\": \"POLAR4 Q2\", \"agegroup\": \"18 year olds\", \"value\": 140.0}, {\"inst_all\": \"K60 Kings College London University of London\", \"Cycle\": \"2017-01-01T00:00:00\", \"statistic\": \"Placed June deadline applicants\", \"equality_dimension\": \"POLAR4 Q3\", \"agegroup\": \"18 year olds\", \"value\": 265.0}, {\"inst_all\": \"K60 Kings College London University of London\", \"Cycle\": \"2017-01-01T00:00:00\", \"statistic\": \"Placed June deadline applicants\", \"equality_dimension\": \"POLAR4 Q4\", \"agegroup\": \"18 year olds\", \"value\": 490.0}, {\"inst_all\": \"K60 Kings College London University of London\", \"Cycle\": \"2017-01-01T00:00:00\", \"statistic\": \"Placed June deadline applicants\", \"equality_dimension\": \"POLAR4 Q5\", \"agegroup\": \"18 year olds\", \"value\": 805.0}, {\"inst_all\": \"K60 Kings College London University of London\", \"Cycle\": \"2018-01-01T00:00:00\", \"statistic\": \"Placed June deadline applicants\", \"equality_dimension\": \"POLAR4 Q1\", \"agegroup\": \"18 year olds\", \"value\": 55.0}, {\"inst_all\": \"K60 Kings College London University of London\", \"Cycle\": \"2018-01-01T00:00:00\", \"statistic\": \"Placed June deadline applicants\", \"equality_dimension\": \"POLAR4 Q2\", \"agegroup\": \"18 year olds\", \"value\": 120.0}, {\"inst_all\": \"K60 Kings College London University of London\", \"Cycle\": \"2018-01-01T00:00:00\", \"statistic\": \"Placed June deadline applicants\", \"equality_dimension\": \"POLAR4 Q3\", \"agegroup\": \"18 year olds\", \"value\": 240.0}, {\"inst_all\": \"K60 Kings College London University of London\", \"Cycle\": \"2018-01-01T00:00:00\", \"statistic\": \"Placed June deadline applicants\", \"equality_dimension\": \"POLAR4 Q4\", \"agegroup\": \"18 year olds\", \"value\": 440.0}, {\"inst_all\": \"K60 Kings College London University of London\", \"Cycle\": \"2018-01-01T00:00:00\", \"statistic\": \"Placed June deadline applicants\", \"equality_dimension\": \"POLAR4 Q5\", \"agegroup\": \"18 year olds\", \"value\": 730.0}, {\"inst_all\": \"K60 Kings College London University of London\", \"Cycle\": \"2019-01-01T00:00:00\", \"statistic\": \"Placed June deadline applicants\", \"equality_dimension\": \"POLAR4 Q1\", \"agegroup\": \"18 year olds\", \"value\": 60.0}, {\"inst_all\": \"K60 Kings College London University of London\", \"Cycle\": \"2019-01-01T00:00:00\", \"statistic\": \"Placed June deadline applicants\", \"equality_dimension\": \"POLAR4 Q2\", \"agegroup\": \"18 year olds\", \"value\": 130.0}, {\"inst_all\": \"K60 Kings College London University of London\", \"Cycle\": \"2019-01-01T00:00:00\", \"statistic\": \"Placed June deadline applicants\", \"equality_dimension\": \"POLAR4 Q3\", \"agegroup\": \"18 year olds\", \"value\": 265.0}, {\"inst_all\": \"K60 Kings College London University of London\", \"Cycle\": \"2019-01-01T00:00:00\", \"statistic\": \"Placed June deadline applicants\", \"equality_dimension\": \"POLAR4 Q4\", \"agegroup\": \"18 year olds\", \"value\": 490.0}, {\"inst_all\": \"K60 Kings College London University of London\", \"Cycle\": \"2019-01-01T00:00:00\", \"statistic\": \"Placed June deadline applicants\", \"equality_dimension\": \"POLAR4 Q5\", \"agegroup\": \"18 year olds\", \"value\": 755.0}, {\"inst_all\": \"K60 Kings College London University of London\", \"Cycle\": \"2020-01-01T00:00:00\", \"statistic\": \"Placed June deadline applicants\", \"equality_dimension\": \"POLAR4 Q1\", \"agegroup\": \"18 year olds\", \"value\": 95.0}, {\"inst_all\": \"K60 Kings College London University of London\", \"Cycle\": \"2020-01-01T00:00:00\", \"statistic\": \"Placed June deadline applicants\", \"equality_dimension\": \"POLAR4 Q2\", \"agegroup\": \"18 year olds\", \"value\": 180.0}, {\"inst_all\": \"K60 Kings College London University of London\", \"Cycle\": \"2020-01-01T00:00:00\", \"statistic\": \"Placed June deadline applicants\", \"equality_dimension\": \"POLAR4 Q3\", \"agegroup\": \"18 year olds\", \"value\": 310.0}, {\"inst_all\": \"K60 Kings College London University of London\", \"Cycle\": \"2020-01-01T00:00:00\", \"statistic\": \"Placed June deadline applicants\", \"equality_dimension\": \"POLAR4 Q4\", \"agegroup\": \"18 year olds\", \"value\": 610.0}, {\"inst_all\": \"K60 Kings College London University of London\", \"Cycle\": \"2020-01-01T00:00:00\", \"statistic\": \"Placed June deadline applicants\", \"equality_dimension\": \"POLAR4 Q5\", \"agegroup\": \"18 year olds\", \"value\": 780.0}, {\"inst_all\": \"K60 Kings College London University of London\", \"Cycle\": \"2021-01-01T00:00:00\", \"statistic\": \"Placed June deadline applicants\", \"equality_dimension\": \"POLAR4 Q1\", \"agegroup\": \"18 year olds\", \"value\": 185.0}, {\"inst_all\": \"K60 Kings College London University of London\", \"Cycle\": \"2021-01-01T00:00:00\", \"statistic\": \"Placed June deadline applicants\", \"equality_dimension\": \"POLAR4 Q2\", \"agegroup\": \"18 year olds\", \"value\": 325.0}, {\"inst_all\": \"K60 Kings College London University of London\", \"Cycle\": \"2021-01-01T00:00:00\", \"statistic\": \"Placed June deadline applicants\", \"equality_dimension\": \"POLAR4 Q3\", \"agegroup\": \"18 year olds\", \"value\": 500.0}, {\"inst_all\": \"K60 Kings College London University of London\", \"Cycle\": \"2021-01-01T00:00:00\", \"statistic\": \"Placed June deadline applicants\", \"equality_dimension\": \"POLAR4 Q4\", \"agegroup\": \"18 year olds\", \"value\": 1020.0}, {\"inst_all\": \"K60 Kings College London University of London\", \"Cycle\": \"2021-01-01T00:00:00\", \"statistic\": \"Placed June deadline applicants\", \"equality_dimension\": \"POLAR4 Q5\", \"agegroup\": \"18 year olds\", \"value\": 1325.0}, {\"inst_all\": \"M20 University of Manchester\", \"Cycle\": \"2010-01-01T00:00:00\", \"statistic\": \"Placed June deadline applicants\", \"equality_dimension\": \"POLAR4 Q1\", \"agegroup\": \"18 year olds\", \"value\": 245.0}, {\"inst_all\": \"M20 University of Manchester\", \"Cycle\": \"2010-01-01T00:00:00\", \"statistic\": \"Placed June deadline applicants\", \"equality_dimension\": \"POLAR4 Q2\", \"agegroup\": \"18 year olds\", \"value\": 510.0}, {\"inst_all\": \"M20 University of Manchester\", \"Cycle\": \"2010-01-01T00:00:00\", \"statistic\": \"Placed June deadline applicants\", \"equality_dimension\": \"POLAR4 Q3\", \"agegroup\": \"18 year olds\", \"value\": 680.0}, {\"inst_all\": \"M20 University of Manchester\", \"Cycle\": \"2010-01-01T00:00:00\", \"statistic\": \"Placed June deadline applicants\", \"equality_dimension\": \"POLAR4 Q4\", \"agegroup\": \"18 year olds\", \"value\": 955.0}, {\"inst_all\": \"M20 University of Manchester\", \"Cycle\": \"2010-01-01T00:00:00\", \"statistic\": \"Placed June deadline applicants\", \"equality_dimension\": \"POLAR4 Q5\", \"agegroup\": \"18 year olds\", \"value\": 1845.0}, {\"inst_all\": \"M20 University of Manchester\", \"Cycle\": \"2011-01-01T00:00:00\", \"statistic\": \"Placed June deadline applicants\", \"equality_dimension\": \"POLAR4 Q1\", \"agegroup\": \"18 year olds\", \"value\": 205.0}, {\"inst_all\": \"M20 University of Manchester\", \"Cycle\": \"2011-01-01T00:00:00\", \"statistic\": \"Placed June deadline applicants\", \"equality_dimension\": \"POLAR4 Q2\", \"agegroup\": \"18 year olds\", \"value\": 420.0}, {\"inst_all\": \"M20 University of Manchester\", \"Cycle\": \"2011-01-01T00:00:00\", \"statistic\": \"Placed June deadline applicants\", \"equality_dimension\": \"POLAR4 Q3\", \"agegroup\": \"18 year olds\", \"value\": 580.0}, {\"inst_all\": \"M20 University of Manchester\", \"Cycle\": \"2011-01-01T00:00:00\", \"statistic\": \"Placed June deadline applicants\", \"equality_dimension\": \"POLAR4 Q4\", \"agegroup\": \"18 year olds\", \"value\": 850.0}, {\"inst_all\": \"M20 University of Manchester\", \"Cycle\": \"2011-01-01T00:00:00\", \"statistic\": \"Placed June deadline applicants\", \"equality_dimension\": \"POLAR4 Q5\", \"agegroup\": \"18 year olds\", \"value\": 1670.0}, {\"inst_all\": \"M20 University of Manchester\", \"Cycle\": \"2012-01-01T00:00:00\", \"statistic\": \"Placed June deadline applicants\", \"equality_dimension\": \"POLAR4 Q1\", \"agegroup\": \"18 year olds\", \"value\": 230.0}, {\"inst_all\": \"M20 University of Manchester\", \"Cycle\": \"2012-01-01T00:00:00\", \"statistic\": \"Placed June deadline applicants\", \"equality_dimension\": \"POLAR4 Q2\", \"agegroup\": \"18 year olds\", \"value\": 475.0}, {\"inst_all\": \"M20 University of Manchester\", \"Cycle\": \"2012-01-01T00:00:00\", \"statistic\": \"Placed June deadline applicants\", \"equality_dimension\": \"POLAR4 Q3\", \"agegroup\": \"18 year olds\", \"value\": 560.0}, {\"inst_all\": \"M20 University of Manchester\", \"Cycle\": \"2012-01-01T00:00:00\", \"statistic\": \"Placed June deadline applicants\", \"equality_dimension\": \"POLAR4 Q4\", \"agegroup\": \"18 year olds\", \"value\": 765.0}, {\"inst_all\": \"M20 University of Manchester\", \"Cycle\": \"2012-01-01T00:00:00\", \"statistic\": \"Placed June deadline applicants\", \"equality_dimension\": \"POLAR4 Q5\", \"agegroup\": \"18 year olds\", \"value\": 1560.0}, {\"inst_all\": \"M20 University of Manchester\", \"Cycle\": \"2013-01-01T00:00:00\", \"statistic\": \"Placed June deadline applicants\", \"equality_dimension\": \"POLAR4 Q1\", \"agegroup\": \"18 year olds\", \"value\": 270.0}, {\"inst_all\": \"M20 University of Manchester\", \"Cycle\": \"2013-01-01T00:00:00\", \"statistic\": \"Placed June deadline applicants\", \"equality_dimension\": \"POLAR4 Q2\", \"agegroup\": \"18 year olds\", \"value\": 455.0}, {\"inst_all\": \"M20 University of Manchester\", \"Cycle\": \"2013-01-01T00:00:00\", \"statistic\": \"Placed June deadline applicants\", \"equality_dimension\": \"POLAR4 Q3\", \"agegroup\": \"18 year olds\", \"value\": 635.0}, {\"inst_all\": \"M20 University of Manchester\", \"Cycle\": \"2013-01-01T00:00:00\", \"statistic\": \"Placed June deadline applicants\", \"equality_dimension\": \"POLAR4 Q4\", \"agegroup\": \"18 year olds\", \"value\": 890.0}, {\"inst_all\": \"M20 University of Manchester\", \"Cycle\": \"2013-01-01T00:00:00\", \"statistic\": \"Placed June deadline applicants\", \"equality_dimension\": \"POLAR4 Q5\", \"agegroup\": \"18 year olds\", \"value\": 1600.0}, {\"inst_all\": \"M20 University of Manchester\", \"Cycle\": \"2014-01-01T00:00:00\", \"statistic\": \"Placed June deadline applicants\", \"equality_dimension\": \"POLAR4 Q1\", \"agegroup\": \"18 year olds\", \"value\": 280.0}, {\"inst_all\": \"M20 University of Manchester\", \"Cycle\": \"2014-01-01T00:00:00\", \"statistic\": \"Placed June deadline applicants\", \"equality_dimension\": \"POLAR4 Q2\", \"agegroup\": \"18 year olds\", \"value\": 510.0}, {\"inst_all\": \"M20 University of Manchester\", \"Cycle\": \"2014-01-01T00:00:00\", \"statistic\": \"Placed June deadline applicants\", \"equality_dimension\": \"POLAR4 Q3\", \"agegroup\": \"18 year olds\", \"value\": 635.0}, {\"inst_all\": \"M20 University of Manchester\", \"Cycle\": \"2014-01-01T00:00:00\", \"statistic\": \"Placed June deadline applicants\", \"equality_dimension\": \"POLAR4 Q4\", \"agegroup\": \"18 year olds\", \"value\": 850.0}, {\"inst_all\": \"M20 University of Manchester\", \"Cycle\": \"2014-01-01T00:00:00\", \"statistic\": \"Placed June deadline applicants\", \"equality_dimension\": \"POLAR4 Q5\", \"agegroup\": \"18 year olds\", \"value\": 1675.0}, {\"inst_all\": \"M20 University of Manchester\", \"Cycle\": \"2015-01-01T00:00:00\", \"statistic\": \"Placed June deadline applicants\", \"equality_dimension\": \"POLAR4 Q1\", \"agegroup\": \"18 year olds\", \"value\": 270.0}, {\"inst_all\": \"M20 University of Manchester\", \"Cycle\": \"2015-01-01T00:00:00\", \"statistic\": \"Placed June deadline applicants\", \"equality_dimension\": \"POLAR4 Q2\", \"agegroup\": \"18 year olds\", \"value\": 470.0}, {\"inst_all\": \"M20 University of Manchester\", \"Cycle\": \"2015-01-01T00:00:00\", \"statistic\": \"Placed June deadline applicants\", \"equality_dimension\": \"POLAR4 Q3\", \"agegroup\": \"18 year olds\", \"value\": 690.0}, {\"inst_all\": \"M20 University of Manchester\", \"Cycle\": \"2015-01-01T00:00:00\", \"statistic\": \"Placed June deadline applicants\", \"equality_dimension\": \"POLAR4 Q4\", \"agegroup\": \"18 year olds\", \"value\": 885.0}, {\"inst_all\": \"M20 University of Manchester\", \"Cycle\": \"2015-01-01T00:00:00\", \"statistic\": \"Placed June deadline applicants\", \"equality_dimension\": \"POLAR4 Q5\", \"agegroup\": \"18 year olds\", \"value\": 1640.0}, {\"inst_all\": \"M20 University of Manchester\", \"Cycle\": \"2016-01-01T00:00:00\", \"statistic\": \"Placed June deadline applicants\", \"equality_dimension\": \"POLAR4 Q1\", \"agegroup\": \"18 year olds\", \"value\": 255.0}, {\"inst_all\": \"M20 University of Manchester\", \"Cycle\": \"2016-01-01T00:00:00\", \"statistic\": \"Placed June deadline applicants\", \"equality_dimension\": \"POLAR4 Q2\", \"agegroup\": \"18 year olds\", \"value\": 485.0}, {\"inst_all\": \"M20 University of Manchester\", \"Cycle\": \"2016-01-01T00:00:00\", \"statistic\": \"Placed June deadline applicants\", \"equality_dimension\": \"POLAR4 Q3\", \"agegroup\": \"18 year olds\", \"value\": 595.0}, {\"inst_all\": \"M20 University of Manchester\", \"Cycle\": \"2016-01-01T00:00:00\", \"statistic\": \"Placed June deadline applicants\", \"equality_dimension\": \"POLAR4 Q4\", \"agegroup\": \"18 year olds\", \"value\": 895.0}, {\"inst_all\": \"M20 University of Manchester\", \"Cycle\": \"2016-01-01T00:00:00\", \"statistic\": \"Placed June deadline applicants\", \"equality_dimension\": \"POLAR4 Q5\", \"agegroup\": \"18 year olds\", \"value\": 1470.0}, {\"inst_all\": \"M20 University of Manchester\", \"Cycle\": \"2017-01-01T00:00:00\", \"statistic\": \"Placed June deadline applicants\", \"equality_dimension\": \"POLAR4 Q1\", \"agegroup\": \"18 year olds\", \"value\": 275.0}, {\"inst_all\": \"M20 University of Manchester\", \"Cycle\": \"2017-01-01T00:00:00\", \"statistic\": \"Placed June deadline applicants\", \"equality_dimension\": \"POLAR4 Q2\", \"agegroup\": \"18 year olds\", \"value\": 470.0}, {\"inst_all\": \"M20 University of Manchester\", \"Cycle\": \"2017-01-01T00:00:00\", \"statistic\": \"Placed June deadline applicants\", \"equality_dimension\": \"POLAR4 Q3\", \"agegroup\": \"18 year olds\", \"value\": 585.0}, {\"inst_all\": \"M20 University of Manchester\", \"Cycle\": \"2017-01-01T00:00:00\", \"statistic\": \"Placed June deadline applicants\", \"equality_dimension\": \"POLAR4 Q4\", \"agegroup\": \"18 year olds\", \"value\": 785.0}, {\"inst_all\": \"M20 University of Manchester\", \"Cycle\": \"2017-01-01T00:00:00\", \"statistic\": \"Placed June deadline applicants\", \"equality_dimension\": \"POLAR4 Q5\", \"agegroup\": \"18 year olds\", \"value\": 1360.0}, {\"inst_all\": \"M20 University of Manchester\", \"Cycle\": \"2018-01-01T00:00:00\", \"statistic\": \"Placed June deadline applicants\", \"equality_dimension\": \"POLAR4 Q1\", \"agegroup\": \"18 year olds\", \"value\": 240.0}, {\"inst_all\": \"M20 University of Manchester\", \"Cycle\": \"2018-01-01T00:00:00\", \"statistic\": \"Placed June deadline applicants\", \"equality_dimension\": \"POLAR4 Q2\", \"agegroup\": \"18 year olds\", \"value\": 405.0}, {\"inst_all\": \"M20 University of Manchester\", \"Cycle\": \"2018-01-01T00:00:00\", \"statistic\": \"Placed June deadline applicants\", \"equality_dimension\": \"POLAR4 Q3\", \"agegroup\": \"18 year olds\", \"value\": 580.0}, {\"inst_all\": \"M20 University of Manchester\", \"Cycle\": \"2018-01-01T00:00:00\", \"statistic\": \"Placed June deadline applicants\", \"equality_dimension\": \"POLAR4 Q4\", \"agegroup\": \"18 year olds\", \"value\": 810.0}, {\"inst_all\": \"M20 University of Manchester\", \"Cycle\": \"2018-01-01T00:00:00\", \"statistic\": \"Placed June deadline applicants\", \"equality_dimension\": \"POLAR4 Q5\", \"agegroup\": \"18 year olds\", \"value\": 1375.0}, {\"inst_all\": \"M20 University of Manchester\", \"Cycle\": \"2019-01-01T00:00:00\", \"statistic\": \"Placed June deadline applicants\", \"equality_dimension\": \"POLAR4 Q1\", \"agegroup\": \"18 year olds\", \"value\": 305.0}, {\"inst_all\": \"M20 University of Manchester\", \"Cycle\": \"2019-01-01T00:00:00\", \"statistic\": \"Placed June deadline applicants\", \"equality_dimension\": \"POLAR4 Q2\", \"agegroup\": \"18 year olds\", \"value\": 475.0}, {\"inst_all\": \"M20 University of Manchester\", \"Cycle\": \"2019-01-01T00:00:00\", \"statistic\": \"Placed June deadline applicants\", \"equality_dimension\": \"POLAR4 Q3\", \"agegroup\": \"18 year olds\", \"value\": 585.0}, {\"inst_all\": \"M20 University of Manchester\", \"Cycle\": \"2019-01-01T00:00:00\", \"statistic\": \"Placed June deadline applicants\", \"equality_dimension\": \"POLAR4 Q4\", \"agegroup\": \"18 year olds\", \"value\": 765.0}, {\"inst_all\": \"M20 University of Manchester\", \"Cycle\": \"2019-01-01T00:00:00\", \"statistic\": \"Placed June deadline applicants\", \"equality_dimension\": \"POLAR4 Q5\", \"agegroup\": \"18 year olds\", \"value\": 1460.0}, {\"inst_all\": \"M20 University of Manchester\", \"Cycle\": \"2020-01-01T00:00:00\", \"statistic\": \"Placed June deadline applicants\", \"equality_dimension\": \"POLAR4 Q1\", \"agegroup\": \"18 year olds\", \"value\": 340.0}, {\"inst_all\": \"M20 University of Manchester\", \"Cycle\": \"2020-01-01T00:00:00\", \"statistic\": \"Placed June deadline applicants\", \"equality_dimension\": \"POLAR4 Q2\", \"agegroup\": \"18 year olds\", \"value\": 505.0}, {\"inst_all\": \"M20 University of Manchester\", \"Cycle\": \"2020-01-01T00:00:00\", \"statistic\": \"Placed June deadline applicants\", \"equality_dimension\": \"POLAR4 Q3\", \"agegroup\": \"18 year olds\", \"value\": 640.0}, {\"inst_all\": \"M20 University of Manchester\", \"Cycle\": \"2020-01-01T00:00:00\", \"statistic\": \"Placed June deadline applicants\", \"equality_dimension\": \"POLAR4 Q4\", \"agegroup\": \"18 year olds\", \"value\": 810.0}, {\"inst_all\": \"M20 University of Manchester\", \"Cycle\": \"2020-01-01T00:00:00\", \"statistic\": \"Placed June deadline applicants\", \"equality_dimension\": \"POLAR4 Q5\", \"agegroup\": \"18 year olds\", \"value\": 1565.0}, {\"inst_all\": \"M20 University of Manchester\", \"Cycle\": \"2021-01-01T00:00:00\", \"statistic\": \"Placed June deadline applicants\", \"equality_dimension\": \"POLAR4 Q1\", \"agegroup\": \"18 year olds\", \"value\": 475.0}, {\"inst_all\": \"M20 University of Manchester\", \"Cycle\": \"2021-01-01T00:00:00\", \"statistic\": \"Placed June deadline applicants\", \"equality_dimension\": \"POLAR4 Q2\", \"agegroup\": \"18 year olds\", \"value\": 705.0}, {\"inst_all\": \"M20 University of Manchester\", \"Cycle\": \"2021-01-01T00:00:00\", \"statistic\": \"Placed June deadline applicants\", \"equality_dimension\": \"POLAR4 Q3\", \"agegroup\": \"18 year olds\", \"value\": 880.0}, {\"inst_all\": \"M20 University of Manchester\", \"Cycle\": \"2021-01-01T00:00:00\", \"statistic\": \"Placed June deadline applicants\", \"equality_dimension\": \"POLAR4 Q4\", \"agegroup\": \"18 year olds\", \"value\": 1255.0}, {\"inst_all\": \"M20 University of Manchester\", \"Cycle\": \"2021-01-01T00:00:00\", \"statistic\": \"Placed June deadline applicants\", \"equality_dimension\": \"POLAR4 Q5\", \"agegroup\": \"18 year olds\", \"value\": 2325.0}, {\"inst_all\": \"S18 University of Sheffield\", \"Cycle\": \"2010-01-01T00:00:00\", \"statistic\": \"Placed June deadline applicants\", \"equality_dimension\": \"POLAR4 Q1\", \"agegroup\": \"18 year olds\", \"value\": 190.0}, {\"inst_all\": \"S18 University of Sheffield\", \"Cycle\": \"2010-01-01T00:00:00\", \"statistic\": \"Placed June deadline applicants\", \"equality_dimension\": \"POLAR4 Q2\", \"agegroup\": \"18 year olds\", \"value\": 335.0}, {\"inst_all\": \"S18 University of Sheffield\", \"Cycle\": \"2010-01-01T00:00:00\", \"statistic\": \"Placed June deadline applicants\", \"equality_dimension\": \"POLAR4 Q3\", \"agegroup\": \"18 year olds\", \"value\": 475.0}, {\"inst_all\": \"S18 University of Sheffield\", \"Cycle\": \"2010-01-01T00:00:00\", \"statistic\": \"Placed June deadline applicants\", \"equality_dimension\": \"POLAR4 Q4\", \"agegroup\": \"18 year olds\", \"value\": 695.0}, {\"inst_all\": \"S18 University of Sheffield\", \"Cycle\": \"2010-01-01T00:00:00\", \"statistic\": \"Placed June deadline applicants\", \"equality_dimension\": \"POLAR4 Q5\", \"agegroup\": \"18 year olds\", \"value\": 1255.0}, {\"inst_all\": \"S18 University of Sheffield\", \"Cycle\": \"2011-01-01T00:00:00\", \"statistic\": \"Placed June deadline applicants\", \"equality_dimension\": \"POLAR4 Q1\", \"agegroup\": \"18 year olds\", \"value\": 185.0}, {\"inst_all\": \"S18 University of Sheffield\", \"Cycle\": \"2011-01-01T00:00:00\", \"statistic\": \"Placed June deadline applicants\", \"equality_dimension\": \"POLAR4 Q2\", \"agegroup\": \"18 year olds\", \"value\": 325.0}, {\"inst_all\": \"S18 University of Sheffield\", \"Cycle\": \"2011-01-01T00:00:00\", \"statistic\": \"Placed June deadline applicants\", \"equality_dimension\": \"POLAR4 Q3\", \"agegroup\": \"18 year olds\", \"value\": 435.0}, {\"inst_all\": \"S18 University of Sheffield\", \"Cycle\": \"2011-01-01T00:00:00\", \"statistic\": \"Placed June deadline applicants\", \"equality_dimension\": \"POLAR4 Q4\", \"agegroup\": \"18 year olds\", \"value\": 665.0}, {\"inst_all\": \"S18 University of Sheffield\", \"Cycle\": \"2011-01-01T00:00:00\", \"statistic\": \"Placed June deadline applicants\", \"equality_dimension\": \"POLAR4 Q5\", \"agegroup\": \"18 year olds\", \"value\": 1240.0}, {\"inst_all\": \"S18 University of Sheffield\", \"Cycle\": \"2012-01-01T00:00:00\", \"statistic\": \"Placed June deadline applicants\", \"equality_dimension\": \"POLAR4 Q1\", \"agegroup\": \"18 year olds\", \"value\": 160.0}, {\"inst_all\": \"S18 University of Sheffield\", \"Cycle\": \"2012-01-01T00:00:00\", \"statistic\": \"Placed June deadline applicants\", \"equality_dimension\": \"POLAR4 Q2\", \"agegroup\": \"18 year olds\", \"value\": 330.0}, {\"inst_all\": \"S18 University of Sheffield\", \"Cycle\": \"2012-01-01T00:00:00\", \"statistic\": \"Placed June deadline applicants\", \"equality_dimension\": \"POLAR4 Q3\", \"agegroup\": \"18 year olds\", \"value\": 395.0}, {\"inst_all\": \"S18 University of Sheffield\", \"Cycle\": \"2012-01-01T00:00:00\", \"statistic\": \"Placed June deadline applicants\", \"equality_dimension\": \"POLAR4 Q4\", \"agegroup\": \"18 year olds\", \"value\": 595.0}, {\"inst_all\": \"S18 University of Sheffield\", \"Cycle\": \"2012-01-01T00:00:00\", \"statistic\": \"Placed June deadline applicants\", \"equality_dimension\": \"POLAR4 Q5\", \"agegroup\": \"18 year olds\", \"value\": 1130.0}, {\"inst_all\": \"S18 University of Sheffield\", \"Cycle\": \"2013-01-01T00:00:00\", \"statistic\": \"Placed June deadline applicants\", \"equality_dimension\": \"POLAR4 Q1\", \"agegroup\": \"18 year olds\", \"value\": 225.0}, {\"inst_all\": \"S18 University of Sheffield\", \"Cycle\": \"2013-01-01T00:00:00\", \"statistic\": \"Placed June deadline applicants\", \"equality_dimension\": \"POLAR4 Q2\", \"agegroup\": \"18 year olds\", \"value\": 355.0}, {\"inst_all\": \"S18 University of Sheffield\", \"Cycle\": \"2013-01-01T00:00:00\", \"statistic\": \"Placed June deadline applicants\", \"equality_dimension\": \"POLAR4 Q3\", \"agegroup\": \"18 year olds\", \"value\": 505.0}, {\"inst_all\": \"S18 University of Sheffield\", \"Cycle\": \"2013-01-01T00:00:00\", \"statistic\": \"Placed June deadline applicants\", \"equality_dimension\": \"POLAR4 Q4\", \"agegroup\": \"18 year olds\", \"value\": 660.0}, {\"inst_all\": \"S18 University of Sheffield\", \"Cycle\": \"2013-01-01T00:00:00\", \"statistic\": \"Placed June deadline applicants\", \"equality_dimension\": \"POLAR4 Q5\", \"agegroup\": \"18 year olds\", \"value\": 1350.0}, {\"inst_all\": \"S18 University of Sheffield\", \"Cycle\": \"2014-01-01T00:00:00\", \"statistic\": \"Placed June deadline applicants\", \"equality_dimension\": \"POLAR4 Q1\", \"agegroup\": \"18 year olds\", \"value\": 225.0}, {\"inst_all\": \"S18 University of Sheffield\", \"Cycle\": \"2014-01-01T00:00:00\", \"statistic\": \"Placed June deadline applicants\", \"equality_dimension\": \"POLAR4 Q2\", \"agegroup\": \"18 year olds\", \"value\": 410.0}, {\"inst_all\": \"S18 University of Sheffield\", \"Cycle\": \"2014-01-01T00:00:00\", \"statistic\": \"Placed June deadline applicants\", \"equality_dimension\": \"POLAR4 Q3\", \"agegroup\": \"18 year olds\", \"value\": 510.0}, {\"inst_all\": \"S18 University of Sheffield\", \"Cycle\": \"2014-01-01T00:00:00\", \"statistic\": \"Placed June deadline applicants\", \"equality_dimension\": \"POLAR4 Q4\", \"agegroup\": \"18 year olds\", \"value\": 650.0}, {\"inst_all\": \"S18 University of Sheffield\", \"Cycle\": \"2014-01-01T00:00:00\", \"statistic\": \"Placed June deadline applicants\", \"equality_dimension\": \"POLAR4 Q5\", \"agegroup\": \"18 year olds\", \"value\": 1225.0}, {\"inst_all\": \"S18 University of Sheffield\", \"Cycle\": \"2015-01-01T00:00:00\", \"statistic\": \"Placed June deadline applicants\", \"equality_dimension\": \"POLAR4 Q1\", \"agegroup\": \"18 year olds\", \"value\": 240.0}, {\"inst_all\": \"S18 University of Sheffield\", \"Cycle\": \"2015-01-01T00:00:00\", \"statistic\": \"Placed June deadline applicants\", \"equality_dimension\": \"POLAR4 Q2\", \"agegroup\": \"18 year olds\", \"value\": 405.0}, {\"inst_all\": \"S18 University of Sheffield\", \"Cycle\": \"2015-01-01T00:00:00\", \"statistic\": \"Placed June deadline applicants\", \"equality_dimension\": \"POLAR4 Q3\", \"agegroup\": \"18 year olds\", \"value\": 495.0}, {\"inst_all\": \"S18 University of Sheffield\", \"Cycle\": \"2015-01-01T00:00:00\", \"statistic\": \"Placed June deadline applicants\", \"equality_dimension\": \"POLAR4 Q4\", \"agegroup\": \"18 year olds\", \"value\": 700.0}, {\"inst_all\": \"S18 University of Sheffield\", \"Cycle\": \"2015-01-01T00:00:00\", \"statistic\": \"Placed June deadline applicants\", \"equality_dimension\": \"POLAR4 Q5\", \"agegroup\": \"18 year olds\", \"value\": 1285.0}, {\"inst_all\": \"S18 University of Sheffield\", \"Cycle\": \"2016-01-01T00:00:00\", \"statistic\": \"Placed June deadline applicants\", \"equality_dimension\": \"POLAR4 Q1\", \"agegroup\": \"18 year olds\", \"value\": 230.0}, {\"inst_all\": \"S18 University of Sheffield\", \"Cycle\": \"2016-01-01T00:00:00\", \"statistic\": \"Placed June deadline applicants\", \"equality_dimension\": \"POLAR4 Q2\", \"agegroup\": \"18 year olds\", \"value\": 365.0}, {\"inst_all\": \"S18 University of Sheffield\", \"Cycle\": \"2016-01-01T00:00:00\", \"statistic\": \"Placed June deadline applicants\", \"equality_dimension\": \"POLAR4 Q3\", \"agegroup\": \"18 year olds\", \"value\": 490.0}, {\"inst_all\": \"S18 University of Sheffield\", \"Cycle\": \"2016-01-01T00:00:00\", \"statistic\": \"Placed June deadline applicants\", \"equality_dimension\": \"POLAR4 Q4\", \"agegroup\": \"18 year olds\", \"value\": 665.0}, {\"inst_all\": \"S18 University of Sheffield\", \"Cycle\": \"2016-01-01T00:00:00\", \"statistic\": \"Placed June deadline applicants\", \"equality_dimension\": \"POLAR4 Q5\", \"agegroup\": \"18 year olds\", \"value\": 1180.0}, {\"inst_all\": \"S18 University of Sheffield\", \"Cycle\": \"2017-01-01T00:00:00\", \"statistic\": \"Placed June deadline applicants\", \"equality_dimension\": \"POLAR4 Q1\", \"agegroup\": \"18 year olds\", \"value\": 195.0}, {\"inst_all\": \"S18 University of Sheffield\", \"Cycle\": \"2017-01-01T00:00:00\", \"statistic\": \"Placed June deadline applicants\", \"equality_dimension\": \"POLAR4 Q2\", \"agegroup\": \"18 year olds\", \"value\": 375.0}, {\"inst_all\": \"S18 University of Sheffield\", \"Cycle\": \"2017-01-01T00:00:00\", \"statistic\": \"Placed June deadline applicants\", \"equality_dimension\": \"POLAR4 Q3\", \"agegroup\": \"18 year olds\", \"value\": 465.0}, {\"inst_all\": \"S18 University of Sheffield\", \"Cycle\": \"2017-01-01T00:00:00\", \"statistic\": \"Placed June deadline applicants\", \"equality_dimension\": \"POLAR4 Q4\", \"agegroup\": \"18 year olds\", \"value\": 555.0}, {\"inst_all\": \"S18 University of Sheffield\", \"Cycle\": \"2017-01-01T00:00:00\", \"statistic\": \"Placed June deadline applicants\", \"equality_dimension\": \"POLAR4 Q5\", \"agegroup\": \"18 year olds\", \"value\": 1040.0}, {\"inst_all\": \"S18 University of Sheffield\", \"Cycle\": \"2018-01-01T00:00:00\", \"statistic\": \"Placed June deadline applicants\", \"equality_dimension\": \"POLAR4 Q1\", \"agegroup\": \"18 year olds\", \"value\": 235.0}, {\"inst_all\": \"S18 University of Sheffield\", \"Cycle\": \"2018-01-01T00:00:00\", \"statistic\": \"Placed June deadline applicants\", \"equality_dimension\": \"POLAR4 Q2\", \"agegroup\": \"18 year olds\", \"value\": 300.0}, {\"inst_all\": \"S18 University of Sheffield\", \"Cycle\": \"2018-01-01T00:00:00\", \"statistic\": \"Placed June deadline applicants\", \"equality_dimension\": \"POLAR4 Q3\", \"agegroup\": \"18 year olds\", \"value\": 360.0}, {\"inst_all\": \"S18 University of Sheffield\", \"Cycle\": \"2018-01-01T00:00:00\", \"statistic\": \"Placed June deadline applicants\", \"equality_dimension\": \"POLAR4 Q4\", \"agegroup\": \"18 year olds\", \"value\": 550.0}, {\"inst_all\": \"S18 University of Sheffield\", \"Cycle\": \"2018-01-01T00:00:00\", \"statistic\": \"Placed June deadline applicants\", \"equality_dimension\": \"POLAR4 Q5\", \"agegroup\": \"18 year olds\", \"value\": 945.0}, {\"inst_all\": \"S18 University of Sheffield\", \"Cycle\": \"2019-01-01T00:00:00\", \"statistic\": \"Placed June deadline applicants\", \"equality_dimension\": \"POLAR4 Q1\", \"agegroup\": \"18 year olds\", \"value\": 210.0}, {\"inst_all\": \"S18 University of Sheffield\", \"Cycle\": \"2019-01-01T00:00:00\", \"statistic\": \"Placed June deadline applicants\", \"equality_dimension\": \"POLAR4 Q2\", \"agegroup\": \"18 year olds\", \"value\": 285.0}, {\"inst_all\": \"S18 University of Sheffield\", \"Cycle\": \"2019-01-01T00:00:00\", \"statistic\": \"Placed June deadline applicants\", \"equality_dimension\": \"POLAR4 Q3\", \"agegroup\": \"18 year olds\", \"value\": 320.0}, {\"inst_all\": \"S18 University of Sheffield\", \"Cycle\": \"2019-01-01T00:00:00\", \"statistic\": \"Placed June deadline applicants\", \"equality_dimension\": \"POLAR4 Q4\", \"agegroup\": \"18 year olds\", \"value\": 440.0}, {\"inst_all\": \"S18 University of Sheffield\", \"Cycle\": \"2019-01-01T00:00:00\", \"statistic\": \"Placed June deadline applicants\", \"equality_dimension\": \"POLAR4 Q5\", \"agegroup\": \"18 year olds\", \"value\": 815.0}, {\"inst_all\": \"S18 University of Sheffield\", \"Cycle\": \"2020-01-01T00:00:00\", \"statistic\": \"Placed June deadline applicants\", \"equality_dimension\": \"POLAR4 Q1\", \"agegroup\": \"18 year olds\", \"value\": 285.0}, {\"inst_all\": \"S18 University of Sheffield\", \"Cycle\": \"2020-01-01T00:00:00\", \"statistic\": \"Placed June deadline applicants\", \"equality_dimension\": \"POLAR4 Q2\", \"agegroup\": \"18 year olds\", \"value\": 385.0}, {\"inst_all\": \"S18 University of Sheffield\", \"Cycle\": \"2020-01-01T00:00:00\", \"statistic\": \"Placed June deadline applicants\", \"equality_dimension\": \"POLAR4 Q3\", \"agegroup\": \"18 year olds\", \"value\": 415.0}, {\"inst_all\": \"S18 University of Sheffield\", \"Cycle\": \"2020-01-01T00:00:00\", \"statistic\": \"Placed June deadline applicants\", \"equality_dimension\": \"POLAR4 Q4\", \"agegroup\": \"18 year olds\", \"value\": 570.0}, {\"inst_all\": \"S18 University of Sheffield\", \"Cycle\": \"2020-01-01T00:00:00\", \"statistic\": \"Placed June deadline applicants\", \"equality_dimension\": \"POLAR4 Q5\", \"agegroup\": \"18 year olds\", \"value\": 1065.0}, {\"inst_all\": \"S18 University of Sheffield\", \"Cycle\": \"2021-01-01T00:00:00\", \"statistic\": \"Placed June deadline applicants\", \"equality_dimension\": \"POLAR4 Q1\", \"agegroup\": \"18 year olds\", \"value\": 345.0}, {\"inst_all\": \"S18 University of Sheffield\", \"Cycle\": \"2021-01-01T00:00:00\", \"statistic\": \"Placed June deadline applicants\", \"equality_dimension\": \"POLAR4 Q2\", \"agegroup\": \"18 year olds\", \"value\": 420.0}, {\"inst_all\": \"S18 University of Sheffield\", \"Cycle\": \"2021-01-01T00:00:00\", \"statistic\": \"Placed June deadline applicants\", \"equality_dimension\": \"POLAR4 Q3\", \"agegroup\": \"18 year olds\", \"value\": 505.0}, {\"inst_all\": \"S18 University of Sheffield\", \"Cycle\": \"2021-01-01T00:00:00\", \"statistic\": \"Placed June deadline applicants\", \"equality_dimension\": \"POLAR4 Q4\", \"agegroup\": \"18 year olds\", \"value\": 685.0}, {\"inst_all\": \"S18 University of Sheffield\", \"Cycle\": \"2021-01-01T00:00:00\", \"statistic\": \"Placed June deadline applicants\", \"equality_dimension\": \"POLAR4 Q5\", \"agegroup\": \"18 year olds\", \"value\": 1205.0}, {\"inst_all\": \"Y50 University of York\", \"Cycle\": \"2010-01-01T00:00:00\", \"statistic\": \"Placed June deadline applicants\", \"equality_dimension\": \"POLAR4 Q1\", \"agegroup\": \"18 year olds\", \"value\": 130.0}, {\"inst_all\": \"Y50 University of York\", \"Cycle\": \"2010-01-01T00:00:00\", \"statistic\": \"Placed June deadline applicants\", \"equality_dimension\": \"POLAR4 Q2\", \"agegroup\": \"18 year olds\", \"value\": 245.0}, {\"inst_all\": \"Y50 University of York\", \"Cycle\": \"2010-01-01T00:00:00\", \"statistic\": \"Placed June deadline applicants\", \"equality_dimension\": \"POLAR4 Q3\", \"agegroup\": \"18 year olds\", \"value\": 355.0}, {\"inst_all\": \"Y50 University of York\", \"Cycle\": \"2010-01-01T00:00:00\", \"statistic\": \"Placed June deadline applicants\", \"equality_dimension\": \"POLAR4 Q4\", \"agegroup\": \"18 year olds\", \"value\": 470.0}, {\"inst_all\": \"Y50 University of York\", \"Cycle\": \"2010-01-01T00:00:00\", \"statistic\": \"Placed June deadline applicants\", \"equality_dimension\": \"POLAR4 Q5\", \"agegroup\": \"18 year olds\", \"value\": 835.0}, {\"inst_all\": \"Y50 University of York\", \"Cycle\": \"2011-01-01T00:00:00\", \"statistic\": \"Placed June deadline applicants\", \"equality_dimension\": \"POLAR4 Q1\", \"agegroup\": \"18 year olds\", \"value\": 115.0}, {\"inst_all\": \"Y50 University of York\", \"Cycle\": \"2011-01-01T00:00:00\", \"statistic\": \"Placed June deadline applicants\", \"equality_dimension\": \"POLAR4 Q2\", \"agegroup\": \"18 year olds\", \"value\": 215.0}, {\"inst_all\": \"Y50 University of York\", \"Cycle\": \"2011-01-01T00:00:00\", \"statistic\": \"Placed June deadline applicants\", \"equality_dimension\": \"POLAR4 Q3\", \"agegroup\": \"18 year olds\", \"value\": 310.0}, {\"inst_all\": \"Y50 University of York\", \"Cycle\": \"2011-01-01T00:00:00\", \"statistic\": \"Placed June deadline applicants\", \"equality_dimension\": \"POLAR4 Q4\", \"agegroup\": \"18 year olds\", \"value\": 440.0}, {\"inst_all\": \"Y50 University of York\", \"Cycle\": \"2011-01-01T00:00:00\", \"statistic\": \"Placed June deadline applicants\", \"equality_dimension\": \"POLAR4 Q5\", \"agegroup\": \"18 year olds\", \"value\": 835.0}, {\"inst_all\": \"Y50 University of York\", \"Cycle\": \"2012-01-01T00:00:00\", \"statistic\": \"Placed June deadline applicants\", \"equality_dimension\": \"POLAR4 Q1\", \"agegroup\": \"18 year olds\", \"value\": 135.0}, {\"inst_all\": \"Y50 University of York\", \"Cycle\": \"2012-01-01T00:00:00\", \"statistic\": \"Placed June deadline applicants\", \"equality_dimension\": \"POLAR4 Q2\", \"agegroup\": \"18 year olds\", \"value\": 245.0}, {\"inst_all\": \"Y50 University of York\", \"Cycle\": \"2012-01-01T00:00:00\", \"statistic\": \"Placed June deadline applicants\", \"equality_dimension\": \"POLAR4 Q3\", \"agegroup\": \"18 year olds\", \"value\": 355.0}, {\"inst_all\": \"Y50 University of York\", \"Cycle\": \"2012-01-01T00:00:00\", \"statistic\": \"Placed June deadline applicants\", \"equality_dimension\": \"POLAR4 Q4\", \"agegroup\": \"18 year olds\", \"value\": 490.0}, {\"inst_all\": \"Y50 University of York\", \"Cycle\": \"2012-01-01T00:00:00\", \"statistic\": \"Placed June deadline applicants\", \"equality_dimension\": \"POLAR4 Q5\", \"agegroup\": \"18 year olds\", \"value\": 845.0}, {\"inst_all\": \"Y50 University of York\", \"Cycle\": \"2013-01-01T00:00:00\", \"statistic\": \"Placed June deadline applicants\", \"equality_dimension\": \"POLAR4 Q1\", \"agegroup\": \"18 year olds\", \"value\": 125.0}, {\"inst_all\": \"Y50 University of York\", \"Cycle\": \"2013-01-01T00:00:00\", \"statistic\": \"Placed June deadline applicants\", \"equality_dimension\": \"POLAR4 Q2\", \"agegroup\": \"18 year olds\", \"value\": 270.0}, {\"inst_all\": \"Y50 University of York\", \"Cycle\": \"2013-01-01T00:00:00\", \"statistic\": \"Placed June deadline applicants\", \"equality_dimension\": \"POLAR4 Q3\", \"agegroup\": \"18 year olds\", \"value\": 365.0}, {\"inst_all\": \"Y50 University of York\", \"Cycle\": \"2013-01-01T00:00:00\", \"statistic\": \"Placed June deadline applicants\", \"equality_dimension\": \"POLAR4 Q4\", \"agegroup\": \"18 year olds\", \"value\": 490.0}, {\"inst_all\": \"Y50 University of York\", \"Cycle\": \"2013-01-01T00:00:00\", \"statistic\": \"Placed June deadline applicants\", \"equality_dimension\": \"POLAR4 Q5\", \"agegroup\": \"18 year olds\", \"value\": 890.0}, {\"inst_all\": \"Y50 University of York\", \"Cycle\": \"2014-01-01T00:00:00\", \"statistic\": \"Placed June deadline applicants\", \"equality_dimension\": \"POLAR4 Q1\", \"agegroup\": \"18 year olds\", \"value\": 155.0}, {\"inst_all\": \"Y50 University of York\", \"Cycle\": \"2014-01-01T00:00:00\", \"statistic\": \"Placed June deadline applicants\", \"equality_dimension\": \"POLAR4 Q2\", \"agegroup\": \"18 year olds\", \"value\": 250.0}, {\"inst_all\": \"Y50 University of York\", \"Cycle\": \"2014-01-01T00:00:00\", \"statistic\": \"Placed June deadline applicants\", \"equality_dimension\": \"POLAR4 Q3\", \"agegroup\": \"18 year olds\", \"value\": 345.0}, {\"inst_all\": \"Y50 University of York\", \"Cycle\": \"2014-01-01T00:00:00\", \"statistic\": \"Placed June deadline applicants\", \"equality_dimension\": \"POLAR4 Q4\", \"agegroup\": \"18 year olds\", \"value\": 475.0}, {\"inst_all\": \"Y50 University of York\", \"Cycle\": \"2014-01-01T00:00:00\", \"statistic\": \"Placed June deadline applicants\", \"equality_dimension\": \"POLAR4 Q5\", \"agegroup\": \"18 year olds\", \"value\": 790.0}, {\"inst_all\": \"Y50 University of York\", \"Cycle\": \"2015-01-01T00:00:00\", \"statistic\": \"Placed June deadline applicants\", \"equality_dimension\": \"POLAR4 Q1\", \"agegroup\": \"18 year olds\", \"value\": 165.0}, {\"inst_all\": \"Y50 University of York\", \"Cycle\": \"2015-01-01T00:00:00\", \"statistic\": \"Placed June deadline applicants\", \"equality_dimension\": \"POLAR4 Q2\", \"agegroup\": \"18 year olds\", \"value\": 280.0}, {\"inst_all\": \"Y50 University of York\", \"Cycle\": \"2015-01-01T00:00:00\", \"statistic\": \"Placed June deadline applicants\", \"equality_dimension\": \"POLAR4 Q3\", \"agegroup\": \"18 year olds\", \"value\": 415.0}, {\"inst_all\": \"Y50 University of York\", \"Cycle\": \"2015-01-01T00:00:00\", \"statistic\": \"Placed June deadline applicants\", \"equality_dimension\": \"POLAR4 Q4\", \"agegroup\": \"18 year olds\", \"value\": 495.0}, {\"inst_all\": \"Y50 University of York\", \"Cycle\": \"2015-01-01T00:00:00\", \"statistic\": \"Placed June deadline applicants\", \"equality_dimension\": \"POLAR4 Q5\", \"agegroup\": \"18 year olds\", \"value\": 790.0}, {\"inst_all\": \"Y50 University of York\", \"Cycle\": \"2016-01-01T00:00:00\", \"statistic\": \"Placed June deadline applicants\", \"equality_dimension\": \"POLAR4 Q1\", \"agegroup\": \"18 year olds\", \"value\": 190.0}, {\"inst_all\": \"Y50 University of York\", \"Cycle\": \"2016-01-01T00:00:00\", \"statistic\": \"Placed June deadline applicants\", \"equality_dimension\": \"POLAR4 Q2\", \"agegroup\": \"18 year olds\", \"value\": 320.0}, {\"inst_all\": \"Y50 University of York\", \"Cycle\": \"2016-01-01T00:00:00\", \"statistic\": \"Placed June deadline applicants\", \"equality_dimension\": \"POLAR4 Q3\", \"agegroup\": \"18 year olds\", \"value\": 415.0}, {\"inst_all\": \"Y50 University of York\", \"Cycle\": \"2016-01-01T00:00:00\", \"statistic\": \"Placed June deadline applicants\", \"equality_dimension\": \"POLAR4 Q4\", \"agegroup\": \"18 year olds\", \"value\": 555.0}, {\"inst_all\": \"Y50 University of York\", \"Cycle\": \"2016-01-01T00:00:00\", \"statistic\": \"Placed June deadline applicants\", \"equality_dimension\": \"POLAR4 Q5\", \"agegroup\": \"18 year olds\", \"value\": 890.0}, {\"inst_all\": \"Y50 University of York\", \"Cycle\": \"2017-01-01T00:00:00\", \"statistic\": \"Placed June deadline applicants\", \"equality_dimension\": \"POLAR4 Q1\", \"agegroup\": \"18 year olds\", \"value\": 190.0}, {\"inst_all\": \"Y50 University of York\", \"Cycle\": \"2017-01-01T00:00:00\", \"statistic\": \"Placed June deadline applicants\", \"equality_dimension\": \"POLAR4 Q2\", \"agegroup\": \"18 year olds\", \"value\": 360.0}, {\"inst_all\": \"Y50 University of York\", \"Cycle\": \"2017-01-01T00:00:00\", \"statistic\": \"Placed June deadline applicants\", \"equality_dimension\": \"POLAR4 Q3\", \"agegroup\": \"18 year olds\", \"value\": 450.0}, {\"inst_all\": \"Y50 University of York\", \"Cycle\": \"2017-01-01T00:00:00\", \"statistic\": \"Placed June deadline applicants\", \"equality_dimension\": \"POLAR4 Q4\", \"agegroup\": \"18 year olds\", \"value\": 585.0}, {\"inst_all\": \"Y50 University of York\", \"Cycle\": \"2017-01-01T00:00:00\", \"statistic\": \"Placed June deadline applicants\", \"equality_dimension\": \"POLAR4 Q5\", \"agegroup\": \"18 year olds\", \"value\": 930.0}, {\"inst_all\": \"Y50 University of York\", \"Cycle\": \"2018-01-01T00:00:00\", \"statistic\": \"Placed June deadline applicants\", \"equality_dimension\": \"POLAR4 Q1\", \"agegroup\": \"18 year olds\", \"value\": 175.0}, {\"inst_all\": \"Y50 University of York\", \"Cycle\": \"2018-01-01T00:00:00\", \"statistic\": \"Placed June deadline applicants\", \"equality_dimension\": \"POLAR4 Q2\", \"agegroup\": \"18 year olds\", \"value\": 325.0}, {\"inst_all\": \"Y50 University of York\", \"Cycle\": \"2018-01-01T00:00:00\", \"statistic\": \"Placed June deadline applicants\", \"equality_dimension\": \"POLAR4 Q3\", \"agegroup\": \"18 year olds\", \"value\": 410.0}, {\"inst_all\": \"Y50 University of York\", \"Cycle\": \"2018-01-01T00:00:00\", \"statistic\": \"Placed June deadline applicants\", \"equality_dimension\": \"POLAR4 Q4\", \"agegroup\": \"18 year olds\", \"value\": 530.0}, {\"inst_all\": \"Y50 University of York\", \"Cycle\": \"2018-01-01T00:00:00\", \"statistic\": \"Placed June deadline applicants\", \"equality_dimension\": \"POLAR4 Q5\", \"agegroup\": \"18 year olds\", \"value\": 870.0}, {\"inst_all\": \"Y50 University of York\", \"Cycle\": \"2019-01-01T00:00:00\", \"statistic\": \"Placed June deadline applicants\", \"equality_dimension\": \"POLAR4 Q1\", \"agegroup\": \"18 year olds\", \"value\": 250.0}, {\"inst_all\": \"Y50 University of York\", \"Cycle\": \"2019-01-01T00:00:00\", \"statistic\": \"Placed June deadline applicants\", \"equality_dimension\": \"POLAR4 Q2\", \"agegroup\": \"18 year olds\", \"value\": 315.0}, {\"inst_all\": \"Y50 University of York\", \"Cycle\": \"2019-01-01T00:00:00\", \"statistic\": \"Placed June deadline applicants\", \"equality_dimension\": \"POLAR4 Q3\", \"agegroup\": \"18 year olds\", \"value\": 430.0}, {\"inst_all\": \"Y50 University of York\", \"Cycle\": \"2019-01-01T00:00:00\", \"statistic\": \"Placed June deadline applicants\", \"equality_dimension\": \"POLAR4 Q4\", \"agegroup\": \"18 year olds\", \"value\": 520.0}, {\"inst_all\": \"Y50 University of York\", \"Cycle\": \"2019-01-01T00:00:00\", \"statistic\": \"Placed June deadline applicants\", \"equality_dimension\": \"POLAR4 Q5\", \"agegroup\": \"18 year olds\", \"value\": 900.0}, {\"inst_all\": \"Y50 University of York\", \"Cycle\": \"2020-01-01T00:00:00\", \"statistic\": \"Placed June deadline applicants\", \"equality_dimension\": \"POLAR4 Q1\", \"agegroup\": \"18 year olds\", \"value\": 285.0}, {\"inst_all\": \"Y50 University of York\", \"Cycle\": \"2020-01-01T00:00:00\", \"statistic\": \"Placed June deadline applicants\", \"equality_dimension\": \"POLAR4 Q2\", \"agegroup\": \"18 year olds\", \"value\": 445.0}, {\"inst_all\": \"Y50 University of York\", \"Cycle\": \"2020-01-01T00:00:00\", \"statistic\": \"Placed June deadline applicants\", \"equality_dimension\": \"POLAR4 Q3\", \"agegroup\": \"18 year olds\", \"value\": 430.0}, {\"inst_all\": \"Y50 University of York\", \"Cycle\": \"2020-01-01T00:00:00\", \"statistic\": \"Placed June deadline applicants\", \"equality_dimension\": \"POLAR4 Q4\", \"agegroup\": \"18 year olds\", \"value\": 540.0}, {\"inst_all\": \"Y50 University of York\", \"Cycle\": \"2020-01-01T00:00:00\", \"statistic\": \"Placed June deadline applicants\", \"equality_dimension\": \"POLAR4 Q5\", \"agegroup\": \"18 year olds\", \"value\": 895.0}, {\"inst_all\": \"Y50 University of York\", \"Cycle\": \"2021-01-01T00:00:00\", \"statistic\": \"Placed June deadline applicants\", \"equality_dimension\": \"POLAR4 Q1\", \"agegroup\": \"18 year olds\", \"value\": 360.0}, {\"inst_all\": \"Y50 University of York\", \"Cycle\": \"2021-01-01T00:00:00\", \"statistic\": \"Placed June deadline applicants\", \"equality_dimension\": \"POLAR4 Q2\", \"agegroup\": \"18 year olds\", \"value\": 565.0}, {\"inst_all\": \"Y50 University of York\", \"Cycle\": \"2021-01-01T00:00:00\", \"statistic\": \"Placed June deadline applicants\", \"equality_dimension\": \"POLAR4 Q3\", \"agegroup\": \"18 year olds\", \"value\": 580.0}, {\"inst_all\": \"Y50 University of York\", \"Cycle\": \"2021-01-01T00:00:00\", \"statistic\": \"Placed June deadline applicants\", \"equality_dimension\": \"POLAR4 Q4\", \"agegroup\": \"18 year olds\", \"value\": 705.0}, {\"inst_all\": \"Y50 University of York\", \"Cycle\": \"2021-01-01T00:00:00\", \"statistic\": \"Placed June deadline applicants\", \"equality_dimension\": \"POLAR4 Q5\", \"agegroup\": \"18 year olds\", \"value\": 1260.0}]}}, {\"mode\": \"vega-lite\"});\n",
       "</script>"
      ],
      "text/plain": [
       "alt.FacetChart(...)"
      ]
     },
     "execution_count": 762,
     "metadata": {},
     "output_type": "execute_result"
    }
   ],
   "source": [
    "# plot placed June deadline applicants in 2010-2021 by university (faceted stacked area plot)\n",
    "chart = alt.Chart(placed_applicants)\\\n",
    ".mark_area(opacity=.8, stroke='white', strokeWidth=2)\\\n",
    ".encode(\n",
    "    x=alt.X('Cycle:T', title='Year'),\n",
    "    y=alt.Y('value:Q', title='Placed June deadline applicants (percentage)', stack='normalize'),\n",
    "    color=alt.Color('equality_dimension:N', title='POLAR4'),\n",
    "    tooltip=(\n",
    "        alt.Tooltip('inst_all:N', title='University'),\n",
    "        alt.Tooltip('equality_dimension:N', title='POLAR4'),\n",
    "        alt.Tooltip('value:Q', title='Placed June deadline applicants'),\n",
    "    )\n",
    ")\\\n",
    ".facet(\n",
    "    facet=alt.Facet('inst_all:N', title=None, sort=universities_order),\n",
    "    columns=2,\n",
    "    title={\n",
    "        'text': 'Placed June deadline applicants in 2010-2021 by university',\n",
    "        'anchor': 'middle',\n",
    "        'fontSize': 15,\n",
    "        'dy': -10\n",
    "    }\n",
    ")\n",
    "\n",
    "chart"
   ]
  },
  {
   "cell_type": "markdown",
   "id": "acf747ee",
   "metadata": {},
   "source": [
    "**Main point: University of Birmingham is average when it comes to the proportion of placed June deadline applicants from lower POLAR4 quintiles**\n",
    "\n",
    "\n",
    "---\n",
    "\n",
    "Here, we notice that the proportion of POLAR4 Q1 `Placed June deadline applicants` at University of Birmingham is relatively good compared to our benchmark universities, standing at ~10% of applicants across all POLAR4 quintiles. \n",
    "\n",
    "University of East Anglia does a bit better than the others for this metric, with ~12%, while King's College London does worse, with <5% (which is probably explained by the specificities of London applicants, who probably represent the majority of applications). \n",
    "\n",
    "The metric for quintiles Q1-Q3 is similarly good (relatively speaking) at UoB, at ~40% of all applicants. Yet again, East Anglia shines with ~50% of placed applicants in Q3 or lower, while King's lags behind for this metric at 30%. "
   ]
  },
  {
   "cell_type": "markdown",
   "id": "cbb4025e",
   "metadata": {},
   "source": [
    "#### Conclusion\n",
    "\n",
    "We observe that University of Birmingham has historically lagged behind on Widening Participation efforts compared to its peer universities (as identified by us) when looking at offer rates, which is one aspect of the application process that the university has arguably full control over. More specifically, the university has a very wide amplitude between its offer rates for higher and lower POLAR4 quintiles, and little improvement is to be noticed over time. In contrast, its peers either have much narrower amplitudes or have been starkly improving over the last decade. \n",
    "\n",
    "However, when looking at the outcomes of the process, UoB is average, with 10% and 40% of all June deadline applications being Q1 or ≤Q3, respectively. This metric is much more affected by external factors (ie where students choose to go). \n",
    "\n",
    "One potentially effective measure that UoB could implement to improve this would be to attempt to bring closer the gap between its offer rates to lower POLAR4 quintiles and the higher ones. We can assume (based on our current data analysis), that this could translate to much better outcomes in terms of Widening Participation for the university. "
   ]
  }
 ],
 "metadata": {
  "hide_input": false,
  "kernelspec": {
   "display_name": "Python 3 (ipykernel)",
   "language": "python",
   "name": "python3"
  },
  "language_info": {
   "codemirror_mode": {
    "name": "ipython",
    "version": 3
   },
   "file_extension": ".py",
   "mimetype": "text/x-python",
   "name": "python",
   "nbconvert_exporter": "python",
   "pygments_lexer": "ipython3",
   "version": "3.10.4"
  },
  "name": "Data Insight Analyst task - Unifrog.ipynb",
  "toc": {
   "base_numbering": 1,
   "nav_menu": {
    "height": "136.567px",
    "width": "252px"
   },
   "number_sections": true,
   "sideBar": true,
   "skip_h1_title": true,
   "title_cell": "Table of Contents",
   "title_sidebar": "Contents",
   "toc_cell": false,
   "toc_position": null,
   "toc_section_display": true,
   "toc_window_display": true
  },
  "varInspector": {
   "cols": {
    "lenName": 16,
    "lenType": 16,
    "lenVar": 40
   },
   "kernels_config": {
    "python": {
     "delete_cmd_postfix": "",
     "delete_cmd_prefix": "del ",
     "library": "var_list.py",
     "varRefreshCmd": "print(var_dic_list())"
    },
    "r": {
     "delete_cmd_postfix": ") ",
     "delete_cmd_prefix": "rm(",
     "library": "var_list.r",
     "varRefreshCmd": "cat(var_dic_list()) "
    }
   },
   "types_to_exclude": [
    "module",
    "function",
    "builtin_function_or_method",
    "instance",
    "_Feature"
   ],
   "window_display": false
  }
 },
 "nbformat": 4,
 "nbformat_minor": 5
}
